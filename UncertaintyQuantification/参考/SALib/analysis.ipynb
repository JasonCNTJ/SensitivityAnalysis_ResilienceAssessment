{
 "cells": [
  {
   "cell_type": "code",
   "execution_count": 4,
   "metadata": {},
   "outputs": [],
   "source": [
    "from model_definitions import wrapped_linear\n",
    "from SALib import ProblemSpec\n",
    "\n",
    "\n",
    "sp = ProblemSpec({\n",
    "    'names': ['a', 'b', 'x'],\n",
    "    'bounds': [\n",
    "        [-1, 0],\n",
    "        [-1, 0],\n",
    "        [-1, 1],\n",
    "    ],\n",
    "})\n",
    "\n",
    "if __name__ == \"main\":\n",
    "\n",
    "    (\n",
    "        sp.sample_sobol(2**6)\n",
    "        .evaluate(wrapped_linear, nprocs=1)\n",
    "        .analyze_sobol(nprocs=1)\n",
    "    )\n",
    "    print(sp.to_df())"
   ]
  }
 ],
 "metadata": {
  "kernelspec": {
   "display_name": "py310r",
   "language": "python",
   "name": "python3"
  },
  "language_info": {
   "codemirror_mode": {
    "name": "ipython",
    "version": 3
   },
   "file_extension": ".py",
   "mimetype": "text/x-python",
   "name": "python",
   "nbconvert_exporter": "python",
   "pygments_lexer": "ipython3",
   "version": "3.10.12"
  },
  "orig_nbformat": 4
 },
 "nbformat": 4,
 "nbformat_minor": 2
}
