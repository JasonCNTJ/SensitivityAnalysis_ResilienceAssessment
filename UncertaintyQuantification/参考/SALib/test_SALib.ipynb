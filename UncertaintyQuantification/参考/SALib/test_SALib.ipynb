{
 "cells": [
  {
   "cell_type": "markdown",
   "metadata": {},
   "source": [
    "# Wrapping an existing model\n",
    "SALib performs sensitivity analysis for any model that can be expressed in the form of `f(X)=Y`,\n",
    "where `X` is a matrix of inputs (often referred to as the model's factors)\n",
    "\n",
    "The analysis methods are independent of the model and can be applied non-intrusively such that it does not matter what\n",
    "`f` is.\n",
    "\n",
    "Typical model implementations take the form of `f(a, b, c, ...)=Y`. In other words, each model factor is supplied as a separate argument to the function. In such cases it is necessary to write a wrapper to allow use with SALib. This is illustrated here with a simple linear function:"
   ]
  },
  {
   "cell_type": "code",
   "execution_count": 1,
   "metadata": {},
   "outputs": [],
   "source": [
    "def linear(a, b, x):\n",
    "    \"\"\"\n",
    "    Return y = a + b + x\n",
    "    \"\"\"\n",
    "    return a + b + x"
   ]
  },
  {
   "cell_type": "markdown",
   "metadata": {},
   "source": [
    "As SALib expects a (numpy) matrix of factors, we simply \"wrap\" the function above like so:"
   ]
  },
  {
   "cell_type": "code",
   "execution_count": 2,
   "metadata": {},
   "outputs": [],
   "source": [
    "def wrapped_linear(X, func = linear):\n",
    "    \"\"\"g(X) = Y, where X := [a b x] and g(X) := f(X)\"\"\"\n",
    "    # We transpose to obtain each column (the model factors) as separate variables\n",
    "    a, b, X = X.T\n",
    "    \n",
    "    # Then call the original model\n",
    "    return func(a, b, x)"
   ]
  },
  {
   "cell_type": "code",
   "execution_count": null,
   "metadata": {},
   "outputs": [],
   "source": []
  },
  {
   "cell_type": "markdown",
   "metadata": {},
   "source": [
    "# Parallel evaluation and analysis\n",
    "Here we expand on some technical details that enable parallel evaluation and analysis. We noted earlier that\n",
    "the model being \"wrapped\" is also passed in as an argument. This is to facilitate parallel evaluation, as the\n",
    "arguments to the wrapper are passed on to workers. The approach works be using Python's motable default argument\n",
    "behavior.\n",
    "\n",
    "A further consideration is that imported modules/packages are not made available to workers in cases where\n",
    "functions are defined in the same file SALib is used in. Running the previous example with\n",
    "`.evaluate(wrapped_linear, nprocs=2)` will fail with `NameError: name 'np' is not defined.`\n",
    "\n",
    "The quick fix is to re-import the required packages within the model function itself:"
   ]
  },
  {
   "cell_type": "code",
   "execution_count": 3,
   "metadata": {},
   "outputs": [
    {
     "ename": "NameError",
     "evalue": "name 'np' is not defined",
     "output_type": "error",
     "traceback": [
      "\u001b[1;31m---------------------------------------------------------------------------\u001b[0m",
      "\u001b[1;31mNameError\u001b[0m                                 Traceback (most recent call last)",
      "Cell \u001b[1;32mIn[3], line 1\u001b[0m\n\u001b[1;32m----> 1\u001b[0m \u001b[39mdef\u001b[39;00m \u001b[39mwrapped_linear\u001b[39m(X: np\u001b[39m.\u001b[39mndarray, func\u001b[39m=\u001b[39mlinear) \u001b[39m-\u001b[39m\u001b[39m>\u001b[39m np\u001b[39m.\u001b[39mndarray:\n\u001b[0;32m      2\u001b[0m     \u001b[39mimport\u001b[39;00m \u001b[39mnumpy\u001b[39;00m \u001b[39mas\u001b[39;00m \u001b[39mnp\u001b[39;00m  \u001b[39m# re-import necessary packages\u001b[39;00m\n\u001b[0;32m      4\u001b[0m     N, D \u001b[39m=\u001b[39m X\u001b[39m.\u001b[39mshape\n",
      "\u001b[1;31mNameError\u001b[0m: name 'np' is not defined"
     ]
    }
   ],
   "source": [
    "def wrapped_linear(X: np.ndarray, func=linear) -> np.ndarray:\n",
    "    import numpy as np  # re-import necessary packages\n",
    "\n",
    "    N, D = X.shape\n",
    "    results = np.empty(N)\n",
    "    for i in range(N):\n",
    "        a, b, x = X[i, :]\n",
    "        results[i] = func(a, b, x)\n",
    "\n",
    "    return results"
   ]
  },
  {
   "cell_type": "markdown",
   "metadata": {},
   "source": [
    "This can, however, get unwieldy for complicated models. The recommended best practice is to separate \n",
    "implementation (i.e., model definitions) from its use. Simply moving the model functions into a\n",
    "separate file is enough for this example, such that the project structure is something like:\n",
    "\n",
    "project_directory:  \n",
    "| -- model_definition.py  \n",
    "|____analyais.py"
   ]
  },
  {
   "cell_type": "code",
   "execution_count": null,
   "metadata": {},
   "outputs": [
    {
     "name": "stdout",
     "output_type": "stream",
     "text": [
      "1.4.7\n"
     ]
    }
   ],
   "source": [
    "import SALib\n",
    "print(SALib.__version__)"
   ]
  },
  {
   "cell_type": "markdown",
   "metadata": {},
   "source": [
    "# 重要"
   ]
  },
  {
   "cell_type": "code",
   "execution_count": 1,
   "metadata": {},
   "outputs": [
    {
     "name": "stderr",
     "output_type": "stream",
     "text": [
      "C:\\Users\\12734\\AppData\\Roaming\\Python\\Python310\\site-packages\\SALib\\util\\problem.py:210: UserWarning: Parallel evaluation is an experimental feature and may not work.\n",
      "  warnings.warn(\n"
     ]
    },
    {
     "name": "stdout",
     "output_type": "stream",
     "text": [
      "计算时间为 1.0906188488006592 s\n",
      "Samples:\n",
      "\t3 parameters: ['a', 'b', 'x']\n",
      "\t2048 evaluations \n",
      "\n",
      "Outputs:\n",
      "\t1 outputs: ['Y']\n",
      "\t2048 evaluations \n",
      "\n",
      "Analysis:\n",
      "         ST   ST_conf\n",
      "a  0.429249  0.074946\n",
      "b  0.140061  0.028204\n",
      "x  0.571214  0.125564 \n",
      "\n",
      "         S1   S1_conf\n",
      "a  0.433183  0.104289\n",
      "b  0.019472  0.072905\n",
      "x  0.409259  0.108318 \n",
      "\n",
      "              S2   S2_conf\n",
      "(a, b) -0.004118  0.159873\n",
      "(a, x) -0.006559  0.183254\n",
      "(b, x)  0.123505  0.105094 \n",
      "\n",
      "\n"
     ]
    }
   ],
   "source": [
    "# from model_definitions import wrapped_linear\n",
    "import numpy as np\n",
    "from SALib import ProblemSpec\n",
    "import time\n",
    "import pandas as pd\n",
    "\n",
    "\n",
    "def wrapped_linear(X):\n",
    "    import numpy as np\n",
    "    import time\n",
    "    N, D = X.shape\n",
    "    results = np.empty(N)\n",
    "    for i in range(N):\n",
    "        # time.sleep(1)\n",
    "        a, b, x = X[i, :]\n",
    "        results[i] = a/100 + b*10 * (x/1000)\n",
    "    return results\n",
    "\n",
    "\n",
    "if __name__ == \"__main__\":\n",
    "    start_time = time.time()  # 记录开始时间\n",
    "    sp = ProblemSpec({\n",
    "        'names': ['a', 'b', 'x'],\n",
    "        'bounds': [\n",
    "            [-100, 0],\n",
    "            [-0.1, 0],\n",
    "            [-1000, 1000],\n",
    "        ],\n",
    "    })\n",
    "    \n",
    "    (\n",
    "        sp.sample_sobol(2**8)\n",
    "        .evaluate(wrapped_linear, nprocs=16)\n",
    "        .analyze_sobol()\n",
    "    )\n",
    "    # print(sp.samples)\n",
    "    # np.savetxt(\"samples.txt\", sp.samples)\n",
    "    # print('----')\n",
    "    # print(sp.results)\n",
    "    # np.savetxt(\"results.txt\", sp.results)\n",
    "    # print('----')\n",
    "    end_time = time.time()  # 记录结束时间\n",
    "    elapsed_time = end_time - start_time  # 计算时间差\n",
    "    print('计算时间为', elapsed_time, 's')\n",
    "    print(sp)\n",
    "    # sp_data = sp.to_df()\n",
    "    # 打开文件\n",
    "    # with open('output.txt', 'w') as file:\n",
    "        # 将列表中的元素逐行写入文件\n",
    "        # for item in sp_data:\n",
    "            # file.write(str(item) + '\\n')\n",
    "    # 关闭文件\n",
    "    # file.close()\n",
    "    "
   ]
  },
  {
   "cell_type": "code",
   "execution_count": 12,
   "metadata": {},
   "outputs": [],
   "source": [
    "# 打开文件\n",
    "with open('output.txt', 'w') as file:\n",
    "    # 将列表中的元素逐行写入文件\n",
    "    for item in sp_data:\n",
    "        file.write(str(item) + '\\n')\n",
    "\n",
    "# 关闭文件\n",
    "file.close()"
   ]
  },
  {
   "cell_type": "code",
   "execution_count": 1,
   "metadata": {},
   "outputs": [
    {
     "name": "stderr",
     "output_type": "stream",
     "text": [
      "C:\\Users\\12734\\AppData\\Local\\Temp\\ipykernel_18244\\800234694.py:10: DeprecationWarning: `salib.sample.saltelli` will be removed in SALib 1.5. Please use `salib.sample.sobol`\n",
      "  param_values = saltelli.sample(problem, 1024)\n"
     ]
    },
    {
     "data": {
      "text/plain": [
       "array([[0.10825318],\n",
       "       [1.73543042],\n",
       "       [0.10825318],\n",
       "       ...,\n",
       "       [2.27359659],\n",
       "       [0.0625    ],\n",
       "       [2.27359659]])"
      ]
     },
     "execution_count": 1,
     "metadata": {},
     "output_type": "execute_result"
    }
   ],
   "source": [
    "from SALib.sample import saltelli\n",
    "from SALib.analyze import sobol\n",
    "problem = {\n",
    "    'num_vars': 1,\n",
    "    'names': ['x1'],\n",
    "    'bounds': [[4, 0.5]],\n",
    "    'dists': ['triang']\n",
    "}\n",
    "\n",
    "param_values = saltelli.sample(problem, 1024)\n",
    "param_values"
   ]
  },
  {
   "cell_type": "code",
   "execution_count": 2,
   "metadata": {},
   "outputs": [
    {
     "data": {
      "text/plain": [
       "<Axes: title={'center': 'Y'}>"
      ]
     },
     "execution_count": 2,
     "metadata": {},
     "output_type": "execute_result"
    },
    {
     "data": {
      "image/png": "[encoded data removed]",
      "text/plain": [
       "<Figure size 1000x600 with 2 Axes>"
      ]
     },
     "metadata": {},
     "output_type": "display_data"
    }
   ],
   "source": [
    "sp.heatmap()"
   ]
  }
 ],
 "metadata": {
  "kernelspec": {
   "display_name": "py310r",
   "language": "python",
   "name": "python3"
  },
  "language_info": {
   "codemirror_mode": {
    "name": "ipython",
    "version": 3
   },
   "file_extension": ".py",
   "mimetype": "text/x-python",
   "name": "python",
   "nbconvert_exporter": "python",
   "pygments_lexer": "ipython3",
   "version": "3.10.12"
  },
  "orig_nbformat": 4
 },
 "nbformat": 4,
 "nbformat_minor": 2
}
