{
 "cells": [
  {
   "cell_type": "markdown",
   "metadata": {},
   "source": [
    "# Wrapping an existing model\n",
    "SALib performs sensitivity analysis for any model that can be expressed in the form of `f(X)=Y`,\n",
    "where `X` is a matrix of inputs (often referred to as the model's factors)\n",
    "\n",
    "The analysis methods are independent of the model and can be applied non-intrusively such that it does not matter what\n",
    "`f` is.\n",
    "\n",
    "Typical model implementations take the form of `f(a, b, c, ...)=Y`. In other words, each model factor is supplied as a separate argument to the function. In such cases it is necessary to write a wrapper to allow use with SALib. This is illustrated here with a simple linear function:"
   ]
  },
  {
   "cell_type": "code",
   "execution_count": null,
   "metadata": {},
   "outputs": [],
   "source": [
    "def linear(a, b, x):\n",
    "    \"\"\"\n",
    "    Return y = a + b + x\n",
    "    \"\"\"\n",
    "    return a + b + x"
   ]
  },
  {
   "cell_type": "markdown",
   "metadata": {},
   "source": [
    "As SALib expects a (numpy) matrix of factors, we simply \"wrap\" the function above like so:"
   ]
  },
  {
   "cell_type": "code",
   "execution_count": null,
   "metadata": {},
   "outputs": [],
   "source": [
    "def wrapped_linear(X, func = linear):\n",
    "    \"\"\"g(X) = Y, where X := [a b x] and g(X) := f(X)\"\"\"\n",
    "    # We transpose to obtain each column (the model factors) as separate variables\n",
    "    a, b, X = X.T\n",
    "    \n",
    "    # Then call the original model\n",
    "    return func(a, b, x)"
   ]
  },
  {
   "cell_type": "code",
   "execution_count": null,
   "metadata": {},
   "outputs": [],
   "source": []
  },
  {
   "cell_type": "markdown",
   "metadata": {},
   "source": [
    "# Parallel evaluation and analysis\n",
    "Here we expand on some technical details that enable parallel evaluation and analysis. We noted earlier that\n",
    "the model being \"wrapped\" is also passed in as an argument. This is to facilitate parallel evaluation, as the\n",
    "arguments to the wrapper are passed on to workers. The approach works be using Python's motable default argument\n",
    "behavior.\n",
    "\n",
    "A further consideration is that imported modules/packages are not made available to workers in cases where\n",
    "functions are defined in the same file SALib is used in. Running the previous example with\n",
    "`.evaluate(wrapped_linear, nprocs=2)` will fail with `NameError: name 'np' is not defined.`\n",
    "\n",
    "The quick fix is to re-import the required packages within the model function itself:"
   ]
  },
  {
   "cell_type": "code",
   "execution_count": null,
   "metadata": {},
   "outputs": [],
   "source": [
    "def wrapped_linear(X: np.ndarray, func=linear) -> np.ndarray:\n",
    "    import numpy as np  # re-import necessary packages\n",
    "\n",
    "    N, D = X.shape\n",
    "    results = np.empty(N)\n",
    "    for i in range(N):\n",
    "        a, b, x = X[i, :]\n",
    "        results[i] = func(a, b, x)\n",
    "\n",
    "    return results"
   ]
  },
  {
   "cell_type": "markdown",
   "metadata": {},
   "source": [
    "This can, however, get unwieldy for complicated models. The recommended best practice is to separate \n",
    "implementation (i.e., model definitions) from its use. Simply moving the model functions into a\n",
    "separate file is enough for this example, such that the project structure is something like:\n",
    "\n",
    "project_directory:  \n",
    "| -- model_definition.py  \n",
    "|____analyais.py"
   ]
  },
  {
   "cell_type": "code",
   "execution_count": 1,
   "metadata": {},
   "outputs": [
    {
     "name": "stdout",
     "output_type": "stream",
     "text": [
      "1.4.7\n"
     ]
    }
   ],
   "source": [
    "import SALib\n",
    "print(SALib.__version__)"
   ]
  }
 ],
 "metadata": {
  "kernelspec": {
   "display_name": "py310r",
   "language": "python",
   "name": "python3"
  },
  "language_info": {
   "codemirror_mode": {
    "name": "ipython",
    "version": 3
   },
   "file_extension": ".py",
   "mimetype": "text/x-python",
   "name": "python",
   "nbconvert_exporter": "python",
   "pygments_lexer": "ipython3",
   "version": "3.10.12"
  },
  "orig_nbformat": 4
 },
 "nbformat": 4,
 "nbformat_minor": 2
}
