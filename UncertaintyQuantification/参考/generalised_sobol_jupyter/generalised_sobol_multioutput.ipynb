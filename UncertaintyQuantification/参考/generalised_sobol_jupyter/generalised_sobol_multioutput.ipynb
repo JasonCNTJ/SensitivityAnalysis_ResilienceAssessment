{
  "cells": [
    {
      "cell_type": "markdown",
      "metadata": {},
      "source": [
        "\n# Toy multioutput function\n\nIn this example, we demonstrate the computation of the Generalised Sobol indices using \nthe toy example in [1]_.\n\n\\begin{align}Y = f (X_{1}, X_{2}) := \\left(\\begin{array}{c}\n                                X_{1}+X_{2}+X_{1} X_{2} \\\\\n                                2 X_{1}+3 X_{1} X_{2}+X_{2}\n                                \\end{array}\\right)\\end{align}\n\n\\begin{align}\\text{case 1: } X_1, X_2 \\sim \\mathcal{N}(0, 1)\\end{align}\n\n\\begin{align}\\text{case 2: } X_1, X_2 \\sim \\mathcal{U}(0, 1)\\end{align}\n\n.. [1] Gamboa, F., Janon, A., Klein, T., & Lagnoux, A. (2014). Sensitivity analysis for multidimensional and functional outputs. Electronic Journal of Statistics, 8(1), 575-603.\n"
      ]
    },
    {
      "cell_type": "code",
      "execution_count": null,
      "metadata": {
        "collapsed": false
      },
      "outputs": [],
      "source": [
        "from UQpy.run_model.RunModel import RunModel\nfrom UQpy.run_model.model_execution.PythonModel import PythonModel\nfrom UQpy.distributions import Uniform, Normal\nfrom UQpy.distributions.collection.JointIndependent import JointIndependent\nfrom UQpy.sensitivity.GeneralisedSobolSensitivity import GeneralisedSobolSensitivity\nfrom UQpy.sensitivity.PostProcess import *\n\nnp.random.seed(123)"
      ]
    },
    {
      "cell_type": "markdown",
      "metadata": {},
      "source": [
        "**Define the model and input distributions**\n\n"
      ]
    },
    {
      "cell_type": "code",
      "execution_count": null,
      "metadata": {
        "collapsed": false
      },
      "outputs": [],
      "source": [
        "# Create Model object\nmodel = PythonModel(\n    model_script=\"local_multioutput.py\",\n    model_object_name=\"evaluate\",\n    var_names=[r\"X_1$\", r\"X_2\"],\n    delete_files=True,\n)\n\nrunmodel_obj = RunModel(model=model)\n\n# Define distribution object\ndist_object_1 = JointIndependent([Normal(0, 1)] * 2)"
      ]
    },
    {
      "cell_type": "markdown",
      "metadata": {},
      "source": [
        "**Compute generalised Sobol indices**\n\n"
      ]
    },
    {
      "cell_type": "code",
      "execution_count": null,
      "metadata": {
        "collapsed": false
      },
      "outputs": [],
      "source": [
        "SA = GeneralisedSobolSensitivity(runmodel_obj, dist_object_1)\n\nSA.run(\n    n_samples=20_000, confidence_level=0.95, n_bootstrap_samples=5_00\n)"
      ]
    },
    {
      "cell_type": "markdown",
      "metadata": {},
      "source": [
        "**First order Generalised Sobol indices**\n\nExpected generalised Sobol indices:\n\nGaussian case\n\n$GS_1$ = 0.2941\n\n$GS_2$ = 0.1179\n\n"
      ]
    },
    {
      "cell_type": "code",
      "execution_count": null,
      "metadata": {
        "collapsed": false
      },
      "outputs": [],
      "source": [
        "SA.generalized_first_order_indices\n\n# **Plot the first order sensitivity indices**\nfig1, ax1 = plot_sensitivity_index(\n    SA.generalized_first_order_indices[:, 0],\n    confidence_interval=SA.first_order_confidence_interval,\n    plot_title=\"First order Generalised Sobol indices\",\n    color=\"C0\",\n)"
      ]
    },
    {
      "cell_type": "code",
      "execution_count": null,
      "metadata": {
        "collapsed": false
      },
      "outputs": [],
      "source": [
        "SA.generalized_total_order_indices\n\n# **Plot the first and total order sensitivity indices**\nfig2, ax2 = plot_index_comparison(\n    SA.generalized_first_order_indices[:, 0],\n    SA.generalized_total_order_indices[:, 0],\n    confidence_interval_1=SA.first_order_confidence_interval,\n    confidence_interval_2=SA.total_order_confidence_interval,\n    label_1=\"First order\",\n    label_2=\"Total order\",\n    plot_title=\"First and Total order Generalised Sobol indices\",\n)"
      ]
    },
    {
      "cell_type": "markdown",
      "metadata": {},
      "source": [
        "**Compute generalised Sobol indices**\n\n"
      ]
    },
    {
      "cell_type": "code",
      "execution_count": null,
      "metadata": {
        "collapsed": false
      },
      "outputs": [],
      "source": [
        "dist_object_2 = JointIndependent([Uniform(0, 1)] * 2)\n\nSA = GeneralisedSobolSensitivity(runmodel_obj, dist_object_2)\n\nSA.run(\n    n_samples=20_000, confidence_level=0.95, n_bootstrap_samples=5_00\n)"
      ]
    },
    {
      "cell_type": "markdown",
      "metadata": {},
      "source": [
        "**First order Generalised Sobol indices**\n\nExpected generalised Sobol indices:\n\nUniform case\n\n$GS_1$ = 0.6084\n\n$GS_2$ = 0.3566\n\n"
      ]
    },
    {
      "cell_type": "code",
      "execution_count": null,
      "metadata": {
        "collapsed": false
      },
      "outputs": [],
      "source": [
        "SA.generalized_first_order_indices\n\n# **Plot the first order sensitivity indices**\nfig3, ax3 = plot_sensitivity_index(\n    SA.generalized_first_order_indices[:, 0],\n    confidence_interval=SA.first_order_confidence_interval,\n    plot_title=\"First order Generalised Sobol indices\",\n    color=\"C0\",\n)"
      ]
    },
    {
      "cell_type": "code",
      "execution_count": null,
      "metadata": {
        "collapsed": false
      },
      "outputs": [],
      "source": [
        "SA.total_order_confidence_interval\n\n# **Plot the first and total order sensitivity indices**\nfig4, ax4 = plot_index_comparison(\n    SA.generalized_first_order_indices[:, 0],\n    SA.total_order_confidence_interval[:, 0],\n    confidence_interval_1=SA.first_order_confidence_interval,\n    confidence_interval_2=SA.total_order_confidence_interval,\n    label_1=\"First order\",\n    label_2=\"Total order\",\n    plot_title=\"First and Total order Generalised Sobol indices\",\n)"
      ]
    }
  ],
  "metadata": {
    "kernelspec": {
      "display_name": "Python 3",
      "language": "python",
      "name": "python3"
    },
    "language_info": {
      "codemirror_mode": {
        "name": "ipython",
        "version": 3
      },
      "file_extension": ".py",
      "mimetype": "text/x-python",
      "name": "python",
      "nbconvert_exporter": "python",
      "pygments_lexer": "ipython3",
      "version": "3.9.15"
    }
  },
  "nbformat": 4,
  "nbformat_minor": 0
}