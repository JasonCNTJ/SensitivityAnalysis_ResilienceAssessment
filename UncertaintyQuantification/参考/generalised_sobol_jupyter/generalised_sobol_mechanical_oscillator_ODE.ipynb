{
  "cells": [
    {
      "cell_type": "markdown",
      "metadata": {},
      "source": [
        "\n# Mechanical oscillator model (multioutput)\n\nIn this example, we consider the mechanical oscillator is governed by the following \nsecond-order ODE as demonstrated in [1]_:\n\n\\begin{align}m \\ddot{x} + c \\dot{x} + k x = 0\\end{align}\n\n\\begin{align}x(0) = \\ell, \\dot{x}(0) = 0.\\end{align}\n\nThe parameteres of the oscillator are modeled as follows:\n\n\\begin{align}m \\sim \\mathcal{U}(10, 12), c \\sim \\mathcal{U}(0.4, 0.8), k \\sim \\mathcal{U}(70, 90), \\ell \\sim \\mathcal{U}(-1, -0.25).\\end{align}\n\nUnlike the pointwise-in-time Sobol indices, which provide the sensitivity of the model \nparameters at each point in time, the GSI indices summarise the sensitivities of the \nmodel parameters over the entire time period.\n\n.. [1] Gamboa, F., Janon, A., Klein, T., & Lagnoux, A. (2014). Sensitivity analysis for multidimensional and functional outputs. Electronic Journal of Statistics, 8(1), 575-603.\n"
      ]
    },
    {
      "cell_type": "code",
      "execution_count": null,
      "metadata": {
        "collapsed": false
      },
      "outputs": [],
      "source": [
        "import numpy as np\n\nfrom UQpy.run_model.RunModel import RunModel\nfrom UQpy.run_model.model_execution.PythonModel import PythonModel\nfrom UQpy.distributions import Uniform, Normal\nfrom UQpy.distributions.collection.JointIndependent import JointIndependent\nfrom UQpy.sensitivity.GeneralisedSobolSensitivity import GeneralisedSobolSensitivity\nfrom UQpy.sensitivity.PostProcess import *\n\nnp.random.seed(123)"
      ]
    },
    {
      "cell_type": "markdown",
      "metadata": {},
      "source": [
        "**Define the model and input distributions**\n\n"
      ]
    },
    {
      "cell_type": "code",
      "execution_count": null,
      "metadata": {
        "collapsed": false
      },
      "outputs": [],
      "source": [
        "# Create Model object\nmodel = PythonModel(\n    model_script=\"local_mechanical_oscillator_ODE.py\",\n    model_object_name=\"mech_oscillator\",\n    var_names=[r\"$m$\", \"$c$\", \"$k$\", \"$\\ell$\"],\n    delete_files=True,\n)\n\nrunmodel_obj = RunModel(model=model)\n\n# Define distribution object\nM = Uniform(10, (12 - 10))\nC = Uniform(0.4, (0.8 - 0.4))\nK = Uniform(70, (90 - 70))\nL = Uniform(-1, (-0.25 - -1))\ndist_object = JointIndependent([M, C, K, L])"
      ]
    },
    {
      "cell_type": "markdown",
      "metadata": {},
      "source": [
        "**Compute generalised Sobol indices**\n\n"
      ]
    },
    {
      "cell_type": "code",
      "execution_count": null,
      "metadata": {
        "collapsed": false
      },
      "outputs": [],
      "source": [
        "SA = GeneralisedSobolSensitivity(runmodel_obj, dist_object)\n\nSA.run(n_samples=500)"
      ]
    },
    {
      "cell_type": "markdown",
      "metadata": {},
      "source": [
        "**First order Generalised Sobol indices**\n\nExpected generalised Sobol indices:\n\n$GS_{m}$ = 0.0826\n\n$GS_{c}$ = 0.0020\n\n$GS_{k}$ = 0.2068\n\n$GS_{\\ell}$ = 0.0561\n\n"
      ]
    },
    {
      "cell_type": "code",
      "execution_count": null,
      "metadata": {
        "collapsed": false
      },
      "outputs": [],
      "source": [
        "SA.generalized_first_order_indices\n\n# **Plot the first order sensitivity indices**\nfig1, ax1 = plot_sensitivity_index(\n    SA.generalized_first_order_indices[:, 0],\n    plot_title=\"First order Generalised Sobol indices\",\n    variable_names=[r\"$m$\", \"$c$\", \"$k$\", \"$\\ell$\"],\n    color=\"C0\",\n)"
      ]
    },
    {
      "cell_type": "markdown",
      "metadata": {},
      "source": [
        "**Total order Generalised Sobol indices**\n\n"
      ]
    },
    {
      "cell_type": "code",
      "execution_count": null,
      "metadata": {
        "collapsed": false
      },
      "outputs": [],
      "source": [
        "SA.generalized_total_order_indices\n\n# **Plot the first and total order sensitivity indices**\nfig2, ax2 = plot_index_comparison(\n    SA.generalized_first_order_indices[:, 0],\n    SA.generalized_total_order_indices[:, 0],\n    label_1=\"First order\",\n    label_2=\"Total order\",\n    plot_title=\"First and Total order Generalised Sobol indices\",\n    variable_names=[r\"$m$\", \"$c$\", \"$k$\", \"$\\ell$\"],\n)"
      ]
    }
  ],
  "metadata": {
    "kernelspec": {
      "display_name": "Python 3",
      "language": "python",
      "name": "python3"
    },
    "language_info": {
      "codemirror_mode": {
        "name": "ipython",
        "version": 3
      },
      "file_extension": ".py",
      "mimetype": "text/x-python",
      "name": "python",
      "nbconvert_exporter": "python",
      "pygments_lexer": "ipython3",
      "version": "3.9.15"
    }
  },
  "nbformat": 4,
  "nbformat_minor": 0
}