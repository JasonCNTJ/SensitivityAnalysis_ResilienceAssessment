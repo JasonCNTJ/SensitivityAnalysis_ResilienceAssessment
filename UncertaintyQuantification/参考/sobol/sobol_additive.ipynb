{
  "cells": [
    {
      "cell_type": "markdown",
      "metadata": {},
      "source": [
        "\n",
        "# Additive function\n",
        "\n",
        "We introduce the variance-based Sobol indices using an elementary example. \n",
        "For more details, refer [1]_.\n",
        "\n",
        "\\begin{align}f(x) = a \\cdot X_1 + b \\cdot X_2, \\quad X_1, X_2 \\sim \\mathcal{N}(0, 1), \\quad a,b \\in \\mathbb{R}\\end{align}\n",
        "\n",
        ".. [1] Saltelli A, T. (2008). Global sensitivity analysis: The primer. John Wiley.\n"
      ]
    },
    {
      "cell_type": "code",
      "execution_count": 1,
      "metadata": {
        "collapsed": false
      },
      "outputs": [],
      "source": [
        "import numpy as np\n",
        "\n",
        "from UQpy.run_model.RunModel import RunModel\n",
        "from UQpy.run_model.model_execution.PythonModel import PythonModel\n",
        "from UQpy.distributions import Normal\n",
        "from UQpy.distributions.collection.JointIndependent import JointIndependent\n",
        "from UQpy.sensitivity.SobolSensitivity import SobolSensitivity\n",
        "from UQpy.sensitivity.PostProcess import *\n",
        "\n",
        "np.random.seed(123)"
      ]
    },
    {
      "cell_type": "markdown",
      "metadata": {},
      "source": [
        "**Define the model and input distributions**\n",
        "\n"
      ]
    },
    {
      "cell_type": "code",
      "execution_count": 2,
      "metadata": {
        "collapsed": false
      },
      "outputs": [],
      "source": [
        "# Create Model object\n",
        "a, b = 1, 2\n",
        "\n",
        "model = PythonModel(\n",
        "    model_script=\"local_additive.py\",\n",
        "    model_object_name=\"evaluate\",\n",
        "    var_names=[\n",
        "        \"X_1\",\n",
        "        \"X_2\",\n",
        "    ],\n",
        "    delete_files=True,\n",
        "    params=[a, b],\n",
        ")\n",
        "\n",
        "runmodel_obj = RunModel(model=model)\n",
        "\n",
        "# Define distribution object\n",
        "dist_object = JointIndependent([Normal(0, 1)] * 2)"
      ]
    },
    {
      "cell_type": "markdown",
      "metadata": {},
      "source": [
        "**Compute Sobol indices**\n",
        "\n"
      ]
    },
    {
      "cell_type": "code",
      "execution_count": 3,
      "metadata": {},
      "outputs": [],
      "source": [
        "SA = SobolSensitivity(runmodel_obj, dist_object)\n",
        "SA.run(n_samples=50000)"
      ]
    },
    {
      "cell_type": "markdown",
      "metadata": {},
      "source": [
        "**First order Sobol indices**\n",
        "\n",
        "Expected first order Sobol indices:\n",
        "\n",
        "$\\mathrm{S}_1 = \\frac{a^2 \\cdot \\mathbb{V}[X_1]}{a^2 \\cdot \\mathbb{V}[X_1] + b^2 \\cdot \\mathbb{V}[X_2]} = \\frac{1^2 \\cdot 1}{1^2 \\cdot 1 + 2^2 \\cdot 1} = 0.2$\n",
        "\n",
        "$\\mathrm{S}_2 = \\frac{b^2 \\cdot \\mathbb{V}[X_2]}{a^2 \\cdot \\mathbb{V}[X_1] + b^2 \\cdot \\mathbb{V}[X_2]} = \\frac{2^2 \\cdot 1}{1^2 \\cdot 1 + 2^2 \\cdot 1} = 0.8$\n",
        "\n"
      ]
    },
    {
      "cell_type": "code",
      "execution_count": 4,
      "metadata": {
        "collapsed": false
      },
      "outputs": [
        {
          "data": {
            "text/plain": [
              "array([[0.19403013],\n",
              "       [0.80059683]])"
            ]
          },
          "execution_count": 4,
          "metadata": {},
          "output_type": "execute_result"
        }
      ],
      "source": [
        "SA.first_order_indices"
      ]
    },
    {
      "cell_type": "markdown",
      "metadata": {},
      "source": [
        "**Plot the first and total order sensitivity indices**\n",
        "\n"
      ]
    },
    {
      "cell_type": "code",
      "execution_count": 5,
      "metadata": {
        "collapsed": false
      },
      "outputs": [
        {
          "data": {
            "image/png": "[encoded data removed]",
            "text/plain": [
              "<Figure size 640x480 with 1 Axes>"
            ]
          },
          "metadata": {},
          "output_type": "display_data"
        }
      ],
      "source": [
        "fig1, ax1 = plot_index_comparison(\n",
        "    SA.first_order_indices[:, 0],\n",
        "    SA.total_order_indices[:, 0],\n",
        "    label_1=\"First order Sobol indices\",\n",
        "    label_2=\"Total order Sobol indices\",\n",
        "    plot_title=\"First and Total order Sobol indices\",\n",
        ")"
      ]
    },
    {
      "cell_type": "code",
      "execution_count": 7,
      "metadata": {},
      "outputs": [],
      "source": [
        "import numpy as np\n",
        "\n",
        "from UQpy.run_model.RunModel import RunModel\n",
        "from UQpy.run_model.model_execution.PythonModel import PythonModel\n",
        "from UQpy.distributions import Uniform\n",
        "from UQpy.distributions.collection.JointIndependent import JointIndependent\n",
        "from UQpy.sensitivity.SobolSensitivity import SobolSensitivity\n",
        "from UQpy.sensitivity.PostProcess import *\n",
        "\n",
        "np.random.seed(123)\n",
        "\n",
        "# Create Model object\n",
        "model = PythonModel(\n",
        "    model_script=\"local_additive.py\",\n",
        "    model_object_name=\"evaluate_test\",\n",
        "    var_names=[\n",
        "        \"a\",\n",
        "        \"b\",\n",
        "        \"x\",\n",
        "    ],\n",
        "    delete_files=True,\n",
        ")\n",
        "\n",
        "runmodel_obj = RunModel(model=model)\n",
        "\n",
        "# Define distribution object\n",
        "A = Uniform(-1, (0 - (-1)))\n",
        "B = Uniform(-1, (0 - (-1)))\n",
        "C = Uniform(-1, (1 - (-1)))\n",
        "dist_object = JointIndependent([A, B, C])\n",
        "\n",
        "SA = SobolSensitivity(runmodel_obj, dist_object)\n",
        "SA.run(n_samples=5000)"
      ]
    },
    {
      "cell_type": "code",
      "execution_count": 8,
      "metadata": {},
      "outputs": [
        {
          "data": {
            "text/plain": [
              "array([[0.45813228],\n",
              "       [0.15788494],\n",
              "       [0.58358141]])"
            ]
          },
          "execution_count": 8,
          "metadata": {},
          "output_type": "execute_result"
        }
      ],
      "source": [
        "SA.total_order_indices"
      ]
    },
    {
      "cell_type": "code",
      "execution_count": 9,
      "metadata": {},
      "outputs": [
        {
          "data": {
            "text/plain": [
              "array([[ 0.44054069],\n",
              "       [-0.02246064],\n",
              "       [ 0.41481919]])"
            ]
          },
          "execution_count": 9,
          "metadata": {},
          "output_type": "execute_result"
        }
      ],
      "source": [
        "SA.first_order_indices"
      ]
    }
  ],
  "metadata": {
    "kernelspec": {
      "display_name": "Python 3",
      "language": "python",
      "name": "python3"
    },
    "language_info": {
      "codemirror_mode": {
        "name": "ipython",
        "version": 3
      },
      "file_extension": ".py",
      "mimetype": "text/x-python",
      "name": "python",
      "nbconvert_exporter": "python",
      "pygments_lexer": "ipython3",
      "version": "3.10.12"
    }
  },
  "nbformat": 4,
  "nbformat_minor": 0
}
