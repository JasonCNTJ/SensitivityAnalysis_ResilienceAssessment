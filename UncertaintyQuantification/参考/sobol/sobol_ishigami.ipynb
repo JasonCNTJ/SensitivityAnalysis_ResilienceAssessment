{
  "cells": [
    {
      "cell_type": "markdown",
      "metadata": {},
      "source": [
        "\n",
        "# Ishigami function\n",
        "\n",
        "The ishigami function is a non-linear, non-monotonic function that is commonly used to \n",
        "benchmark uncertainty and senstivity analysis methods.\n",
        "\n",
        "\\begin{align}f(x_1, x_2, x_3) = sin(x_1) + a \\cdot sin^2(x_2) + b \\cdot x_3^4 sin(x_1)\\end{align}\n",
        "\n",
        "\\begin{align}x_1, x_2, x_3 \\sim \\mathcal{U}(-\\pi, \\pi), \\quad a, b\\in \\mathbb{R}\\end{align}\n",
        "\n",
        "## First order Sobol indices\n",
        "\n",
        "\\begin{align}S_1 = \\frac{V_1}{\\mathbb{V}[Y]}, \\quad S_2 = \\frac{V_2}{\\mathbb{V}[Y]}, \\quad S_3 = \\frac{V_3}{\\mathbb{V}[Y]} = 0,\\end{align}\n",
        "\n",
        "\\begin{align}V_1 = 0.5 (1 + \\frac{b\\pi^4}{5})^2, \\quad V_2 = \\frac{a^2}{8}, \\quad V_3 = 0\\end{align}\n",
        "\n",
        "\\begin{align}\\mathbb{V}[Y] = \\frac{a^2}{8} + \\frac{b\\pi^4}{5} + \\frac{b^2\\pi^8}{18} + \\frac{1}{2}\\end{align}\n",
        "\n",
        "## Total order Sobol indices\n",
        "\n",
        "\\begin{align}S_{T_1} = \\frac{V_{T1}}{\\mathbb{V}[Y]}, \\quad S_{T_2} = \\frac{V_{T2}}{\\mathbb{V}[Y]}, \\quad S_{T_3} = \\frac{V_{T3}}{\\mathbb{V}[Y]}\\end{align}\n",
        "\n",
        "\\begin{align}V_{T_1} = 0.5 (1 + \\frac{b\\pi^4}{5})^2 + \\frac{8b^2\\pi^8}{225}, \\quad V_{T_2}= \\frac{a^2}{8}, \\quad V_{T_3} = \\frac{8b^2\\pi^8}{225}\\end{align}\n",
        "\n",
        "\\begin{align}\\mathbb{V}[Y] = \\frac{a^2}{8} + \\frac{b\\pi^4}{5} + \\frac{b^2\\pi^8}{18} + \\frac{1}{2}\\end{align}\n"
      ]
    },
    {
      "cell_type": "code",
      "execution_count": 1,
      "metadata": {
        "collapsed": false
      },
      "outputs": [],
      "source": [
        "import numpy as np\n",
        "\n",
        "from UQpy.run_model.RunModel import RunModel\n",
        "from UQpy.run_model.model_execution.PythonModel import PythonModel\n",
        "from UQpy.distributions import Uniform\n",
        "from UQpy.distributions.collection.JointIndependent import JointIndependent\n",
        "from UQpy.sensitivity.SobolSensitivity import SobolSensitivity\n",
        "from UQpy.sensitivity.PostProcess import *\n",
        "\n",
        "np.random.seed(123)"
      ]
    },
    {
      "cell_type": "markdown",
      "metadata": {},
      "source": [
        "**Define the model and input distributions**\n",
        "\n"
      ]
    },
    {
      "cell_type": "markdown",
      "metadata": {},
      "source": [
        "Create Model object\n",
        "\n"
      ]
    },
    {
      "cell_type": "code",
      "execution_count": 2,
      "metadata": {
        "collapsed": false
      },
      "outputs": [],
      "source": [
        "model = PythonModel(\n",
        "    model_script=\"local_ishigami.py\",\n",
        "    model_object_name=\"evaluate\",\n",
        "    var_names=[\"$X_1$\", \"$X_2$\", \"$X_3$\"],\n",
        "    delete_files=True,\n",
        "    params=[7, 0.1],\n",
        ")\n",
        "\n",
        "runmodel_obj = RunModel(model=model)\n",
        "\n",
        "# Define distribution object\n",
        "dist_object = JointIndependent([Uniform(-np.pi, 2 * np.pi)] * 3)"
      ]
    },
    {
      "cell_type": "markdown",
      "metadata": {},
      "source": [
        "**Compute Sobol indices**\n",
        "\n"
      ]
    },
    {
      "cell_type": "code",
      "execution_count": 3,
      "metadata": {
        "collapsed": false
      },
      "outputs": [],
      "source": [
        "SA = SobolSensitivity(runmodel_obj, dist_object)\n",
        "\n",
        "SA.run(n_samples=100_000, n_bootstrap_samples=100)"
      ]
    },
    {
      "cell_type": "markdown",
      "metadata": {},
      "source": [
        "**First order Sobol indices**\n",
        "\n",
        "Expected first order Sobol indices:\n",
        "\n",
        "$S_1$ = 0.3139\n",
        "\n",
        "$S_2$ = 0.4424\n",
        "\n",
        "$S_3$ = 0.0\n",
        "\n"
      ]
    },
    {
      "cell_type": "code",
      "execution_count": 4,
      "metadata": {
        "collapsed": false
      },
      "outputs": [
        {
          "data": {
            "text/plain": [
              "array([[0.31339349],\n",
              "       [0.44400385],\n",
              "       [0.00169028]])"
            ]
          },
          "execution_count": 4,
          "metadata": {},
          "output_type": "execute_result"
        }
      ],
      "source": [
        "SA.first_order_indices"
      ]
    },
    {
      "cell_type": "markdown",
      "metadata": {},
      "source": [
        "**Total order Sobol indices**\n",
        "\n",
        "Expected total order Sobol indices:\n",
        "\n",
        "$S_{T_1}$ = 0.55758886\n",
        "\n",
        "$S_{T_2}$ = 0.44241114\n",
        "\n",
        "$S_{T_3}$ =  0.24368366\n",
        "\n"
      ]
    },
    {
      "cell_type": "code",
      "execution_count": 5,
      "metadata": {
        "collapsed": false
      },
      "outputs": [
        {
          "data": {
            "text/plain": [
              "array([[0.56253533],\n",
              "       [0.44018882],\n",
              "       [0.25000686]])"
            ]
          },
          "execution_count": 5,
          "metadata": {},
          "output_type": "execute_result"
        }
      ],
      "source": [
        "SA.total_order_indices"
      ]
    },
    {
      "cell_type": "markdown",
      "metadata": {},
      "source": [
        "**Confidence intervals for first order Sobol indices**\n",
        "\n"
      ]
    },
    {
      "cell_type": "code",
      "execution_count": 7,
      "metadata": {
        "collapsed": false
      },
      "outputs": [
        {
          "data": {
            "text/plain": [
              "array([[ 0.30681375,  0.31997324],\n",
              "       [ 0.43846748,  0.44954022],\n",
              "       [-0.00487084,  0.00825139]])"
            ]
          },
          "execution_count": 7,
          "metadata": {},
          "output_type": "execute_result"
        }
      ],
      "source": [
        "SA.first_order_confidence_interval"
      ]
    },
    {
      "cell_type": "markdown",
      "metadata": {},
      "source": [
        "**Confidence intervals for total order Sobol indices**\n",
        "\n"
      ]
    },
    {
      "cell_type": "code",
      "execution_count": 9,
      "metadata": {
        "collapsed": false
      },
      "outputs": [
        {
          "data": {
            "text/plain": [
              "array([[0.55107695, 0.57399372],\n",
              "       [0.42867433, 0.4517033 ],\n",
              "       [0.23948522, 0.2605285 ]])"
            ]
          },
          "execution_count": 9,
          "metadata": {},
          "output_type": "execute_result"
        }
      ],
      "source": [
        "SA.total_order_confidence_interval"
      ]
    },
    {
      "cell_type": "markdown",
      "metadata": {},
      "source": [
        "**Plot the first order sensitivity indices**\n",
        "\n"
      ]
    },
    {
      "cell_type": "code",
      "execution_count": 8,
      "metadata": {
        "collapsed": false
      },
      "outputs": [
        {
          "data": {
            "image/png": "[encoded data removed]",
            "text/plain": [
              "<Figure size 640x480 with 1 Axes>"
            ]
          },
          "metadata": {},
          "output_type": "display_data"
        }
      ],
      "source": [
        "fig1, ax1 = plot_sensitivity_index(\n",
        "    SA.first_order_indices[:, 0],\n",
        "    confidence_interval=SA.first_order_confidence_interval,\n",
        "    plot_title=\"First order Sobol indices\",\n",
        "    variable_names=[\"$X_1$\", \"$X_2$\", \"$X_3$\"],\n",
        "    color=\"C0\",\n",
        ")"
      ]
    },
    {
      "cell_type": "markdown",
      "metadata": {},
      "source": [
        "**Plot the first and total order sensitivity indices**\n",
        "\n"
      ]
    },
    {
      "cell_type": "code",
      "execution_count": 9,
      "metadata": {
        "collapsed": false
      },
      "outputs": [
        {
          "data": {
            "image/png": "[encoded data removed]",
            "text/plain": [
              "<Figure size 640x480 with 1 Axes>"
            ]
          },
          "metadata": {},
          "output_type": "display_data"
        }
      ],
      "source": [
        "fig2, ax2 = plot_index_comparison(\n",
        "    SA.first_order_indices[:, 0],\n",
        "    SA.total_order_indices[:, 0],\n",
        "    confidence_interval_1=SA.first_order_confidence_interval,\n",
        "    confidence_interval_2=SA.total_order_confidence_interval,\n",
        "    label_1=\"First order Sobol indices\",\n",
        "    label_2=\"Total order Sobol indices\",\n",
        "    plot_title=\"First and Total order Sobol indices\",\n",
        "    variable_names=[\"$X_1$\", \"$X_2$\", \"$X_3$\"],\n",
        ")"
      ]
    }
  ],
  "metadata": {
    "kernelspec": {
      "display_name": "Python 3",
      "language": "python",
      "name": "python3"
    },
    "language_info": {
      "codemirror_mode": {
        "name": "ipython",
        "version": 3
      },
      "file_extension": ".py",
      "mimetype": "text/x-python",
      "name": "python",
      "nbconvert_exporter": "python",
      "pygments_lexer": "ipython3",
      "version": "3.10.12"
    }
  },
  "nbformat": 4,
  "nbformat_minor": 0
}
