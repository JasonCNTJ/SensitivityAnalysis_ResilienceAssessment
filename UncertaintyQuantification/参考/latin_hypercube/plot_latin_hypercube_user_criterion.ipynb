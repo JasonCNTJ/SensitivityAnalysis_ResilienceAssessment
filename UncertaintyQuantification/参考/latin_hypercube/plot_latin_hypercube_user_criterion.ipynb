{
  "cells": [
    {
      "cell_type": "markdown",
      "metadata": {},
      "source": [
        "\n# User Design Criterion\n\nThis example illustrates use of user-defined latin hypercube design criteria. In particular:\n"
      ]
    },
    {
      "cell_type": "markdown",
      "metadata": {},
      "source": [
        "- How to define the Monte Carlo sampling method supported by UQpy\n- How to append new samples to the existing ones\n- How to transform existing samples to the unit hypercube\n- How to plot histograms for each one of the sampled parameters and 2D scatter of the produced samples\n\n"
      ]
    },
    {
      "cell_type": "markdown",
      "metadata": {},
      "source": [
        "Initially we have to import the necessary modules.\n\n"
      ]
    },
    {
      "cell_type": "code",
      "execution_count": null,
      "metadata": {
        "collapsed": false
      },
      "outputs": [],
      "source": [
        "from UQpy.sampling import LatinHypercubeSampling\nimport matplotlib.pyplot as plt\nfrom UQpy.distributions import Uniform\nfrom UQpy.sampling.stratified_sampling.latin_hypercube_criteria import *\nfrom UQpy.sampling.stratified_sampling.latin_hypercube_criteria import Criterion"
      ]
    },
    {
      "cell_type": "markdown",
      "metadata": {},
      "source": [
        "## Create user-defined criterion\nIn order to create a user defined criterion, a concrete implementation of the :class:`.Criterion` abstract class must\nbe created. The :code:`generate_samples` method must be implemented, which receives as input the :code:`random_state`,\nthe randomly generated latin hypercube samples.\n\n"
      ]
    },
    {
      "cell_type": "code",
      "execution_count": null,
      "metadata": {
        "collapsed": false
      },
      "outputs": [],
      "source": [
        "class UserCriterion(Criterion):\n    def generate_samples(self, random_state):\n        lhs_samples = np.zeros_like(self.samples)\n        for j in range(self.samples.shape[1]):\n            order = np.random.permutation(self.samples.shape[0])\n            lhs_samples[:, j] = self.samples[order, j]\n        return lhs_samples"
      ]
    },
    {
      "cell_type": "markdown",
      "metadata": {},
      "source": [
        "## Define Latin Hypercube sampling\nIn order to initialize the LatinHypercube sampling class, the user needs to define a list of distributions\nfor each one of the parameters that need to be sampled.\n\nApart from the distributions list, the number of samples  :code:`nsamples` to be drawn is required.\nThe :code:`random_state` parameter defines the seed of the random generator.\n\nFinally, the design criterion can be defined by the user. The default case is the :class:`.Random`.\nFor more details on the various criteria you can refer to the documentation of the criteria\n:class:`.Random`, :class:`.Centered`, :class:`.Maximin`, :class:`.MinCorrelation`\n\nIn the case of user-defined criteria an instantiation of the UserCriterion class is provided instead of the\nbuilt-in criteria.\n\n"
      ]
    },
    {
      "cell_type": "code",
      "execution_count": null,
      "metadata": {
        "collapsed": false
      },
      "outputs": [],
      "source": [
        "dist1 = Uniform(loc=0., scale=1.)\ndist2 = Uniform(loc=0., scale=1.)\n\nlhs_user_defined = LatinHypercubeSampling(distributions=[dist1, dist2], nsamples=5,\n                                          criterion=UserCriterion())\nprint(lhs_user_defined._samples)"
      ]
    },
    {
      "cell_type": "markdown",
      "metadata": {},
      "source": [
        "## Plot the samples\n\nThe samples generated using the LatinHypercube sampling method can be retrieved using the *samples* attribute. This\nattribute is a :any:`numpy.ndarray`.\n\n"
      ]
    },
    {
      "cell_type": "code",
      "execution_count": null,
      "metadata": {
        "collapsed": false
      },
      "outputs": [],
      "source": [
        "# plot the samples\nfig, ax = plt.subplots()\nplt.title('LHS sampling - User Criterion')\nplt.scatter(lhs_user_defined._samples[:, 0], lhs_user_defined._samples[:, 1], marker='o')\nax.yaxis.grid(True)\nax.xaxis.grid(True)\nplt.ylim(0, 1)\nplt.xlim(0, 1)\nplt.show()"
      ]
    }
  ],
  "metadata": {
    "kernelspec": {
      "display_name": "Python 3",
      "language": "python",
      "name": "python3"
    },
    "language_info": {
      "codemirror_mode": {
        "name": "ipython",
        "version": 3
      },
      "file_extension": ".py",
      "mimetype": "text/x-python",
      "name": "python",
      "nbconvert_exporter": "python",
      "pygments_lexer": "ipython3",
      "version": "3.9.15"
    }
  },
  "nbformat": 4,
  "nbformat_minor": 0
}