{
  "cells": [
    {
      "cell_type": "markdown",
      "metadata": {},
      "source": [
        "\n# Third-party - Multi-job - LS Dyna\n"
      ]
    },
    {
      "cell_type": "markdown",
      "metadata": {},
      "source": [
        "Import the necessary libraries.\n\n"
      ]
    },
    {
      "cell_type": "code",
      "execution_count": null,
      "metadata": {
        "collapsed": false
      },
      "outputs": [],
      "source": [
        "from UQpy.distributions import Uniform\nfrom UQpy.run_model.RunModel import RunModel\nfrom UQpy.run_model.model_execution.ThirdPartyModel import ThirdPartyModel\nfrom UQpy.sampling import MonteCarloSampling"
      ]
    },
    {
      "cell_type": "markdown",
      "metadata": {},
      "source": [
        "Define the distribution objects.\n\n"
      ]
    },
    {
      "cell_type": "code",
      "execution_count": null,
      "metadata": {
        "collapsed": false
      },
      "outputs": [],
      "source": [
        "d1 = Uniform(location=0.02, scale=0.06)\nd2 = Uniform(location=0.02, scale=0.01)\nd3 = Uniform(location=0.02, scale=0.01)\nd4 = Uniform(location=0.0025, scale=0.0075)\nd5 = Uniform(location=0.02, scale=0.06)\nd6 = Uniform(location=0.02, scale=0.01)\nd7 = Uniform(location=0.02, scale=0.01)\nd8 = Uniform(location=0.0025, scale=0.0075)"
      ]
    },
    {
      "cell_type": "markdown",
      "metadata": {},
      "source": [
        "Draw the samples using MCS.\n\n"
      ]
    },
    {
      "cell_type": "code",
      "execution_count": null,
      "metadata": {
        "collapsed": false
      },
      "outputs": [],
      "source": [
        "x = MonteCarloSampling(distributions=[d1, d2, d3, d4, d5, d6, d7, d8], samples_number=12, random_state=349875)"
      ]
    },
    {
      "cell_type": "markdown",
      "metadata": {},
      "source": [
        "Run the model.\n\n"
      ]
    },
    {
      "cell_type": "code",
      "execution_count": null,
      "metadata": {
        "collapsed": false
      },
      "outputs": [],
      "source": [
        "m = ThirdPartyModel(model_script='dyna_script.py', input_template='dyna_input.k',\n                    var_names=['x0', 'y0', 'z0', 'R0', 'x1', 'y1', 'z1', 'R1'], model_dir='dyna_test',\n                    fmt='{:>10.4f}')\nrun_ = RunModel(samples=x.samples, ntasks=6, cores_per_task=12, model=m)"
      ]
    }
  ],
  "metadata": {
    "kernelspec": {
      "display_name": "Python 3",
      "language": "python",
      "name": "python3"
    },
    "language_info": {
      "codemirror_mode": {
        "name": "ipython",
        "version": 3
      },
      "file_extension": ".py",
      "mimetype": "text/x-python",
      "name": "python",
      "nbconvert_exporter": "python",
      "pygments_lexer": "ipython3",
      "version": "3.9.15"
    }
  },
  "nbformat": 4,
  "nbformat_minor": 0
}