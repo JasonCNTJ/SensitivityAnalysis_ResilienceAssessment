{
  "cells": [
    {
      "cell_type": "markdown",
      "metadata": {},
      "source": [
        "\n# Python\n"
      ]
    },
    {
      "cell_type": "markdown",
      "metadata": {},
      "source": [
        "The RunModel class is capable of passing input in different formats into a single computational model. This means that\nthe samples passed into a model can be passed as:\n\n- floating point values\n- numpy arrays\n- lists\n- tuples\n- lists of other iterables\n- numpy arrays of other iterables\n- or any combination of the above\n\nIn the examples below, we demonstrate the use of a Python computational model with inputs that are combinations of the\nabove.\n\nSome notes on their use:\n\n1. UQpy converts all sample input to a numpy array with at least two dimensions. The first dimension,\ni.e. len(samples) must correspond to the number of samples being passed for model execution. The second dimension,\ni.e. len(samples[0]) must correspond to the number of variables that each sample possesses.\n\n2. Each individual sample, i.e. sample[j], may be composed of multiple data types -- with each variable having a\ndifferent data type. For example, sample[j][k] may be a floating point value and sample[j][l] may be an array of\narbitrary dimension.\n\n3. If a specific variable has multiple dimensions, the user may specify the index to be return in the input file.\nFor example, the placeholder for a variable x1 corresponding to sample[j][l] that is an array of shape (1,4) can be\nread as <x1[0, 3]>, which will return the final (0,3) component of samples[j][l].\n\n4. If the user does not specify the index for a multidimensional variable, then the entire multidimensional variable\nis flattened and written with comma delimiters.\n\n"
      ]
    },
    {
      "cell_type": "markdown",
      "metadata": {},
      "source": [
        "## Python Model Summary\nExamples 1-2:\nThe provided Matlab models take the sum of three random variables:\n\n\\begin{align}s = \\sum_{i=1}^3 x_i\\end{align}\n\n\\begin{align}x_i \\sim N(0,1)\\end{align}\n\nExample 3:\nThe provided Matlab model takes the product of a random variable and the determinant of a random matrix:\n\n\\begin{align}z = x \\det(Y)\\end{align}\n\n\\begin{align}x \\sim N(0,1)\\end{align}\n\n$y$ is a 3x3 matrix of standard normal random variables.\n\nThe Python model may be provided as either a class or a function. The examples below explore both cases.\n\n"
      ]
    },
    {
      "cell_type": "code",
      "execution_count": null,
      "metadata": {
        "collapsed": false
      },
      "outputs": [],
      "source": [
        "from UQpy.sampling import MonteCarloSampling\nfrom UQpy.run_model.RunModel import RunModel\nfrom UQpy.run_model.model_execution.PythonModel import PythonModel\nfrom UQpy.distributions import Normal\nimport time\nimport numpy as np"
      ]
    },
    {
      "cell_type": "markdown",
      "metadata": {},
      "source": [
        "### Pick which model to run\nOptions:\n- 'all'\n- 'scalar'\n- 'vector'\n- 'mixed'\n- 'fixed'\n\n"
      ]
    },
    {
      "cell_type": "code",
      "execution_count": null,
      "metadata": {
        "collapsed": false
      },
      "outputs": [],
      "source": [
        "pick_model = 'all'"
      ]
    },
    {
      "cell_type": "markdown",
      "metadata": {},
      "source": [
        "## Example 1: Three scalar random variables\nIn this example, we pass three scalar random variables. Note that this is different from assigning a single variable\nwith three components, which will be handled in the following example.\n\nHere we will pass the samples both as an ndarray and as a list. Recall that UQpy converts all samples into an ndarray\nof at least two dimensions internally.\n\n"
      ]
    },
    {
      "cell_type": "code",
      "execution_count": null,
      "metadata": {
        "collapsed": false
      },
      "outputs": [],
      "source": [
        "if pick_model in {'scalar', 'vector', 'all'}:\n    d = Normal(loc=0, scale=1)\n    x_mcs = MonteCarloSampling(distributions=[d, d, d], nsamples=5, random_state=987979)\n    names = ['var1', 'var11', 'var111']\n\n    # UQpy returns samples as an ndarray. Convert them to a list for part 1.2\n    x_mcs_list = list(x_mcs.samples)\n    print(\"Monte Carlo samples of three random variables from a standard normal distribution.\")\n    print('Samples stored as an array:')\n    print('Data type:', type(x_mcs.samples))\n    print('Number of samples:', len(x_mcs.samples))\n    print('Dimensions of samples:', np.shape(x_mcs.samples))\n    print('Samples')\n    print(x_mcs.samples)\n    print()\n    print('Samples stored as a list:')\n    print('Data type:', type(x_mcs_list))\n    print('Number of samples:', len(x_mcs_list))\n    print('Dimensions of samples:', np.shape(x_mcs_list))\n    print('Samples:')\n    print(x_mcs_list)"
      ]
    },
    {
      "cell_type": "markdown",
      "metadata": {},
      "source": [
        "### 1.1 Pass samples as ndarray, Python class called, serial execution\nThis examples uses the following files:\n- model_script = python_model.py\n\n"
      ]
    },
    {
      "cell_type": "code",
      "execution_count": null,
      "metadata": {
        "collapsed": false
      },
      "outputs": [],
      "source": [
        "if pick_model in {'scalar', 'all'}:\n    # Call to RunModel - Here we run the model while instantiating the RunModel object.\n    t = time.time()\n    m = PythonModel(model_script='python_model.py', model_object_name='SumRVs')\n    m11 = RunModel(model=m, ntasks=1 )\n    m11.run(samples=x_mcs.samples,)\n    t_ser_python = time.time() - t\n    print(\"\\nTime for serial execution:\")\n    print(t_ser_python)\n    print()\n    print(\"The values returned from the Matlab simulation:\")\n    print(m11.qoi_list)"
      ]
    },
    {
      "cell_type": "markdown",
      "metadata": {},
      "source": [
        "### 1.2 Pass samples as list, Python function called, parallel execution\nThis examples uses the following files:\n- model_script = python_model.py\n\n"
      ]
    },
    {
      "cell_type": "code",
      "execution_count": null,
      "metadata": {
        "collapsed": false
      },
      "outputs": [],
      "source": [
        "if pick_model in {'scalar', 'all'}:\n    # Call to RunModel - Here we run the model while instantiating the RunModel object.\n    t = time.time()\n    m = PythonModel(model_script='python_model.py', model_object_name='sum_rvs')\n    m12 = RunModel(model=m, samples=x_mcs_list, ntasks=2)\n    t_par_python = time.time() - t\n    print(\"\\nTime for parallel execution:\")\n    print(t_par_python)\n    print()\n    print(\"The values returned from the Matlab simulation:\")\n    print(m12.qoi_list)"
      ]
    },
    {
      "cell_type": "markdown",
      "metadata": {},
      "source": [
        "## Example 2: Single tri-variate random variable\nIn this example, we pass three random variables in as a trivariate random variable. Note that this is different from\nassigning three scalar random variables, which was be handled in Example 1.\n\nAgain, we will pass the samples both as an ndarray and as a list. Recall that UQpy converts all samples into an\nndarray of at least two dimensions internally.\n\n"
      ]
    },
    {
      "cell_type": "markdown",
      "metadata": {},
      "source": [
        "## Restructure the samples\nTo pass the samples in as a single tri-variate variable, we need reshape the samples from shape (5, 3) to\nshape (5, 1, 3)\n\n"
      ]
    },
    {
      "cell_type": "code",
      "execution_count": null,
      "metadata": {
        "collapsed": false
      },
      "outputs": [],
      "source": [
        "if pick_model in {'vector', 'all'}:\n    x_mcs_tri = x_mcs.samples.reshape(5, 1, 3)\n    x_mcs_tri_list = list(x_mcs_tri)\n\n    print(\"Monte Carlo samples of three random variables from a standard normal distribution.\")\n    print('Samples stored as an array:')\n    print('Data type:', type(x_mcs_tri))\n    print('Number of samples:', len(x_mcs_tri))\n    print('Dimensions of samples:', np.shape(x_mcs_tri))\n    print('Samples')\n    print(x_mcs_tri)\n    print()\n    print('Samples stored as a list:')\n    print('Data type:', type(x_mcs_tri_list))\n    print('Number of samples:', len(x_mcs_tri_list))\n    print('Dimensions of samples:', np.shape(x_mcs_tri_list))\n    print('Samples:')\n    print(x_mcs_tri_list)"
      ]
    },
    {
      "cell_type": "markdown",
      "metadata": {},
      "source": [
        "## 2.1 Pass samples as ndarray, Python function called, serial execution\nThis example uses the following files:\n- model_script = python_model.py\n\n"
      ]
    },
    {
      "cell_type": "code",
      "execution_count": null,
      "metadata": {
        "collapsed": false
      },
      "outputs": [],
      "source": [
        "if pick_model in {'vector', 'all'}:\n    # Call to RunModel - Here we run the model while instantiating the RunModel object.\n    t = time.time()\n    m=PythonModel(model_script='python_model.py', model_object_name='sum_rvs_vec')\n    m21 = RunModel(samples=x_mcs_tri, ntasks=1,  model=m)\n    t_ser_python = time.time() - t\n    print(\"\\nTime for serial execution:\")\n    print(t_ser_python)\n    print()\n    print(\"The values returned from the Matlab simulation:\")\n    print(m21.qoi_list)"
      ]
    },
    {
      "cell_type": "markdown",
      "metadata": {},
      "source": [
        "## 2.2 Pass samples as list, Python class called, parallel execution\nThis example uses the following files:\n- model_script = python_model.py\n\n"
      ]
    },
    {
      "cell_type": "code",
      "execution_count": null,
      "metadata": {
        "collapsed": false
      },
      "outputs": [],
      "source": [
        "if pick_model == 'vector' or pick_model == 'all':\n    # Call to RunModel - Here we run the model while instantiating the RunModel object.\n    t = time.time()\n    m=PythonModel(model_script='python_model.py', model_object_name='SumRVs')\n    m22 = RunModel(samples=x_mcs_tri_list, ntasks=2, model=m)\n    t_par_python = time.time() - t\n    print(\"\\nTime for parallel execution:\")\n    print(t_par_python)\n    print()\n    print(\"The values returned from the Matlab simulation:\")\n    print(m22.qoi_list)"
      ]
    },
    {
      "cell_type": "markdown",
      "metadata": {},
      "source": [
        "## Example 3: Passing a scalar and an array to RunModel\nIn this example, we pass a single scalar random variable as well as an array into a Matlab model.\n\nAgain, we will pass the samples both as an ndarray and as a list. Recall that UQpy converts all samples into an\nndarray of at least two dimensions internally.\n\n"
      ]
    },
    {
      "cell_type": "code",
      "execution_count": null,
      "metadata": {
        "collapsed": false
      },
      "outputs": [],
      "source": [
        "if pick_model == 'mixed' or pick_model == 'vector' or pick_model == 'all':\n    # Call MCS to generate samples\n    # THIS WILL NEED TO BE REWRITTEN WITH DISTRIBUTION AND MCS UPDATES --------------------------------------------\n    # First generate the scalar random variable\n    #     x_mcs1 = MCS(dist_name=['Normal'], dist_params=[[0,1]], nsamples=5, var_names = ['var1'])\n    # Next generate a 3x3 random matrix\n    #     x_mcs2 = MCS(dist_name=['Normal','Normal','Normal'], dist_params=[[0,1],[0,1],[0,1]], nsamples=15)\n    #     x_mcs_array = x_mcs2.samples.reshape((5,3,3))\n    # -------------------------------------------------------------------------------------------------------------\n\n    # Call MCS to generate samples\n    d = Normal(loc=0, scale=1)\n    x_mcs1 = MonteCarloSampling(distributions=d, nsamples=5, random_state=987979)\n    x_mcs2 = MonteCarloSampling(distributions=[d, d, d], nsamples=15, random_state=34876)\n    x_mcs_array = x_mcs2.samples.reshape((5, 3, 3))\n\n    print(\"Monte Carlo samples of a single random variable from a standard normal distribution.\")\n    print('Samples stored as an array:')\n    print('Data type:', type(x_mcs1.samples))\n    print('Number of samples:', len(x_mcs1.samples))\n    print('Dimensions of samples:', np.shape(x_mcs1.samples))\n    print('Samples')\n    print(x_mcs1.samples)\n    print()\n    print(\"Monte Carlo samples of a 3x3 matrix of standard normal random variables.\")\n    print('Samples stored as an array:')\n    print('Data type:', type(x_mcs_array))\n    print('Number of samples:', len(x_mcs_array))\n    print('Dimensions of samples:', np.shape(x_mcs_array))\n    print('Samples')\n    print(x_mcs_array)\n    print()\n\n    # Create a set of samples to be passed into RunModel\n    # Here we need to create the mixed samples such that each sample has a single scalar and a single 3x3 matrix.\n    # This data structure is essential to passing the input to UQpy correctly.\n    x_mixed = []\n    for i in range(5):\n        x_mixed.append([x_mcs1.samples[i], x_mcs_array[i]])\n\n    print(\"Combined samples with a scalar and a 3x3 matrix of standard normal random variables.\")\n    print('Samples stored as a list:')\n    print('Data type:', type(x_mixed))\n    print('Number of samples:', len(x_mixed))\n    print('Dimensions of samples:', np.shape(x_mixed))\n    print('Samples')\n    print(x_mixed)\n    print()\n\n    x_mixed_array = np.atleast_2d(np.asarray(x_mixed))\n    print(\"Combined samples with a scalar and a 3x3 matrix of standard normal random variables.\")\n    print('Samples stored as ndarray:')\n    print('Data type:', type(x_mixed_array))\n    print('Number of samples:', len(x_mixed_array))\n    print('Dimensions of samples:', np.shape(x_mixed_array))\n    print('Samples')\n    print(x_mixed_array)\n    print()\n\n    # Notice that, in both the ndarray case and the list case, the samples have dimension (5,2). That is, there\n    # are five samples of two variables. The first variable is a scalar. The second variable is a 3x3 matrix."
      ]
    },
    {
      "cell_type": "markdown",
      "metadata": {},
      "source": [
        "## 3.1 Pass samples as ndarray, Python class called, serial execution\nThis examples uses the following files:\n- model_script = python_model.py\n\n"
      ]
    },
    {
      "cell_type": "code",
      "execution_count": null,
      "metadata": {
        "collapsed": false
      },
      "outputs": [],
      "source": [
        "if pick_model == 'mixed' or pick_model == 'all':\n    # Call to RunModel - Here we run the model while instantiating the RunModel object.\n    t = time.time()\n    m=PythonModel(model_script='python_model.py', model_object_name='DetRVs')\n    m31 = RunModel(samples=x_mixed_array, ntasks=1, model=m)\n    t_ser_python = time.time() - t\n    print(\"\\nTime for serial execution:\")\n    print(t_ser_python)\n    print()\n    print(\"The values returned from the Matlab simulation:\")\n    print(m31.qoi_list)"
      ]
    },
    {
      "cell_type": "markdown",
      "metadata": {},
      "source": [
        "## 3.2 Pass samples as list, Python function called, parallel execution\nThis examples uses the following files:\n- model_script = python_model.py\n\n"
      ]
    },
    {
      "cell_type": "code",
      "execution_count": null,
      "metadata": {
        "collapsed": false
      },
      "outputs": [],
      "source": [
        "if pick_model == 'mixed' or pick_model == 'all':\n    # Call to RunModel - Here we run the model while instantiating the RunModel object.\n    # Note that the parallel model_object handles only one sample at a time.\n    t = time.time()\n    m=PythonModel(model_script='python_model.py', model_object_name='det_rvs_par')\n    m32 = RunModel(samples=x_mixed, ntasks=1, model=m)\n    t_par_python = time.time() - t\n    print(\"\\nTime for parallel execution:\")\n    print(t_par_python)\n    print()\n    print(\"The values returned from the Matlab simulation:\")\n    print(m32.qoi_list)"
      ]
    },
    {
      "cell_type": "markdown",
      "metadata": {},
      "source": [
        "## Example 4: Passing a fixed variable and an array of Random Variables to RunModel\nIn this example, we pass a fixed value coefficient as well as an array of random variables into a Python model.\n\nAgain, we will pass the samples both as an ndarray and as a list. Recall that UQpy converts all samples into an\nndarray of at least two dimensions internally.\n\n"
      ]
    },
    {
      "cell_type": "code",
      "execution_count": null,
      "metadata": {
        "collapsed": false
      },
      "outputs": [],
      "source": [
        "if pick_model == 'mixed' or pick_model == 'all':\n    x = 2.5\n\n    print('Constant Coefficient:')\n    print(x)\n    print()\n\n    print(\"Monte Carlo samples of a 3x3 matrix of standard normal random variables.\")\n    print('Samples stored as an array:')\n    print('Data type:', type(x_mcs_array))\n    print('Number of samples:', len(x_mcs_array))\n    print('Dimensions of samples:', np.shape(x_mcs_array))\n    print('Samples')\n    print(x_mcs_array)\n    print()\n\n    x_mcs_list = list(x_mcs_array)\n\n    print(\"3x3 matrix of standard normal random variables.\")\n    print('Samples stored as ndarray:')\n    print('Data type:', type(x_mcs_list))\n    print('Number of samples:', len(x_mcs_list))\n    print('Dimensions of samples:', np.shape(x_mcs_list))\n    print('Samples')\n    print(x_mcs_list)\n    print()\n\n    # Notice that, in both the ndarray case and the list case, the samples have dimension (5,2). That is, there\n    # are five samples of two variables. The first variable is a scalar. The second variable is a 3x3 matrix."
      ]
    },
    {
      "cell_type": "markdown",
      "metadata": {},
      "source": [
        "### 4.1 Pass samples as ndarray, Python class called, serial execution\nThis examples uses the following files:\n- model_script = python_model.py\n\n"
      ]
    },
    {
      "cell_type": "code",
      "execution_count": null,
      "metadata": {
        "collapsed": false
      },
      "outputs": [],
      "source": [
        "if pick_model == 'mixed' or pick_model == 'all':\n    # Call to RunModel - Here we run the model while instantiating the RunModel object.\n    t = time.time()\n    m=PythonModel(model_script='python_model.py', model_object_name='det_rvs_fixed')\n    m41 = RunModel(samples=x_mcs_array, ntasks=1, model=m, coeff=x)\n    t_ser_python = time.time() - t\n    print(\"\\nTime for serial execution:\")\n    print(t_ser_python)\n    print()\n    print(\"The values returned from the Matlab simulation:\")\n    print(m41.qoi_list)"
      ]
    },
    {
      "cell_type": "markdown",
      "metadata": {},
      "source": [
        "### 4.2 Pass samples as list, Python class called, serial execution\nThis examples uses the following files:\n- model_script = python_model.py\n\n"
      ]
    },
    {
      "cell_type": "code",
      "execution_count": null,
      "metadata": {
        "collapsed": false
      },
      "outputs": [],
      "source": [
        "if pick_model == 'mixed' or pick_model == 'all':\n    # Call to RunModel - Here we run the model while instantiating the RunModel object.\n    t = time.time()\n    m=PythonModel(model_script='python_model.py', model_object_name='det_rvs_fixed')\n    m42 = RunModel(samples=x_mcs_list, ntasks=1, model=m, coeff=x)\n    t_ser_python = time.time() - t\n    print(\"\\nTime for serial execution:\")\n    print(t_ser_python)\n    print()\n    print(\"The values returned from the Matlab simulation:\")\n    print(m42.qoi_list)"
      ]
    }
  ],
  "metadata": {
    "kernelspec": {
      "display_name": "Python 3",
      "language": "python",
      "name": "python3"
    },
    "language_info": {
      "codemirror_mode": {
        "name": "ipython",
        "version": 3
      },
      "file_extension": ".py",
      "mimetype": "text/x-python",
      "name": "python",
      "nbconvert_exporter": "python",
      "pygments_lexer": "ipython3",
      "version": "3.9.15"
    }
  },
  "nbformat": 4,
  "nbformat_minor": 0
}