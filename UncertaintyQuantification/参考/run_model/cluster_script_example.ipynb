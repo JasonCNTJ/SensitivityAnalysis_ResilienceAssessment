{
  "cells": [
    {
      "cell_type": "markdown",
      "metadata": {},
      "source": [
        "\n# Cluster Script Example for Third-party\n"
      ]
    },
    {
      "cell_type": "markdown",
      "metadata": {},
      "source": [
        "In this case, we're just running a simple addition of random numbers, but\nthe process is exactly the same for more complicated workflows. The pre-\nand post-processing is done through `model_script` and `output_script`\nrespectively, while the computationally intensive portion of the workflow\nis launched in `cluster_script`. The example below provides a minimal framework\nfrom which more complex cases can be constructed.\n\nImport the necessary libraries\n\n"
      ]
    },
    {
      "cell_type": "code",
      "execution_count": null,
      "metadata": {
        "collapsed": false
      },
      "outputs": [],
      "source": [
        "from UQpy.sampling import LatinHypercubeSampling\nfrom UQpy.run_model.RunModel import RunModel\nfrom UQpy.run_model.model_execution.ThirdPartyModel import ThirdPartyModel\nfrom UQpy.distributions import Uniform\nimport numpy as np\nimport time\nimport csv"
      ]
    },
    {
      "cell_type": "markdown",
      "metadata": {},
      "source": [
        "Define the distribution objects.\n\n"
      ]
    },
    {
      "cell_type": "code",
      "execution_count": null,
      "metadata": {
        "collapsed": false
      },
      "outputs": [],
      "source": [
        "var_names=[\"var_1\", \"var_2\"]        \ndistributions = [Uniform(250.0, 40.0), Uniform(66.0, 24.0)]"
      ]
    },
    {
      "cell_type": "markdown",
      "metadata": {},
      "source": [
        "Draw the samples using Latin Hypercube Sampling.\n\n"
      ]
    },
    {
      "cell_type": "code",
      "execution_count": null,
      "metadata": {
        "collapsed": false
      },
      "outputs": [],
      "source": [
        "x_lhs = LatinHypercubeSampling(distributions, nsamples=64)"
      ]
    },
    {
      "cell_type": "markdown",
      "metadata": {},
      "source": [
        "Run the model.\n\n"
      ]
    },
    {
      "cell_type": "code",
      "execution_count": null,
      "metadata": {
        "collapsed": false
      },
      "outputs": [],
      "source": [
        "model = ThirdPartyModel(var_names=var_names, input_template='inputRealization.json', model_script='addition_run.py',\n                        output_script='process_addition_output.py', output_object_name='OutputProcessor',\n                        model_dir='AdditionRuns')\n\nt = time.time()\nmodelRunner = RunModel(model=model, samples=x_lhs.samples, ntasks=1,\n                       cores_per_task=2, nodes=1, resume=False,\n                       run_type='CLUSTER', cluster_script='./run_script.sh')\n\nt_total = time.time() - t\nprint(\"\\nTotal time for all experiments:\")\nprint(t_total, \"\\n\")"
      ]
    },
    {
      "cell_type": "markdown",
      "metadata": {},
      "source": [
        "Print model results--this is just for illustration\n\n"
      ]
    },
    {
      "cell_type": "code",
      "execution_count": null,
      "metadata": {
        "collapsed": false
      },
      "outputs": [],
      "source": [
        "for index, experiment in enumerate(modelRunner.qoi_list, 0):\n    if len(experiment.qoi) != 0:\n        for item in experiment.qoi:\n            print(\"These are the random numbers for sample {}:\".format(index))\n            for sample in x_lhs.samples[index]:\n                print(\"{}\\t\".format(sample))\n\n            print(\"This is their sum:\")\n            for result in item:\n                print(\"{}\\t\".format(result))\n        print()"
      ]
    }
  ],
  "metadata": {
    "kernelspec": {
      "display_name": "Python 3",
      "language": "python",
      "name": "python3"
    },
    "language_info": {
      "codemirror_mode": {
        "name": "ipython",
        "version": 3
      },
      "file_extension": ".py",
      "mimetype": "text/x-python",
      "name": "python",
      "nbconvert_exporter": "python",
      "pygments_lexer": "ipython3",
      "version": "3.9.15"
    }
  },
  "nbformat": 4,
  "nbformat_minor": 0
}