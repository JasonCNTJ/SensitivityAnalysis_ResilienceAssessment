{
  "cells": [
    {
      "cell_type": "markdown",
      "metadata": {},
      "source": [
        "\n# Third-party - Abaqus\n"
      ]
    },
    {
      "cell_type": "markdown",
      "metadata": {},
      "source": [
        "Import the necessary libraries.\n\n"
      ]
    },
    {
      "cell_type": "code",
      "execution_count": null,
      "metadata": {
        "collapsed": false
      },
      "outputs": [],
      "source": [
        "import glob\nimport pickle\nimport time\nimport os\nfrom UQpy.distributions import Normal, Uniform\nfrom UQpy.run_model.RunModel import RunModel\nfrom UQpy.run_model.model_execution.ThirdPartyModel import ThirdPartyModel\nfrom UQpy.sampling import MonteCarloSampling\n\ncalling_directory = os.getcwd()\nt = time.time()"
      ]
    },
    {
      "cell_type": "markdown",
      "metadata": {},
      "source": [
        "Building the model\nThere are two probabilistic input variables, the fire load density and the yield strength.\n\n"
      ]
    },
    {
      "cell_type": "code",
      "execution_count": null,
      "metadata": {
        "collapsed": false
      },
      "outputs": [],
      "source": [
        "var_names = ['qtd', 'fy']"
      ]
    },
    {
      "cell_type": "markdown",
      "metadata": {},
      "source": [
        "Create the model object\n\n"
      ]
    },
    {
      "cell_type": "code",
      "execution_count": null,
      "metadata": {
        "collapsed": false
      },
      "outputs": [],
      "source": [
        "m = ThirdPartyModel(model_script='abaqus_fire_analysis.py', input_template='abaqus_input.py',\n                    output_script='extract_abaqus_output.py', var_names=var_names,\n                    model_dir='SFE_MCS', )\nabaqus_sfe_model = RunModel(cores_per_task=1, ntasks=24, model=m)\nprint('Example: Created the model object.')"
      ]
    },
    {
      "cell_type": "markdown",
      "metadata": {},
      "source": [
        "Towards defining the sampling scheme\nThe fire load density is assumed to be uniformly distributed between 50 $MJ/m^2$ and 450 $MJ/m^2$.\nThe yield strength is assumed to be normally distributed, with the parameters\nbeing: mean = 250 $MPa$ and coefficient of variation of $7%$.\n\nCreating samples using MCS.\n\n"
      ]
    },
    {
      "cell_type": "code",
      "execution_count": null,
      "metadata": {
        "collapsed": false
      },
      "outputs": [],
      "source": [
        "d_n = Normal(loc=50, scale=400)\nd_u = Uniform(location=2.50e8, scale=1.75e7)\nx_mcs = MonteCarloSampling(distributions=[d_n, d_u], samples_number=100, random_state=987979)"
      ]
    },
    {
      "cell_type": "markdown",
      "metadata": {},
      "source": [
        "Running simulations using the previously defined model object and samples\n\n"
      ]
    },
    {
      "cell_type": "code",
      "execution_count": null,
      "metadata": {
        "collapsed": false
      },
      "outputs": [],
      "source": [
        "sample_points = x_mcs.samples\nabaqus_sfe_model.run(samples=sample_points)"
      ]
    },
    {
      "cell_type": "markdown",
      "metadata": {},
      "source": [
        "The outputs from the analysis are the values of the performance function.\n\n"
      ]
    },
    {
      "cell_type": "code",
      "execution_count": null,
      "metadata": {
        "collapsed": false
      },
      "outputs": [],
      "source": [
        "qois = abaqus_sfe_model.qoi_list"
      ]
    },
    {
      "cell_type": "markdown",
      "metadata": {},
      "source": [
        "Save the samples and the qois in a dictionary called results with keys 'inputs' and 'outputs'.\n\n"
      ]
    },
    {
      "cell_type": "code",
      "execution_count": null,
      "metadata": {
        "collapsed": false
      },
      "outputs": [],
      "source": [
        "results = {'inputs': sample_points, 'outputs': qois}"
      ]
    },
    {
      "cell_type": "markdown",
      "metadata": {},
      "source": [
        "Pickle the results dictionary in the current directory. The basename and extension of the desired pickle file:\n\n"
      ]
    },
    {
      "cell_type": "code",
      "execution_count": null,
      "metadata": {
        "collapsed": false
      },
      "outputs": [],
      "source": [
        "res_basename = 'MCS_results'\nres_extension = '.pkl'"
      ]
    },
    {
      "cell_type": "markdown",
      "metadata": {},
      "source": [
        "Create a new results file with a larger index than any existing results files with the same name in the current\ndirectory.\n\n"
      ]
    },
    {
      "cell_type": "code",
      "execution_count": null,
      "metadata": {
        "collapsed": false
      },
      "outputs": [],
      "source": [
        "res_file_list = glob.glob(res_basename + '_???' + res_extension)\nif len(res_file_list) == 0:\n    res_file_name = res_basename + '_000' + res_extension\nelse:\n    max_number = max(res_file_list).split('.')[0].split('_')[-1]\n    res_file_name = res_basename + '_%03d' % (int(max_number) + 1) + res_extension\n\nres_file_name = os.path.join(calling_directory, res_file_name)"
      ]
    },
    {
      "cell_type": "markdown",
      "metadata": {},
      "source": [
        "Create a new results file with a larger index than any existing results files with the same name in the current\ndirectory.\n\n"
      ]
    },
    {
      "cell_type": "code",
      "execution_count": null,
      "metadata": {
        "collapsed": false
      },
      "outputs": [],
      "source": [
        "with open(res_file_name, 'wb') as f:\n    pickle.dump(results, f)\nprint('Saved the results to ' + res_file_name)\n\nprint('Example: Done!')\nprint('Time elapsed: %.2f minutes' % float((time.time() - t) / 60.0))"
      ]
    }
  ],
  "metadata": {
    "kernelspec": {
      "display_name": "Python 3",
      "language": "python",
      "name": "python3"
    },
    "language_info": {
      "codemirror_mode": {
        "name": "ipython",
        "version": 3
      },
      "file_extension": ".py",
      "mimetype": "text/x-python",
      "name": "python",
      "nbconvert_exporter": "python",
      "pygments_lexer": "ipython3",
      "version": "3.9.15"
    }
  },
  "nbformat": 4,
  "nbformat_minor": 0
}