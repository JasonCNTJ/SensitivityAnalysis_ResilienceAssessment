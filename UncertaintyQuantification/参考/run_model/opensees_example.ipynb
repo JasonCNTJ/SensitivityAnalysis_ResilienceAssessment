{
  "cells": [
    {
      "cell_type": "markdown",
      "metadata": {},
      "source": [
        "\n# Third-party - OpenSees\n"
      ]
    },
    {
      "cell_type": "markdown",
      "metadata": {},
      "source": [
        "Import the necessary libraries.\n\n"
      ]
    },
    {
      "cell_type": "code",
      "execution_count": null,
      "metadata": {
        "collapsed": false
      },
      "outputs": [],
      "source": [
        "import numpy as np\n\nfrom UQpy.distributions import Uniform\nfrom UQpy.run_model.RunModel import RunModel\nfrom UQpy.run_model.model_execution.ThirdPartyModel import ThirdPartyModel\nfrom UQpy.sampling import MonteCarloSampling"
      ]
    },
    {
      "cell_type": "markdown",
      "metadata": {},
      "source": [
        "Define the distribution objects.\n\n"
      ]
    },
    {
      "cell_type": "code",
      "execution_count": null,
      "metadata": {
        "collapsed": false
      },
      "outputs": [],
      "source": [
        "dist1 = Uniform(location=15000, scale=10000)\ndist2 = Uniform(location=450000, scale=80000)\ndist3 = Uniform(location=2.0e8, scale=0.5e8)"
      ]
    },
    {
      "cell_type": "markdown",
      "metadata": {},
      "source": [
        "Draw the samples using MCS.\n\n"
      ]
    },
    {
      "cell_type": "code",
      "execution_count": null,
      "metadata": {
        "collapsed": false
      },
      "outputs": [],
      "source": [
        "x = MonteCarloSampling(distributions=[dist1, dist2, dist3] * 6, samples_number=5, random_state=938475)\nsamples = np.array(x.samples).round(2)"
      ]
    },
    {
      "cell_type": "markdown",
      "metadata": {},
      "source": [
        "Run the model.\n\n"
      ]
    },
    {
      "cell_type": "code",
      "execution_count": null,
      "metadata": {
        "collapsed": false
      },
      "outputs": [],
      "source": [
        "names_ = ['fc1', 'fy1', 'Es1', 'fc2', 'fy2', 'Es2', 'fc3', 'fy3', 'Es3', 'fc4', 'fy4', 'Es4', 'fc5', 'fy5', 'Es5',\n          'fc6', 'fy6', 'Es6']\n\nm = ThirdPartyModel(model_script='opensees_model.py', input_template='import_variables.tcl', var_names=names_,\n                    model_object_name=\"opensees_run\", output_script='process_opensees_output.py',\n                    output_object_name='read_output')\nopensees_rc6_model = RunModel(samples=samples, ntasks=5, model=m)\n\noutputs = opensees_rc6_model.qoi_list\nprint(outputs)"
      ]
    }
  ],
  "metadata": {
    "kernelspec": {
      "display_name": "Python 3",
      "language": "python",
      "name": "python3"
    },
    "language_info": {
      "codemirror_mode": {
        "name": "ipython",
        "version": 3
      },
      "file_extension": ".py",
      "mimetype": "text/x-python",
      "name": "python",
      "nbconvert_exporter": "python",
      "pygments_lexer": "ipython3",
      "version": "3.9.15"
    }
  },
  "nbformat": 4,
  "nbformat_minor": 0
}