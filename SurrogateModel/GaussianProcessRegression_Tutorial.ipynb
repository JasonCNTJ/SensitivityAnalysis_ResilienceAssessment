{
 "cells": [
  {
   "cell_type": "markdown",
   "metadata": {},
   "source": [
    "# Simple GP Regression"
   ]
  },
  {
   "cell_type": "code",
   "execution_count": 1,
   "metadata": {},
   "outputs": [],
   "source": [
    "import math\n",
    "import torch\n",
    "import gpytorch\n",
    "from matplotlib import pyplot as plt\n",
    "\n",
    "%matplotlib inline\n",
    "%load_ext autoreload\n",
    "%autoreload 2"
   ]
  },
  {
   "cell_type": "code",
   "execution_count": 2,
   "metadata": {},
   "outputs": [],
   "source": [
    "# Training data is 100 points in [0,1] inclusive regularly spaced\n",
    "train_x = torch.linspace(0, 1, 100)\n",
    "# True function is sin(2*pi*x) with Gaussian noise\n",
    "train_y = torch.sin(train_x * (2 * math.pi)) + torch.randn(train_x.size()) * math.sqrt(0.04)"
   ]
  },
  {
   "cell_type": "code",
   "execution_count": 3,
   "metadata": {},
   "outputs": [],
   "source": [
    "# We will use the simplest form of GP model, exact inference\n",
    "class ExactGPModel(gpytorch.models.ExactGP):\n",
    "    def __init__(self, train_x, train_y, likelihood):\n",
    "        super(ExactGPModel, self).__init__(train_x, train_y, likelihood)\n",
    "        self.mean_module = gpytorch.means.ConstantMean()\n",
    "        self.covar_module = gpytorch.kernels.ScaleKernel(gpytorch.kernels.RBFKernel())\n",
    "\n",
    "    def forward(self, x):\n",
    "        mean_x = self.mean_module(x)\n",
    "        covar_x = self.covar_module(x)\n",
    "        return gpytorch.distributions.MultivariateNormal(mean_x, covar_x)\n",
    "\n",
    "# initialize likelihood and model\n",
    "likelihood = gpytorch.likelihoods.GaussianLikelihood()\n",
    "model = ExactGPModel(train_x, train_y, likelihood)"
   ]
  },
  {
   "cell_type": "code",
   "execution_count": 4,
   "metadata": {},
   "outputs": [
    {
     "name": "stdout",
     "output_type": "stream",
     "text": [
      "Iter 1/50 - Loss: 0.927   lengthscale: 0.693   noise: 0.693\n",
      "Iter 2/50 - Loss: 0.895   lengthscale: 0.644   noise: 0.644\n",
      "Iter 3/50 - Loss: 0.860   lengthscale: 0.598   noise: 0.598\n",
      "Iter 4/50 - Loss: 0.821   lengthscale: 0.555   noise: 0.554\n",
      "Iter 5/50 - Loss: 0.778   lengthscale: 0.514   noise: 0.513\n",
      "Iter 6/50 - Loss: 0.730   lengthscale: 0.475   noise: 0.474\n",
      "Iter 7/50 - Loss: 0.679   lengthscale: 0.438   noise: 0.437\n",
      "Iter 8/50 - Loss: 0.628   lengthscale: 0.404   noise: 0.402\n",
      "Iter 9/50 - Loss: 0.579   lengthscale: 0.371   noise: 0.369\n",
      "Iter 10/50 - Loss: 0.534   lengthscale: 0.341   noise: 0.339\n",
      "Iter 11/50 - Loss: 0.493   lengthscale: 0.315   noise: 0.310\n",
      "Iter 12/50 - Loss: 0.455   lengthscale: 0.292   noise: 0.284\n",
      "Iter 13/50 - Loss: 0.418   lengthscale: 0.273   noise: 0.259\n",
      "Iter 14/50 - Loss: 0.383   lengthscale: 0.257   noise: 0.237\n",
      "Iter 15/50 - Loss: 0.347   lengthscale: 0.244   noise: 0.216\n",
      "Iter 16/50 - Loss: 0.311   lengthscale: 0.234   noise: 0.196\n",
      "Iter 17/50 - Loss: 0.276   lengthscale: 0.227   noise: 0.179\n",
      "Iter 18/50 - Loss: 0.241   lengthscale: 0.221   noise: 0.162\n",
      "Iter 19/50 - Loss: 0.206   lengthscale: 0.217   noise: 0.148\n",
      "Iter 20/50 - Loss: 0.171   lengthscale: 0.215   noise: 0.134\n",
      "Iter 21/50 - Loss: 0.137   lengthscale: 0.215   noise: 0.122\n",
      "Iter 22/50 - Loss: 0.103   lengthscale: 0.216   noise: 0.110\n",
      "Iter 23/50 - Loss: 0.070   lengthscale: 0.219   noise: 0.100\n",
      "Iter 24/50 - Loss: 0.038   lengthscale: 0.223   noise: 0.091\n",
      "Iter 25/50 - Loss: 0.008   lengthscale: 0.228   noise: 0.083\n",
      "Iter 26/50 - Loss: -0.021   lengthscale: 0.233   noise: 0.075\n",
      "Iter 27/50 - Loss: -0.048   lengthscale: 0.240   noise: 0.069\n",
      "Iter 28/50 - Loss: -0.072   lengthscale: 0.247   noise: 0.062\n",
      "Iter 29/50 - Loss: -0.093   lengthscale: 0.254   noise: 0.057\n",
      "Iter 30/50 - Loss: -0.112   lengthscale: 0.262   noise: 0.052\n",
      "Iter 31/50 - Loss: -0.127   lengthscale: 0.269   noise: 0.048\n",
      "Iter 32/50 - Loss: -0.139   lengthscale: 0.275   noise: 0.044\n",
      "Iter 33/50 - Loss: -0.149   lengthscale: 0.281   noise: 0.040\n",
      "Iter 34/50 - Loss: -0.155   lengthscale: 0.285   noise: 0.037\n",
      "Iter 35/50 - Loss: -0.159   lengthscale: 0.288   noise: 0.035\n",
      "Iter 36/50 - Loss: -0.161   lengthscale: 0.290   noise: 0.033\n",
      "Iter 37/50 - Loss: -0.161   lengthscale: 0.290   noise: 0.031\n",
      "Iter 38/50 - Loss: -0.160   lengthscale: 0.288   noise: 0.029\n",
      "Iter 39/50 - Loss: -0.158   lengthscale: 0.285   noise: 0.027\n",
      "Iter 40/50 - Loss: -0.155   lengthscale: 0.281   noise: 0.026\n",
      "Iter 41/50 - Loss: -0.152   lengthscale: 0.275   noise: 0.025\n",
      "Iter 42/50 - Loss: -0.150   lengthscale: 0.269   noise: 0.025\n",
      "Iter 43/50 - Loss: -0.147   lengthscale: 0.263   noise: 0.024\n",
      "Iter 44/50 - Loss: -0.146   lengthscale: 0.257   noise: 0.024\n",
      "Iter 45/50 - Loss: -0.144   lengthscale: 0.252   noise: 0.024\n",
      "Iter 46/50 - Loss: -0.144   lengthscale: 0.247   noise: 0.024\n",
      "Iter 47/50 - Loss: -0.144   lengthscale: 0.244   noise: 0.024\n",
      "Iter 48/50 - Loss: -0.145   lengthscale: 0.241   noise: 0.024\n",
      "Iter 49/50 - Loss: -0.147   lengthscale: 0.240   noise: 0.024\n",
      "Iter 50/50 - Loss: -0.149   lengthscale: 0.239   noise: 0.025\n"
     ]
    }
   ],
   "source": [
    "# this is for running the notebook in our testing framework\n",
    "import os\n",
    "smoke_test = ('CI' in os.environ)\n",
    "training_iter = 2 if smoke_test else 50\n",
    "\n",
    "\n",
    "# Find optimal model hyperparameters\n",
    "model.train()\n",
    "likelihood.train()\n",
    "\n",
    "# Use the adam optimizer\n",
    "optimizer = torch.optim.Adam(model.parameters(), lr=0.1)  # Includes GaussianLikelihood parameters\n",
    "\n",
    "# \"Loss\" for GPs - the marginal log likelihood\n",
    "mll = gpytorch.mlls.ExactMarginalLogLikelihood(likelihood, model)\n",
    "\n",
    "for i in range(training_iter):\n",
    "    # Zero gradients from previous iteration\n",
    "    optimizer.zero_grad()\n",
    "    # Output from model\n",
    "    output = model(train_x)\n",
    "    # Calc loss and backprop gradients\n",
    "    loss = -mll(output, train_y)\n",
    "    loss.backward()\n",
    "    print('Iter %d/%d - Loss: %.3f   lengthscale: %.3f   noise: %.3f' % (\n",
    "        i + 1, training_iter, loss.item(),\n",
    "        model.covar_module.base_kernel.lengthscale.item(),\n",
    "        model.likelihood.noise.item()\n",
    "    ))\n",
    "    optimizer.step()"
   ]
  },
  {
   "cell_type": "code",
   "execution_count": 6,
   "metadata": {},
   "outputs": [],
   "source": [
    "# Get into evaluation (predictive posterior) mode\n",
    "model.eval()\n",
    "likelihood.eval()\n",
    "\n",
    "# Test points are regularly spaced along [0,1]\n",
    "# Make predictions by feeding model through likelihood\n",
    "with torch.no_grad(), gpytorch.settings.fast_pred_var():\n",
    "    test_x = torch.linspace(0, 1, 51)\n",
    "    observed_pred = likelihood(model(test_x))"
   ]
  },
  {
   "cell_type": "code",
   "execution_count": 8,
   "metadata": {},
   "outputs": [
    {
     "name": "stdout",
     "output_type": "stream",
     "text": [
      "torch.FloatTensor\n"
     ]
    }
   ],
   "source": [
    "print(test_x.type())"
   ]
  },
  {
   "cell_type": "code",
   "execution_count": 6,
   "metadata": {},
   "outputs": [
    {
     "data": {
      "image/png": "[encoded data removed]",
      "text/plain": [
       "<Figure size 400x300 with 1 Axes>"
      ]
     },
     "metadata": {},
     "output_type": "display_data"
    }
   ],
   "source": [
    "with torch.no_grad():\n",
    "    # Initialize plot\n",
    "    f, ax = plt.subplots(1, 1, figsize=(4, 3))\n",
    "\n",
    "    # Get upper and lower confidence bounds\n",
    "    lower, upper = observed_pred.confidence_region()\n",
    "    # Plot training data as black stars\n",
    "    ax.plot(train_x.numpy(), train_y.numpy(), 'k*')\n",
    "    # Plot predictive means as blue line\n",
    "    ax.plot(test_x.numpy(), observed_pred.mean.numpy(), 'b')\n",
    "    # Shade between the lower and upper confidence bounds\n",
    "    ax.fill_between(test_x.numpy(), lower.numpy(), upper.numpy(), alpha=0.5)\n",
    "    ax.set_ylim([-3, 3])\n",
    "    ax.legend(['Observed Data', 'Mean', 'Confidence'])"
   ]
  },
  {
   "cell_type": "markdown",
   "metadata": {},
   "source": [
    "# GP Regression with a Spectral Mixture Kernel"
   ]
  },
  {
   "cell_type": "code",
   "execution_count": 4,
   "metadata": {},
   "outputs": [],
   "source": [
    "import math\n",
    "import torch\n",
    "import gpytorch\n",
    "import matplotlib.pyplot as plt\n",
    "\n",
    "%matplotlib inline\n",
    "%load_ext autoreload\n",
    "%autoreload 2"
   ]
  },
  {
   "cell_type": "code",
   "execution_count": 5,
   "metadata": {},
   "outputs": [],
   "source": [
    "train_x = torch.linspace(0, 1, 15)\n",
    "train_y = torch.sin(train_x * (2 * math.pi))"
   ]
  },
  {
   "cell_type": "code",
   "execution_count": 6,
   "metadata": {},
   "outputs": [],
   "source": [
    "class SpectralMixtureGPModel(gpytorch.models.ExactGP):\n",
    "    def __init__(self, train_x, train_y, likelihood):\n",
    "        super(SpectralMixtureGPModel, self).__init__(train_x, train_y, likelihood)\n",
    "        self.mean_module = gpytorch.means.ConstantMean()\n",
    "        self.covar_module = gpytorch.kernels.SpectralMixtureKernel(num_mixtures=4)\n",
    "        self.covar_module.initialize_from_data(train_x, train_y)\n",
    "\n",
    "    def forward(self,x):\n",
    "        mean_x = self.mean_module(x)\n",
    "        covar_x = self.covar_module(x)\n",
    "        return gpytorch.distributions.MultivariateNormal(mean_x, covar_x)\n",
    "\n",
    "\n",
    "likelihood = gpytorch.likelihoods.GaussianLikelihood()\n",
    "model = SpectralMixtureGPModel(train_x, train_y, likelihood)"
   ]
  },
  {
   "cell_type": "code",
   "execution_count": 7,
   "metadata": {},
   "outputs": [
    {
     "name": "stdout",
     "output_type": "stream",
     "text": [
      "Iter 1/100 - Loss: 1.347\n",
      "Iter 2/100 - Loss: 1.326\n",
      "Iter 3/100 - Loss: 1.297\n",
      "Iter 4/100 - Loss: 1.275\n",
      "Iter 5/100 - Loss: 1.253\n",
      "Iter 6/100 - Loss: 1.231\n",
      "Iter 7/100 - Loss: 1.210\n",
      "Iter 8/100 - Loss: 1.193\n",
      "Iter 9/100 - Loss: 1.177\n",
      "Iter 10/100 - Loss: 1.160\n",
      "Iter 11/100 - Loss: 1.144\n",
      "Iter 12/100 - Loss: 1.129\n",
      "Iter 13/100 - Loss: 1.115\n",
      "Iter 14/100 - Loss: 1.100\n",
      "Iter 15/100 - Loss: 1.084\n",
      "Iter 16/100 - Loss: 1.067\n",
      "Iter 17/100 - Loss: 1.051\n",
      "Iter 18/100 - Loss: 1.032\n",
      "Iter 19/100 - Loss: 1.011\n",
      "Iter 20/100 - Loss: 0.986\n",
      "Iter 21/100 - Loss: 0.958\n",
      "Iter 22/100 - Loss: 0.928\n",
      "Iter 23/100 - Loss: 0.895\n",
      "Iter 24/100 - Loss: 0.861\n",
      "Iter 25/100 - Loss: 0.826\n",
      "Iter 26/100 - Loss: 0.791\n",
      "Iter 27/100 - Loss: 0.753\n",
      "Iter 28/100 - Loss: 0.714\n",
      "Iter 29/100 - Loss: 0.670\n",
      "Iter 30/100 - Loss: 0.623\n",
      "Iter 31/100 - Loss: 0.573\n",
      "Iter 32/100 - Loss: 0.519\n",
      "Iter 33/100 - Loss: 0.462\n",
      "Iter 34/100 - Loss: 0.403\n",
      "Iter 35/100 - Loss: 0.342\n",
      "Iter 36/100 - Loss: 0.282\n",
      "Iter 37/100 - Loss: 0.222\n",
      "Iter 38/100 - Loss: 0.166\n",
      "Iter 39/100 - Loss: 0.114\n",
      "Iter 40/100 - Loss: 0.069\n",
      "Iter 41/100 - Loss: 0.031\n",
      "Iter 42/100 - Loss: 0.000\n",
      "Iter 43/100 - Loss: -0.027\n",
      "Iter 44/100 - Loss: -0.060\n",
      "Iter 45/100 - Loss: -0.102\n",
      "Iter 46/100 - Loss: -0.153\n",
      "Iter 47/100 - Loss: -0.206\n",
      "Iter 48/100 - Loss: -0.256\n",
      "Iter 49/100 - Loss: -0.300\n",
      "Iter 50/100 - Loss: -0.338\n",
      "Iter 51/100 - Loss: -0.373\n",
      "Iter 52/100 - Loss: -0.406\n",
      "Iter 53/100 - Loss: -0.441\n",
      "Iter 54/100 - Loss: -0.479\n",
      "Iter 55/100 - Loss: -0.520\n",
      "Iter 56/100 - Loss: -0.564\n",
      "Iter 57/100 - Loss: -0.609\n",
      "Iter 58/100 - Loss: -0.654\n",
      "Iter 59/100 - Loss: -0.699\n",
      "Iter 60/100 - Loss: -0.743\n",
      "Iter 61/100 - Loss: -0.786\n",
      "Iter 62/100 - Loss: -0.831\n",
      "Iter 63/100 - Loss: -0.879\n",
      "Iter 64/100 - Loss: -0.930\n",
      "Iter 65/100 - Loss: -0.982\n",
      "Iter 66/100 - Loss: -1.033\n",
      "Iter 67/100 - Loss: -1.083\n",
      "Iter 68/100 - Loss: -1.133\n",
      "Iter 69/100 - Loss: -1.185\n",
      "Iter 70/100 - Loss: -1.240\n",
      "Iter 71/100 - Loss: -1.301\n",
      "Iter 72/100 - Loss: -1.366\n",
      "Iter 73/100 - Loss: -1.435\n",
      "Iter 74/100 - Loss: -1.506\n",
      "Iter 75/100 - Loss: -1.581\n",
      "Iter 76/100 - Loss: -1.656\n",
      "Iter 77/100 - Loss: -1.624\n",
      "Iter 78/100 - Loss: -1.772\n",
      "Iter 79/100 - Loss: -1.749\n",
      "Iter 80/100 - Loss: -1.848\n",
      "Iter 81/100 - Loss: -1.885\n",
      "Iter 82/100 - Loss: -1.706\n",
      "Iter 83/100 - Loss: -2.014\n",
      "Iter 84/100 - Loss: -1.836\n",
      "Iter 85/100 - Loss: -2.057\n",
      "Iter 86/100 - Loss: -1.876\n",
      "Iter 87/100 - Loss: -2.106\n",
      "Iter 88/100 - Loss: -1.986\n",
      "Iter 89/100 - Loss: -2.123\n",
      "Iter 90/100 - Loss: -2.044\n",
      "Iter 91/100 - Loss: -2.190\n",
      "Iter 92/100 - Loss: -2.059\n",
      "Iter 93/100 - Loss: -2.249\n",
      "Iter 94/100 - Loss: -2.090\n",
      "Iter 95/100 - Loss: -2.275\n",
      "Iter 96/100 - Loss: -2.145\n",
      "Iter 97/100 - Loss: -2.292\n",
      "Iter 98/100 - Loss: -2.190\n",
      "Iter 99/100 - Loss: -2.328\n",
      "Iter 100/100 - Loss: -2.217\n"
     ]
    }
   ],
   "source": [
    "# this is for running the notebook in our testing framework\n",
    "import os\n",
    "smoke_test = ('CI' in os.environ)\n",
    "training_iter = 2 if smoke_test else 100\n",
    "\n",
    "# Find optimal model hyperparameters\n",
    "model.train()\n",
    "likelihood.train()\n",
    "\n",
    "# Use the adam optimizer\n",
    "optimizer = torch.optim.Adam(model.parameters(), lr=0.1)\n",
    "\n",
    "# \"Loss\" for GPs - the marginal log likelihood\n",
    "mll = gpytorch.mlls.ExactMarginalLogLikelihood(likelihood, model)\n",
    "\n",
    "for i in range(training_iter):\n",
    "    optimizer.zero_grad()\n",
    "    output = model(train_x)\n",
    "    loss = -mll(output, train_y)\n",
    "    loss.backward()\n",
    "    print('Iter %d/%d - Loss: %.3f' % (i + 1, training_iter, loss.item()))\n",
    "    optimizer.step()"
   ]
  },
  {
   "cell_type": "code",
   "execution_count": 8,
   "metadata": {},
   "outputs": [
    {
     "data": {
      "image/png": "[encoded data removed]",
      "text/plain": [
       "<Figure size 400x300 with 1 Axes>"
      ]
     },
     "metadata": {},
     "output_type": "display_data"
    }
   ],
   "source": [
    "# Test points every 0.1 between 0 and 5\n",
    "test_x = torch.linspace(0, 5, 51)\n",
    "\n",
    "# Get into evaluation (predictive posterior) mode\n",
    "model.eval()\n",
    "likelihood.eval()\n",
    "\n",
    "# The gpytorch.settings.fast_pred_var flag activates LOVE (for fast variances)\n",
    "# See https://arxiv.org/abs/1803.06058\n",
    "with torch.no_grad(), gpytorch.settings.fast_pred_var():\n",
    "    # Make predictions\n",
    "    observed_pred = likelihood(model(test_x))\n",
    "\n",
    "    # Initialize plot\n",
    "    f, ax = plt.subplots(1, 1, figsize=(4, 3))\n",
    "\n",
    "    # Get upper and lower confidence bounds\n",
    "    lower, upper = observed_pred.confidence_region()\n",
    "    # Plot training data as black stars\n",
    "    ax.plot(train_x.numpy(), train_y.numpy(), 'k*')\n",
    "    # Plot predictive means as blue line\n",
    "    ax.plot(test_x.numpy(), observed_pred.mean.numpy(), 'b')\n",
    "    # Shade between the lower and upper confidence bounds\n",
    "    ax.fill_between(test_x.numpy(), lower.numpy(), upper.numpy(), alpha=0.5)\n",
    "    ax.set_ylim([-3, 3])\n",
    "    ax.legend(['Observed Data', 'Mean', 'Confidence'])"
   ]
  },
  {
   "cell_type": "markdown",
   "metadata": {},
   "source": [
    "# Fully Bayesian GPs-Sampling Hyperparameters with NUTS"
   ]
  },
  {
   "cell_type": "code",
   "execution_count": 2,
   "metadata": {},
   "outputs": [],
   "source": [
    "import math\n",
    "import torch\n",
    "import gpytorch\n",
    "import pyro\n",
    "from pyro.infer.mcmc import NUTS, MCMC, HMC\n",
    "from matplotlib import pyplot as plt\n",
    "\n",
    "%matplotlib inline\n",
    "%load_ext autoreload\n",
    "%autoreload 2"
   ]
  },
  {
   "cell_type": "code",
   "execution_count": 3,
   "metadata": {},
   "outputs": [],
   "source": [
    "# Training data is 11 points in [0,1] inclusive regularly spaced\n",
    "train_x = torch.linspace(0, 1, 4)\n",
    "# True function is sin(2*pi*x) with Gaussian noise\n",
    "train_y = torch.sin(train_x * (2 * math.pi)) + torch.randn(train_x.size()) * 0.2"
   ]
  },
  {
   "cell_type": "code",
   "execution_count": 4,
   "metadata": {},
   "outputs": [],
   "source": [
    "# We will use the simplest form of GP model, exact inference\n",
    "class ExactGPModel(gpytorch.models.ExactGP):\n",
    "    def __init__(self, train_x, train_y, likelihood):\n",
    "        super(ExactGPModel, self).__init__(train_x, train_y, likelihood)\n",
    "        self.mean_module = gpytorch.means.ConstantMean()\n",
    "        self.covar_module = gpytorch.kernels.ScaleKernel(gpytorch.kernels.RBFKernel())\n",
    "\n",
    "    def forward(self, x):\n",
    "        mean_x = self.mean_module(x)\n",
    "        covar_x = self.covar_module(x)\n",
    "        return gpytorch.distributions.MultivariateNormal(mean_x, covar_x)"
   ]
  },
  {
   "cell_type": "markdown",
   "metadata": {},
   "source": [
    "## Running Sampling\n",
    "The next cell is the first piece of code that differs substantially from other work flows. In it, we create the model and likelihood as normal, and then register priors to each of the parameters of the model. Note that we directly can register priors to transformed parameters (e.g., \"lengthscale\") rather than raw ones (e.g., \"raw_lengthscale\")."
   ]
  },
  {
   "cell_type": "code",
   "execution_count": 5,
   "metadata": {},
   "outputs": [
    {
     "name": "stderr",
     "output_type": "stream",
     "text": [
      "Sample: 100%|██████████| 200/200 [00:11, 16.82it/s, step size=3.93e-01, acc. prob=0.959]\n"
     ]
    }
   ],
   "source": [
    "# this is for running the notebook in our testing framework\n",
    "import os\n",
    "smoke_test = ('CI' in os.environ)\n",
    "num_samples = 2 if smoke_test else 100\n",
    "warmup_steps = 2 if smoke_test else 100\n",
    "\n",
    "\n",
    "from gpytorch.priors import LogNormalPrior, NormalPrior, UniformPrior\n",
    "# Use a positive constraint instead of usual GreaterThan(1e-4) so that LogNormal has support over full range.\n",
    "likelihood = gpytorch.likelihoods.GaussianLikelihood(noise_constraint=gpytorch.constraints.Positive())\n",
    "model = ExactGPModel(train_x, train_y, likelihood)\n",
    "\n",
    "model.mean_module.register_prior(\"mean_prior\", UniformPrior(-1, 1), \"constant\")\n",
    "model.covar_module.base_kernel.register_prior(\"lengthscale_prior\", UniformPrior(0.01, 0.5), \"lengthscale\")\n",
    "model.covar_module.register_prior(\"outputscale_prior\", UniformPrior(1, 2), \"outputscale\")\n",
    "likelihood.register_prior(\"noise_prior\", UniformPrior(0.01, 0.5), \"noise\")\n",
    "\n",
    "mll = gpytorch.mlls.ExactMarginalLogLikelihood(likelihood, model)\n",
    "\n",
    "def pyro_model(x, y):\n",
    "    with gpytorch.settings.fast_computations(False, False, False):\n",
    "        sampled_model = model.pyro_sample_from_prior()\n",
    "        output = sampled_model.likelihood(sampled_model(x))\n",
    "        pyro.sample(\"obs\", output, obs=y)\n",
    "    return y\n",
    "\n",
    "nuts_kernel = NUTS(pyro_model)\n",
    "mcmc_run = MCMC(nuts_kernel, num_samples=num_samples, warmup_steps=warmup_steps, disable_progbar=smoke_test)\n",
    "mcmc_run.run(train_x, train_y)"
   ]
  },
  {
   "cell_type": "code",
   "execution_count": 6,
   "metadata": {},
   "outputs": [],
   "source": [
    "model.pyro_load_from_samples(mcmc_run.get_samples())"
   ]
  },
  {
   "cell_type": "code",
   "execution_count": 7,
   "metadata": {},
   "outputs": [],
   "source": [
    "model.eval()\n",
    "test_x = torch.linspace(0, 1, 101).unsqueeze(-1)\n",
    "test_y = torch.sin(test_x * (2 * math.pi))\n",
    "expanded_test_x = test_x.unsqueeze(0).repeat(num_samples, 1, 1)\n",
    "output = model(expanded_test_x)"
   ]
  },
  {
   "cell_type": "code",
   "execution_count": 10,
   "metadata": {},
   "outputs": [
    {
     "data": {
      "image/png": "[encoded data removed]",
      "text/plain": [
       "<Figure size 400x300 with 1 Axes>"
      ]
     },
     "metadata": {},
     "output_type": "display_data"
    }
   ],
   "source": [
    "with torch.no_grad():\n",
    "    # Initialize plot\n",
    "    f, ax = plt.subplots(1, 1, figsize=(4, 3))\n",
    "\n",
    "    # Plot training data as black stars\n",
    "    ax.plot(train_x.numpy(), train_y.numpy(), 'k*', zorder=10)\n",
    "\n",
    "    for i in range(min(num_samples, 25)):\n",
    "        # Plot predictive means as blue line\n",
    "        ax.plot(test_x.numpy(), output.mean[i].detach().numpy(), 'b', linewidth=0.3)\n",
    "\n",
    "    # Shade between the lower and upper confidence bounds\n",
    "    # ax.fill_between(test_x.numpy(), lower.numpy(), upper.numpy(), alpha=0.5)\n",
    "    ax.set_ylim([-3, 3])\n",
    "    ax.legend(['Observed Data', 'Sampled Means'])"
   ]
  },
  {
   "cell_type": "markdown",
   "metadata": {},
   "source": [
    "# Multi-task"
   ]
  },
  {
   "cell_type": "code",
   "execution_count": 1,
   "metadata": {},
   "outputs": [],
   "source": [
    "import math\n",
    "import torch\n",
    "import gpytorch\n",
    "import matplotlib.pyplot as plt\n",
    "\n",
    "%matplotlib inline\n",
    "%load_ext autoreload\n",
    "%autoreload 2"
   ]
  },
  {
   "cell_type": "code",
   "execution_count": 2,
   "metadata": {},
   "outputs": [],
   "source": [
    "train_x = torch.linspace(0, 1, 100)\n",
    "\n",
    "train_y = torch.stack([\n",
    "    torch.sin(train_x * (2 * math.pi)) + torch.randn(train_x.size()) * 0.2,\n",
    "    torch.cos(train_x * (2 * math.pi)) + torch.randn(train_x.size()) * 0.2,\n",
    "], -1)"
   ]
  },
  {
   "cell_type": "code",
   "execution_count": 4,
   "metadata": {},
   "outputs": [
    {
     "name": "stdout",
     "output_type": "stream",
     "text": [
      "torch.Size([100, 2])\n"
     ]
    }
   ],
   "source": [
    "print(train_y.shape)"
   ]
  },
  {
   "cell_type": "code",
   "execution_count": 3,
   "metadata": {},
   "outputs": [],
   "source": [
    "class MultitaskGPModel(gpytorch.models.ExactGP):\n",
    "    def __init__(self, train_x, train_y, likelihood):\n",
    "        super(MultitaskGPModel, self).__init__(train_x, train_y, likelihood)\n",
    "        self.mean_module = gpytorch.means.MultitaskMean(\n",
    "            gpytorch.means.ConstantMean(), num_tasks=2\n",
    "        )\n",
    "        self.covar_module = gpytorch.kernels.MultitaskKernel(\n",
    "            gpytorch.kernels.RBFKernel(), num_tasks=2, rank=1\n",
    "        )\n",
    "\n",
    "    def forward(self, x):\n",
    "        mean_x = self.mean_module(x)\n",
    "        covar_x = self.covar_module(x)\n",
    "        return gpytorch.distributions.MultitaskMultivariateNormal(mean_x, covar_x)\n",
    "\n",
    "\n",
    "likelihood = gpytorch.likelihoods.MultitaskGaussianLikelihood(num_tasks=2)\n",
    "model = MultitaskGPModel(train_x, train_y, likelihood)"
   ]
  },
  {
   "cell_type": "code",
   "execution_count": 4,
   "metadata": {},
   "outputs": [
    {
     "name": "stdout",
     "output_type": "stream",
     "text": [
      "Iter 1/50 - Loss: 1.219\n",
      "Iter 2/50 - Loss: 1.180\n",
      "Iter 3/50 - Loss: 1.141\n",
      "Iter 4/50 - Loss: 1.102\n",
      "Iter 5/50 - Loss: 1.064\n",
      "Iter 6/50 - Loss: 1.025\n",
      "Iter 7/50 - Loss: 0.984\n",
      "Iter 8/50 - Loss: 0.942\n",
      "Iter 9/50 - Loss: 0.899\n",
      "Iter 10/50 - Loss: 0.856\n",
      "Iter 11/50 - Loss: 0.814\n",
      "Iter 12/50 - Loss: 0.775\n",
      "Iter 13/50 - Loss: 0.736\n",
      "Iter 14/50 - Loss: 0.698\n",
      "Iter 15/50 - Loss: 0.659\n",
      "Iter 16/50 - Loss: 0.620\n",
      "Iter 17/50 - Loss: 0.580\n",
      "Iter 18/50 - Loss: 0.539\n",
      "Iter 19/50 - Loss: 0.497\n",
      "Iter 20/50 - Loss: 0.455\n",
      "Iter 21/50 - Loss: 0.413\n",
      "Iter 22/50 - Loss: 0.372\n",
      "Iter 23/50 - Loss: 0.331\n",
      "Iter 24/50 - Loss: 0.292\n",
      "Iter 25/50 - Loss: 0.254\n",
      "Iter 26/50 - Loss: 0.219\n",
      "Iter 27/50 - Loss: 0.185\n",
      "Iter 28/50 - Loss: 0.152\n",
      "Iter 29/50 - Loss: 0.121\n",
      "Iter 30/50 - Loss: 0.090\n",
      "Iter 31/50 - Loss: 0.060\n",
      "Iter 32/50 - Loss: 0.033\n",
      "Iter 33/50 - Loss: 0.008\n",
      "Iter 34/50 - Loss: -0.013\n",
      "Iter 35/50 - Loss: -0.032\n",
      "Iter 36/50 - Loss: -0.049\n",
      "Iter 37/50 - Loss: -0.063\n",
      "Iter 38/50 - Loss: -0.074\n",
      "Iter 39/50 - Loss: -0.084\n",
      "Iter 40/50 - Loss: -0.091\n",
      "Iter 41/50 - Loss: -0.095\n",
      "Iter 42/50 - Loss: -0.098\n",
      "Iter 43/50 - Loss: -0.098\n",
      "Iter 44/50 - Loss: -0.097\n",
      "Iter 45/50 - Loss: -0.095\n",
      "Iter 46/50 - Loss: -0.092\n",
      "Iter 47/50 - Loss: -0.089\n",
      "Iter 48/50 - Loss: -0.086\n",
      "Iter 49/50 - Loss: -0.084\n",
      "Iter 50/50 - Loss: -0.082\n"
     ]
    }
   ],
   "source": [
    "# this is for running the notebook in our testing framework\n",
    "import os\n",
    "smoke_test = ('CI' in os.environ)\n",
    "training_iterations = 2 if smoke_test else 50\n",
    "\n",
    "\n",
    "# Find optimal model hyperparameters\n",
    "model.train()\n",
    "likelihood.train()\n",
    "\n",
    "# Use the adam optimizer\n",
    "optimizer = torch.optim.Adam(model.parameters(), lr=0.1)  # Includes GaussianLikelihood parameters\n",
    "\n",
    "# \"Loss\" for GPs - the marginal log likelihood\n",
    "mll = gpytorch.mlls.ExactMarginalLogLikelihood(likelihood, model)\n",
    "\n",
    "for i in range(training_iterations):\n",
    "    optimizer.zero_grad()\n",
    "    output = model(train_x)\n",
    "    loss = -mll(output, train_y)\n",
    "    loss.backward()\n",
    "    print('Iter %d/%d - Loss: %.3f' % (i + 1, training_iterations, loss.item()))\n",
    "    optimizer.step()"
   ]
  }
 ],
 "metadata": {
  "kernelspec": {
   "display_name": "py310r",
   "language": "python",
   "name": "python3"
  },
  "language_info": {
   "codemirror_mode": {
    "name": "ipython",
    "version": 3
   },
   "file_extension": ".py",
   "mimetype": "text/x-python",
   "name": "python",
   "nbconvert_exporter": "python",
   "pygments_lexer": "ipython3",
   "version": "3.10.12"
  },
  "orig_nbformat": 4
 },
 "nbformat": 4,
 "nbformat_minor": 2
}
