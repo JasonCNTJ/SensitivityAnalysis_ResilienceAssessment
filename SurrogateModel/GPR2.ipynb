{
 "cells": [
  {
   "cell_type": "code",
   "execution_count": 1,
   "metadata": {},
   "outputs": [],
   "source": [
    "# 导入合适的库\n",
    "import numpy as np\n",
    "import torch\n",
    "import gpytorch\n",
    "import matplotlib.pyplot as plt\n",
    "\n",
    "%matplotlib inline\n",
    "%load_ext autoreload\n",
    "%autoreload 2"
   ]
  },
  {
   "cell_type": "code",
   "execution_count": 2,
   "metadata": {},
   "outputs": [],
   "source": [
    "# 导入数据\n",
    "params = np.loadtxt('0823paramsnp.txt')  # [T1, mb, kesi, PGA, PGV, PGD, Sd, Sv, Sa]\n",
    "edpResults = np.loadtxt('0823edpResult.txt')"
   ]
  },
  {
   "cell_type": "code",
   "execution_count": 3,
   "metadata": {},
   "outputs": [],
   "source": [
    "# 数据抓换成torch格式\n",
    "train_x = torch.from_numpy(params[:1600, :4]).to(torch.float) \n",
    "train_y = torch.from_numpy(edpResults[:1600, 0]).to(torch.float)"
   ]
  },
  {
   "cell_type": "code",
   "execution_count": 15,
   "metadata": {},
   "outputs": [
    {
     "data": {
      "text/plain": [
       "torch.Size([1600, 4])"
      ]
     },
     "execution_count": 15,
     "metadata": {},
     "output_type": "execute_result"
    }
   ],
   "source": [
    "train_x.size()"
   ]
  },
  {
   "cell_type": "code",
   "execution_count": 4,
   "metadata": {},
   "outputs": [],
   "source": [
    "class SpectralMixtureGPModel(gpytorch.models.ExactGP):\n",
    "    def __init__(self, train_x, train_y, likelihood):\n",
    "        super(SpectralMixtureGPModel, self).__init__(train_x, train_y, likelihood)\n",
    "        self.mean_module = gpytorch.means.ConstantMean()\n",
    "        self.covar_module = gpytorch.kernels.SpectralMixtureKernel(num_mixtures=4, ard_num_dims=4)\n",
    "        self.covar_module.initialize_from_data(train_x, train_y)\n",
    "\n",
    "    def forward(self,x):\n",
    "        mean_x = self.mean_module(x)\n",
    "        covar_x = self.covar_module(x)\n",
    "        return gpytorch.distributions.MultivariateNormal(mean_x, covar_x)\n",
    "\n",
    "\n",
    "likelihood = gpytorch.likelihoods.GaussianLikelihood()\n",
    "model = SpectralMixtureGPModel(train_x, train_y, likelihood)"
   ]
  },
  {
   "cell_type": "code",
   "execution_count": 5,
   "metadata": {},
   "outputs": [
    {
     "name": "stdout",
     "output_type": "stream",
     "text": [
      "Iter 1/50 - Loss: 0.736\n",
      "Iter 2/50 - Loss: 0.707\n",
      "Iter 3/50 - Loss: 0.663\n",
      "Iter 4/50 - Loss: 0.626\n",
      "Iter 5/50 - Loss: 0.590\n",
      "Iter 6/50 - Loss: 0.548\n",
      "Iter 7/50 - Loss: 0.505\n",
      "Iter 8/50 - Loss: 0.465\n",
      "Iter 9/50 - Loss: 0.425\n",
      "Iter 10/50 - Loss: 0.382\n",
      "Iter 11/50 - Loss: 0.337\n",
      "Iter 12/50 - Loss: 0.293\n",
      "Iter 13/50 - Loss: 0.250\n",
      "Iter 14/50 - Loss: 0.205\n",
      "Iter 15/50 - Loss: 0.158\n",
      "Iter 16/50 - Loss: 0.111\n",
      "Iter 17/50 - Loss: 0.065\n",
      "Iter 18/50 - Loss: 0.018\n",
      "Iter 19/50 - Loss: -0.031\n",
      "Iter 20/50 - Loss: -0.079\n",
      "Iter 21/50 - Loss: -0.127\n",
      "Iter 22/50 - Loss: -0.178\n",
      "Iter 23/50 - Loss: -0.226\n",
      "Iter 24/50 - Loss: -0.276\n",
      "Iter 25/50 - Loss: -0.327\n",
      "Iter 26/50 - Loss: -0.376\n",
      "Iter 27/50 - Loss: -0.428\n",
      "Iter 28/50 - Loss: -0.479\n",
      "Iter 29/50 - Loss: -0.530\n",
      "Iter 30/50 - Loss: -0.581\n",
      "Iter 31/50 - Loss: -0.633\n",
      "Iter 32/50 - Loss: -0.684\n",
      "Iter 33/50 - Loss: -0.737\n",
      "Iter 34/50 - Loss: -0.787\n",
      "Iter 35/50 - Loss: -0.840\n",
      "Iter 36/50 - Loss: -0.892\n",
      "Iter 37/50 - Loss: -0.943\n",
      "Iter 38/50 - Loss: -0.995\n",
      "Iter 39/50 - Loss: -1.049\n",
      "Iter 40/50 - Loss: -1.101\n",
      "Iter 41/50 - Loss: -1.152\n",
      "Iter 42/50 - Loss: -1.200\n",
      "Iter 43/50 - Loss: -1.246\n",
      "Iter 44/50 - Loss: -1.306\n",
      "Iter 45/50 - Loss: -1.360\n",
      "Iter 46/50 - Loss: -1.403\n",
      "Iter 47/50 - Loss: -1.460\n",
      "Iter 48/50 - Loss: -1.517\n",
      "Iter 49/50 - Loss: -1.559\n",
      "Iter 50/50 - Loss: -1.609\n"
     ]
    }
   ],
   "source": [
    "# this is for running the notebook in our testing framework\n",
    "import os\n",
    "smoke_test = ('CI' in os.environ)\n",
    "training_iter = 2 if smoke_test else 50\n",
    "\n",
    "# Find optimal model hyperparameters\n",
    "model.train()\n",
    "likelihood.train()\n",
    "\n",
    "# Use the adam optimizer\n",
    "optimizer = torch.optim.Adam(model.parameters(), lr=0.1)\n",
    "\n",
    "# \"Loss\" for GPs - the marginal log likelihood\n",
    "mll = gpytorch.mlls.ExactMarginalLogLikelihood(likelihood, model)\n",
    "\n",
    "for i in range(training_iter):\n",
    "    optimizer.zero_grad()\n",
    "    output = model(train_x)\n",
    "    loss = -mll(output, train_y)\n",
    "    loss.backward()\n",
    "    print('Iter %d/%d - Loss: %.3f' % (i + 1, training_iter, loss.item()))\n",
    "    optimizer.step()"
   ]
  },
  {
   "cell_type": "code",
   "execution_count": 7,
   "metadata": {},
   "outputs": [],
   "source": [
    "# Get into evaluation (predictive posterior) mode\n",
    "model.eval()\n",
    "likelihood.eval()\n",
    "\n",
    "with torch.no_grad(), gpytorch.settings.fast_pred_var():\n",
    "    test_x = torch.from_numpy(params[1600:, :4]).to(torch.float)\n",
    "    observed_pred_test = likelihood(model(test_x))"
   ]
  },
  {
   "cell_type": "code",
   "execution_count": 8,
   "metadata": {},
   "outputs": [
    {
     "name": "stdout",
     "output_type": "stream",
     "text": [
      "-2.514847064580359\n"
     ]
    }
   ],
   "source": [
    "from sklearn.metrics import r2_score\n",
    "r_squared_sklearn_test = r2_score(edpResults[1600:, 0], observed_pred_test.mean.numpy())\n",
    "print(r_squared_sklearn_test)"
   ]
  },
  {
   "cell_type": "code",
   "execution_count": 9,
   "metadata": {},
   "outputs": [
    {
     "name": "stderr",
     "output_type": "stream",
     "text": [
      "c:\\ProgramData\\miniconda3\\envs\\torchenv310\\lib\\site-packages\\gpytorch\\models\\exact_gp.py:284: GPInputWarning: The input matches the stored training data. Did you forget to call model.train()?\n",
      "  warnings.warn(\n"
     ]
    }
   ],
   "source": [
    "# Get into evaluation (predictive posterior) mode\n",
    "model.eval()\n",
    "likelihood.eval()\n",
    "\n",
    "with torch.no_grad(), gpytorch.settings.fast_pred_var():\n",
    "    # test_x = torch.from_numpy(params[1600:]).to(torch.float)\n",
    "    observed_pred_train = likelihood(model(train_x))"
   ]
  },
  {
   "cell_type": "code",
   "execution_count": 10,
   "metadata": {},
   "outputs": [
    {
     "name": "stdout",
     "output_type": "stream",
     "text": [
      "-2.8365220489142384\n"
     ]
    }
   ],
   "source": [
    "from sklearn.metrics import r2_score\n",
    "r_squared_sklearn_train = r2_score(edpResults[:1600, 0], observed_pred_train.mean.numpy())\n",
    "print(r_squared_sklearn_train)"
   ]
  },
  {
   "cell_type": "code",
   "execution_count": 11,
   "metadata": {},
   "outputs": [
    {
     "data": {
      "image/png": "[encoded data removed]",
      "text/plain": [
       "<Figure size 400x400 with 1 Axes>"
      ]
     },
     "metadata": {},
     "output_type": "display_data"
    }
   ],
   "source": [
    "import numpy as np\n",
    "import matplotlib.pyplot as plt\n",
    "\n",
    "# 生成示例数据（模拟预测值和观测值）\n",
    "np.random.seed(0)\n",
    "# observed_values = edpResults[:1600, 0]\n",
    "# predicted_values = observed_pred_train.mean.numpy()\n",
    "observed_values = edpResults[:1600, 0]\n",
    "predicted_values = observed_pred_train.mean.numpy()\n",
    "# 绘制散点图和对角线\n",
    "a = 0.02\n",
    "plt.figure(figsize=(4,4))\n",
    "plt.scatter(predicted_values, observed_values, color='blue', label='Data')\n",
    "plt.plot([0, a], [0, a], color='red', linestyle='--', label='Diagonal Line')\n",
    "plt.xlabel('Predicted Values')\n",
    "plt.ylabel('Observed Values')\n",
    "plt.xlim([0, 0.02])\n",
    "plt.ylim([0, 0.02])\n",
    "# plt.title('QQ Plot with Diagonal Line')\n",
    "plt.legend()\n",
    "plt.grid(True)\n",
    "plt.show()"
   ]
  }
 ],
 "metadata": {
  "kernelspec": {
   "display_name": "torchenv310",
   "language": "python",
   "name": "python3"
  },
  "language_info": {
   "codemirror_mode": {
    "name": "ipython",
    "version": 3
   },
   "file_extension": ".py",
   "mimetype": "text/x-python",
   "name": "python",
   "nbconvert_exporter": "python",
   "pygments_lexer": "ipython3",
   "version": "3.10.12"
  },
  "orig_nbformat": 4
 },
 "nbformat": 4,
 "nbformat_minor": 2
}
