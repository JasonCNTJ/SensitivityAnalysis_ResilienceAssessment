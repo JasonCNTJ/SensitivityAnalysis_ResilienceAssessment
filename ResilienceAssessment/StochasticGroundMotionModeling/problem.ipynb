{
 "cells": [
  {
   "cell_type": "code",
   "execution_count": 1,
   "metadata": {},
   "outputs": [],
   "source": [
    "from UQpy.sampling import MonteCarloSampling\n",
    "from UQpy.run_model.RunModel import RunModel\n",
    "from UQpy.run_model.model_execution.PythonModel import PythonModel\n",
    "from UQpy.distributions import Normal\n",
    "import time\n",
    "import numpy as np\n",
    "from python_model import *"
   ]
  },
  {
   "cell_type": "code",
   "execution_count": 2,
   "metadata": {},
   "outputs": [],
   "source": [
    "pick_model = 'all'"
   ]
  },
  {
   "cell_type": "code",
   "execution_count": 3,
   "metadata": {},
   "outputs": [
    {
     "name": "stdout",
     "output_type": "stream",
     "text": [
      "Monte Carlo samples of three random variables from a standard normal distribution.\n",
      "Samples stored as an array:\n",
      "Data type: <class 'numpy.ndarray'>\n",
      "Number of samples: 5\n",
      "Dimensions of samples: (5, 3)\n",
      "Samples\n",
      "[[ 2.23176466 -0.64178252 -0.38551651]\n",
      " [ 2.39233592  0.23474428  0.89104532]\n",
      " [-0.27088124  0.6625034  -1.66249933]\n",
      " [ 0.1157384  -0.09437841  1.04910279]\n",
      " [ 0.03322176 -0.09323229 -0.45691713]]\n",
      "\n",
      "Samples stored as a list:\n",
      "Data type: <class 'list'>\n",
      "Number of samples: 5\n",
      "Dimensions of samples: (5, 3)\n",
      "Samples:\n",
      "[array([ 2.23176466, -0.64178252, -0.38551651]), array([2.39233592, 0.23474428, 0.89104532]), array([-0.27088124,  0.6625034 , -1.66249933]), array([ 0.1157384 , -0.09437841,  1.04910279]), array([ 0.03322176, -0.09323229, -0.45691713])]\n"
     ]
    }
   ],
   "source": [
    "if pick_model in {'scalar', 'vector', 'all'}:\n",
    "    d = Normal(loc=0, scale=1)\n",
    "    x_mcs = MonteCarloSampling(distributions=[d, d, d], nsamples=5, random_state=987979)\n",
    "    names = ['var1', 'var11', 'var111']\n",
    "\n",
    "    # UQpy returns samples as an ndarray. Convert them to a list for part 1.2\n",
    "    x_mcs_list = list(x_mcs.samples)\n",
    "    print(\"Monte Carlo samples of three random variables from a standard normal distribution.\")\n",
    "    print('Samples stored as an array:')\n",
    "    print('Data type:', type(x_mcs.samples))\n",
    "    print('Number of samples:', len(x_mcs.samples))\n",
    "    print('Dimensions of samples:', np.shape(x_mcs.samples))\n",
    "    print('Samples')\n",
    "    print(x_mcs.samples)\n",
    "    print()\n",
    "    print('Samples stored as a list:')\n",
    "    print('Data type:', type(x_mcs_list))\n",
    "    print('Number of samples:', len(x_mcs_list))\n",
    "    print('Dimensions of samples:', np.shape(x_mcs_list))\n",
    "    print('Samples:')\n",
    "    print(x_mcs_list)"
   ]
  },
  {
   "cell_type": "code",
   "execution_count": 4,
   "metadata": {},
   "outputs": [
    {
     "ename": "FileNotFoundError",
     "evalue": "[Errno 2] No such file or directory: 'qoi.pkl'",
     "output_type": "error",
     "traceback": [
      "\u001b[1;31m---------------------------------------------------------------------------\u001b[0m",
      "\u001b[1;31mFileNotFoundError\u001b[0m                         Traceback (most recent call last)",
      "Cell \u001b[1;32mIn[4], line 5\u001b[0m\n\u001b[0;32m      3\u001b[0m t \u001b[39m=\u001b[39m time\u001b[39m.\u001b[39mtime()\n\u001b[0;32m      4\u001b[0m m \u001b[39m=\u001b[39m PythonModel(model_script\u001b[39m=\u001b[39m\u001b[39m'\u001b[39m\u001b[39mpython_model.py\u001b[39m\u001b[39m'\u001b[39m, model_object_name\u001b[39m=\u001b[39m\u001b[39m'\u001b[39m\u001b[39msum_rvs\u001b[39m\u001b[39m'\u001b[39m)\n\u001b[1;32m----> 5\u001b[0m m12 \u001b[39m=\u001b[39m RunModel(model\u001b[39m=\u001b[39;49mm, samples\u001b[39m=\u001b[39;49mx_mcs_list, ntasks\u001b[39m=\u001b[39;49m\u001b[39m2\u001b[39;49m)\n\u001b[0;32m      6\u001b[0m t_par_python \u001b[39m=\u001b[39m time\u001b[39m.\u001b[39mtime() \u001b[39m-\u001b[39m t\n\u001b[0;32m      7\u001b[0m \u001b[39mprint\u001b[39m(\u001b[39m\"\u001b[39m\u001b[39m\\n\u001b[39;00m\u001b[39mTime for parallel execution:\u001b[39m\u001b[39m\"\u001b[39m)\n",
      "File \u001b[1;32m<string>:148\u001b[0m, in \u001b[0;36m__init__\u001b[1;34m(__beartype_func, __beartype_raise_exception, __beartype_object_2350912361888, __beartype_object_140732098941504, *args, **kwargs)\u001b[0m\n",
      "File \u001b[1;32mc:\\ProgramData\\miniconda3\\envs\\py310r\\lib\\site-packages\\UQpy\\run_model\\RunModel.py:135\u001b[0m, in \u001b[0;36mRunModel.__init__\u001b[1;34m(self, model, samples, ntasks, cores_per_task, nodes, resume, run_type, cluster_script)\u001b[0m\n\u001b[0;32m    133\u001b[0m     \u001b[39mself\u001b[39m\u001b[39m.\u001b[39mlogger\u001b[39m.\u001b[39minfo(\u001b[39m\"\u001b[39m\u001b[39m\\n\u001b[39;00m\u001b[39mUQpy: No samples are provided. Creating the object and building the model directory.\u001b[39m\u001b[39m\\n\u001b[39;00m\u001b[39m\"\u001b[39m)\n\u001b[0;32m    134\u001b[0m \u001b[39melif\u001b[39;00m \u001b[39misinstance\u001b[39m(samples, (\u001b[39mlist\u001b[39m, np\u001b[39m.\u001b[39mndarray)):\n\u001b[1;32m--> 135\u001b[0m     \u001b[39mself\u001b[39;49m\u001b[39m.\u001b[39;49mrun(samples)\n\u001b[0;32m    136\u001b[0m \u001b[39melse\u001b[39;00m:\n\u001b[0;32m    137\u001b[0m     \u001b[39mraise\u001b[39;00m \u001b[39mValueError\u001b[39;00m(\u001b[39m\"\u001b[39m\u001b[39m\\n\u001b[39;00m\u001b[39mUQpy: samples must be passed as a list or numpy ndarray\u001b[39m\u001b[39m\\n\u001b[39;00m\u001b[39m\"\u001b[39m)\n",
      "File \u001b[1;32mc:\\ProgramData\\miniconda3\\envs\\py310r\\lib\\site-packages\\UQpy\\run_model\\RunModel.py:192\u001b[0m, in \u001b[0;36mRunModel.run\u001b[1;34m(self, samples, append_samples)\u001b[0m\n\u001b[0;32m    188\u001b[0m     \u001b[39mself\u001b[39m\u001b[39m.\u001b[39msamples \u001b[39m=\u001b[39m np\u001b[39m.\u001b[39mvstack((\u001b[39mself\u001b[39m\u001b[39m.\u001b[39msamples, samples))\n\u001b[0;32m    190\u001b[0m \u001b[39mself\u001b[39m\u001b[39m.\u001b[39mmodel\u001b[39m.\u001b[39minitialize(samples)\n\u001b[1;32m--> 192\u001b[0m \u001b[39mself\u001b[39m\u001b[39m.\u001b[39mqoi_list\u001b[39m.\u001b[39mextend(\u001b[39mself\u001b[39m\u001b[39m.\u001b[39mserial_execution() \u001b[39mif\u001b[39;00m \u001b[39mself\u001b[39m\u001b[39m.\u001b[39mis_serial \u001b[39melse\u001b[39;00m \u001b[39mself\u001b[39;49m\u001b[39m.\u001b[39;49mparallel_execution())\n\u001b[0;32m    194\u001b[0m \u001b[39mself\u001b[39m\u001b[39m.\u001b[39mmodel\u001b[39m.\u001b[39mfinalize()\n",
      "File \u001b[1;32mc:\\ProgramData\\miniconda3\\envs\\py310r\\lib\\site-packages\\UQpy\\run_model\\RunModel.py:216\u001b[0m, in \u001b[0;36mRunModel.parallel_execution\u001b[1;34m(self)\u001b[0m\n\u001b[0;32m    213\u001b[0m \u001b[39melse\u001b[39;00m:\n\u001b[0;32m    214\u001b[0m     \u001b[39mraise\u001b[39;00m \u001b[39mValueError\u001b[39;00m(\u001b[39m\"\u001b[39m\u001b[39m\\n\u001b[39;00m\u001b[39mUQpy: RunType is not in currently supported list of cluster types\u001b[39m\u001b[39m\\n\u001b[39;00m\u001b[39m\"\u001b[39m)            \n\u001b[1;32m--> 216\u001b[0m \u001b[39mwith\u001b[39;00m \u001b[39mopen\u001b[39;49m(\u001b[39m'\u001b[39;49m\u001b[39mqoi.pkl\u001b[39;49m\u001b[39m'\u001b[39;49m, \u001b[39m'\u001b[39;49m\u001b[39mrb\u001b[39;49m\u001b[39m'\u001b[39;49m) \u001b[39mas\u001b[39;00m filehandle:\n\u001b[0;32m    217\u001b[0m     results \u001b[39m=\u001b[39m pickle\u001b[39m.\u001b[39mload(filehandle)\n\u001b[0;32m    219\u001b[0m os\u001b[39m.\u001b[39mremove(\u001b[39m\"\u001b[39m\u001b[39mmodel.pkl\u001b[39m\u001b[39m\"\u001b[39m)\n",
      "\u001b[1;31mFileNotFoundError\u001b[0m: [Errno 2] No such file or directory: 'qoi.pkl'"
     ]
    }
   ],
   "source": [
    "if pick_model in {'scalar', 'all'}:\n",
    "    # Call to RunModel - Here we run the model while instantiating the RunModel object.\n",
    "    t = time.time()\n",
    "    m = PythonModel(model_script='python_model.py', model_object_name='sum_rvs')\n",
    "    m12 = RunModel(model=m, samples=x_mcs_list, ntasks=2)\n",
    "    t_par_python = time.time() - t\n",
    "    print(\"\\nTime for parallel execution:\")\n",
    "    print(t_par_python)\n",
    "    print()\n",
    "    print(\"The values returned from the Matlab simulation:\")\n",
    "    print(m12.qoi_list)"
   ]
  },
  {
   "cell_type": "code",
   "execution_count": 7,
   "metadata": {},
   "outputs": [
    {
     "name": "stdout",
     "output_type": "stream",
     "text": [
      "3.10.12 | packaged by Anaconda, Inc. | (main, Jul  5 2023, 19:01:18) [MSC v.1916 64 bit (AMD64)]\n"
     ]
    }
   ],
   "source": [
    "import sys\n",
    "print(sys.version)"
   ]
  },
  {
   "cell_type": "code",
   "execution_count": 8,
   "metadata": {},
   "outputs": [
    {
     "name": "stdout",
     "output_type": "stream",
     "text": [
      "Package           Version\n",
      "----------------- -------\n",
      "asttokens         2.0.5\n",
      "backcall          0.2.0\n",
      "beartype          0.9.1\n",
      "colorama          0.4.6\n",
      "comm              0.1.2\n",
      "contourpy         1.1.0\n",
      "cycler            0.11.0\n",
      "debugpy           1.5.1\n",
      "decorator         5.1.1\n",
      "executing         0.8.3\n",
      "fire              0.5.0\n",
      "fonttools         4.41.1\n",
      "ipykernel         6.19.2\n",
      "ipython           8.12.0\n",
      "jedi              0.18.1\n",
      "joblib            1.3.1\n",
      "jupyter_client    8.1.0\n",
      "jupyter_core      5.3.0\n",
      "kiwisolver        1.4.4\n",
      "matplotlib        3.7.2\n",
      "matplotlib-inline 0.1.6\n",
      "mpi4py            3.1.4\n",
      "nest-asyncio      1.5.6\n",
      "numpy             1.25.0\n",
      "packaging         23.0\n",
      "pandas            2.0.3\n",
      "parso             0.8.3\n",
      "pickleshare       0.7.5\n",
      "Pillow            10.0.0\n",
      "pip               23.2.1\n",
      "platformdirs      2.5.2\n",
      "prompt-toolkit    3.0.36\n",
      "psutil            5.9.0\n",
      "pure-eval         0.2.2\n",
      "Pygments          2.15.1\n",
      "pyparsing         3.0.9\n",
      "python-dateutil   2.8.2\n",
      "pytz              2023.3\n",
      "pywin32           305.1\n",
      "pyzmq             25.1.0\n",
      "scikit-learn      1.3.0\n",
      "scipy             1.11.1\n",
      "setuptools        68.0.0\n",
      "six               1.16.0\n",
      "stack-data        0.2.0\n",
      "termcolor         2.3.0\n",
      "threadpoolctl     3.2.0\n",
      "tornado           6.2\n",
      "traitlets         5.7.1\n",
      "tzdata            2023.3\n",
      "UQpy              4.1.1\n",
      "wcwidth           0.2.5\n",
      "wheel             0.38.4\n"
     ]
    }
   ],
   "source": [
    "!pip list"
   ]
  },
  {
   "cell_type": "markdown",
   "metadata": {},
   "source": [
    "This is the python_model.py:"
   ]
  },
  {
   "cell_type": "code",
   "execution_count": null,
   "metadata": {},
   "outputs": [],
   "source": [
    "import numpy as np\n",
    "\n",
    "\n",
    "def sum_rvs(samples=None):\n",
    "    x = np.sum(samples, axis=1)\n",
    "    return x"
   ]
  }
 ],
 "metadata": {
  "kernelspec": {
   "display_name": "py310r",
   "language": "python",
   "name": "python3"
  },
  "language_info": {
   "codemirror_mode": {
    "name": "ipython",
    "version": 3
   },
   "file_extension": ".py",
   "mimetype": "text/x-python",
   "name": "python",
   "nbconvert_exporter": "python",
   "pygments_lexer": "ipython3",
   "version": "3.10.12"
  },
  "orig_nbformat": 4
 },
 "nbformat": 4,
 "nbformat_minor": 2
}
