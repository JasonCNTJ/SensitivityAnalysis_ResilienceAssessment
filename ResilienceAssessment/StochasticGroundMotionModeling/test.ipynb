{
 "cells": [
  {
   "cell_type": "code",
   "execution_count": 5,
   "metadata": {},
   "outputs": [],
   "source": [
    "from UQpy.sampling import MonteCarloSampling\n",
    "from UQpy.run_model.RunModel import RunModel\n",
    "from UQpy.run_model.model_execution.PythonModel import PythonModel\n",
    "from UQpy.distributions import Normal\n",
    "import time\n",
    "import numpy as np\n",
    "from python_model import *"
   ]
  },
  {
   "cell_type": "code",
   "execution_count": 6,
   "metadata": {},
   "outputs": [],
   "source": [
    "pick_model = 'all'"
   ]
  },
  {
   "cell_type": "code",
   "execution_count": 7,
   "metadata": {},
   "outputs": [
    {
     "name": "stdout",
     "output_type": "stream",
     "text": [
      "Monte Carlo samples of three random variables from a standard normal distribution.\n",
      "Samples stored as an array:\n",
      "Data type: <class 'numpy.ndarray'>\n",
      "Number of samples: 5\n",
      "Dimensions of samples: (5, 3)\n",
      "Samples\n",
      "[[ 2.23176466 -0.64178252 -0.38551651]\n",
      " [ 2.39233592  0.23474428  0.89104532]\n",
      " [-0.27088124  0.6625034  -1.66249933]\n",
      " [ 0.1157384  -0.09437841  1.04910279]\n",
      " [ 0.03322176 -0.09323229 -0.45691713]]\n",
      "\n",
      "Samples stored as a list:\n",
      "Data type: <class 'list'>\n",
      "Number of samples: 5\n",
      "Dimensions of samples: (5, 3)\n",
      "Samples:\n",
      "[array([ 2.23176466, -0.64178252, -0.38551651]), array([2.39233592, 0.23474428, 0.89104532]), array([-0.27088124,  0.6625034 , -1.66249933]), array([ 0.1157384 , -0.09437841,  1.04910279]), array([ 0.03322176, -0.09323229, -0.45691713])]\n"
     ]
    }
   ],
   "source": [
    "if pick_model in {'scalar', 'vector', 'all'}:\n",
    "    d = Normal(loc=0, scale=1)\n",
    "    x_mcs = MonteCarloSampling(distributions=[d, d, d], nsamples=5, random_state=987979)\n",
    "    names = ['var1', 'var11', 'var111']\n",
    "\n",
    "    # UQpy returns samples as an ndarray. Convert them to a list for part 1.2\n",
    "    x_mcs_list = list(x_mcs.samples)\n",
    "    print(\"Monte Carlo samples of three random variables from a standard normal distribution.\")\n",
    "    print('Samples stored as an array:')\n",
    "    print('Data type:', type(x_mcs.samples))\n",
    "    print('Number of samples:', len(x_mcs.samples))\n",
    "    print('Dimensions of samples:', np.shape(x_mcs.samples))\n",
    "    print('Samples')\n",
    "    print(x_mcs.samples)\n",
    "    print()\n",
    "    print('Samples stored as a list:')\n",
    "    print('Data type:', type(x_mcs_list))\n",
    "    print('Number of samples:', len(x_mcs_list))\n",
    "    print('Dimensions of samples:', np.shape(x_mcs_list))\n",
    "    print('Samples:')\n",
    "    print(x_mcs_list)"
   ]
  },
  {
   "cell_type": "code",
   "execution_count": null,
   "metadata": {},
   "outputs": [],
   "source": [
    "if pick_model in {'scalar', 'all'}:\n",
    "    # Call to RunModel - Here we run the model while instantiating the RunModel object.\n",
    "    t = time.time()\n",
    "    m = PythonModel(model_script='python_model.py', model_object_name='SumRVs')\n",
    "    m11 = RunModel(model=m, ntasks=1)\n",
    "    m11.run(samples=x_mcs.samples)\n",
    "    t_ser_python = time.time() - t\n",
    "    print(\"\\nTime for serial execution:\")\n",
    "    print(t_ser_python)\n",
    "    print()\n",
    "    print(\"The values returned from the Matlab simulation:\")\n",
    "    print(m11.qoi_list)"
   ]
  },
  {
   "cell_type": "code",
   "execution_count": 8,
   "metadata": {},
   "outputs": [
    {
     "ename": "FileNotFoundError",
     "evalue": "[Errno 2] No such file or directory: 'qoi.pkl'",
     "output_type": "error",
     "traceback": [
      "\u001b[1;31m---------------------------------------------------------------------------\u001b[0m",
      "\u001b[1;31mFileNotFoundError\u001b[0m                         Traceback (most recent call last)",
      "Cell \u001b[1;32mIn[8], line 5\u001b[0m\n\u001b[0;32m      3\u001b[0m t \u001b[39m=\u001b[39m time\u001b[39m.\u001b[39mtime()\n\u001b[0;32m      4\u001b[0m m \u001b[39m=\u001b[39m PythonModel(model_script\u001b[39m=\u001b[39m\u001b[39m'\u001b[39m\u001b[39mpython_model.py\u001b[39m\u001b[39m'\u001b[39m, model_object_name\u001b[39m=\u001b[39m\u001b[39m'\u001b[39m\u001b[39msum_rvs\u001b[39m\u001b[39m'\u001b[39m)\n\u001b[1;32m----> 5\u001b[0m m12 \u001b[39m=\u001b[39m RunModel(model\u001b[39m=\u001b[39;49mm, samples\u001b[39m=\u001b[39;49mx_mcs_list, ntasks\u001b[39m=\u001b[39;49m\u001b[39m2\u001b[39;49m)\n\u001b[0;32m      6\u001b[0m t_par_python \u001b[39m=\u001b[39m time\u001b[39m.\u001b[39mtime() \u001b[39m-\u001b[39m t\n\u001b[0;32m      7\u001b[0m \u001b[39mprint\u001b[39m(\u001b[39m\"\u001b[39m\u001b[39m\\n\u001b[39;00m\u001b[39mTime for parallel execution:\u001b[39m\u001b[39m\"\u001b[39m)\n",
      "File \u001b[1;32m<string>:148\u001b[0m, in \u001b[0;36m__init__\u001b[1;34m(__beartype_func, __beartype_raise_exception, __beartype_object_2104577069632, __beartype_object_140732098941504, *args, **kwargs)\u001b[0m\n",
      "File \u001b[1;32mc:\\ProgramData\\miniconda3\\envs\\py310r\\lib\\site-packages\\UQpy\\run_model\\RunModel.py:135\u001b[0m, in \u001b[0;36mRunModel.__init__\u001b[1;34m(self, model, samples, ntasks, cores_per_task, nodes, resume, run_type, cluster_script)\u001b[0m\n\u001b[0;32m    133\u001b[0m     \u001b[39mself\u001b[39m\u001b[39m.\u001b[39mlogger\u001b[39m.\u001b[39minfo(\u001b[39m\"\u001b[39m\u001b[39m\\n\u001b[39;00m\u001b[39mUQpy: No samples are provided. Creating the object and building the model directory.\u001b[39m\u001b[39m\\n\u001b[39;00m\u001b[39m\"\u001b[39m)\n\u001b[0;32m    134\u001b[0m \u001b[39melif\u001b[39;00m \u001b[39misinstance\u001b[39m(samples, (\u001b[39mlist\u001b[39m, np\u001b[39m.\u001b[39mndarray)):\n\u001b[1;32m--> 135\u001b[0m     \u001b[39mself\u001b[39;49m\u001b[39m.\u001b[39;49mrun(samples)\n\u001b[0;32m    136\u001b[0m \u001b[39melse\u001b[39;00m:\n\u001b[0;32m    137\u001b[0m     \u001b[39mraise\u001b[39;00m \u001b[39mValueError\u001b[39;00m(\u001b[39m\"\u001b[39m\u001b[39m\\n\u001b[39;00m\u001b[39mUQpy: samples must be passed as a list or numpy ndarray\u001b[39m\u001b[39m\\n\u001b[39;00m\u001b[39m\"\u001b[39m)\n",
      "File \u001b[1;32mc:\\ProgramData\\miniconda3\\envs\\py310r\\lib\\site-packages\\UQpy\\run_model\\RunModel.py:192\u001b[0m, in \u001b[0;36mRunModel.run\u001b[1;34m(self, samples, append_samples)\u001b[0m\n\u001b[0;32m    188\u001b[0m     \u001b[39mself\u001b[39m\u001b[39m.\u001b[39msamples \u001b[39m=\u001b[39m np\u001b[39m.\u001b[39mvstack((\u001b[39mself\u001b[39m\u001b[39m.\u001b[39msamples, samples))\n\u001b[0;32m    190\u001b[0m \u001b[39mself\u001b[39m\u001b[39m.\u001b[39mmodel\u001b[39m.\u001b[39minitialize(samples)\n\u001b[1;32m--> 192\u001b[0m \u001b[39mself\u001b[39m\u001b[39m.\u001b[39mqoi_list\u001b[39m.\u001b[39mextend(\u001b[39mself\u001b[39m\u001b[39m.\u001b[39mserial_execution() \u001b[39mif\u001b[39;00m \u001b[39mself\u001b[39m\u001b[39m.\u001b[39mis_serial \u001b[39melse\u001b[39;00m \u001b[39mself\u001b[39;49m\u001b[39m.\u001b[39;49mparallel_execution())\n\u001b[0;32m    194\u001b[0m \u001b[39mself\u001b[39m\u001b[39m.\u001b[39mmodel\u001b[39m.\u001b[39mfinalize()\n",
      "File \u001b[1;32mc:\\ProgramData\\miniconda3\\envs\\py310r\\lib\\site-packages\\UQpy\\run_model\\RunModel.py:216\u001b[0m, in \u001b[0;36mRunModel.parallel_execution\u001b[1;34m(self)\u001b[0m\n\u001b[0;32m    213\u001b[0m \u001b[39melse\u001b[39;00m:\n\u001b[0;32m    214\u001b[0m     \u001b[39mraise\u001b[39;00m \u001b[39mValueError\u001b[39;00m(\u001b[39m\"\u001b[39m\u001b[39m\\n\u001b[39;00m\u001b[39mUQpy: RunType is not in currently supported list of cluster types\u001b[39m\u001b[39m\\n\u001b[39;00m\u001b[39m\"\u001b[39m)            \n\u001b[1;32m--> 216\u001b[0m \u001b[39mwith\u001b[39;00m \u001b[39mopen\u001b[39;49m(\u001b[39m'\u001b[39;49m\u001b[39mqoi.pkl\u001b[39;49m\u001b[39m'\u001b[39;49m, \u001b[39m'\u001b[39;49m\u001b[39mrb\u001b[39;49m\u001b[39m'\u001b[39;49m) \u001b[39mas\u001b[39;00m filehandle:\n\u001b[0;32m    217\u001b[0m     results \u001b[39m=\u001b[39m pickle\u001b[39m.\u001b[39mload(filehandle)\n\u001b[0;32m    219\u001b[0m os\u001b[39m.\u001b[39mremove(\u001b[39m\"\u001b[39m\u001b[39mmodel.pkl\u001b[39m\u001b[39m\"\u001b[39m)\n",
      "\u001b[1;31mFileNotFoundError\u001b[0m: [Errno 2] No such file or directory: 'qoi.pkl'"
     ]
    }
   ],
   "source": [
    "if pick_model in {'scalar', 'all'}:\n",
    "    # Call to RunModel - Here we run the model while instantiating the RunModel object.\n",
    "    t = time.time()\n",
    "    m = PythonModel(model_script='python_model.py', model_object_name='sum_rvs')\n",
    "    m12 = RunModel(model=m, samples=x_mcs_list, ntasks=2)\n",
    "    t_par_python = time.time() - t\n",
    "    print(\"\\nTime for parallel execution:\")\n",
    "    print(t_par_python)\n",
    "    print()\n",
    "    print(\"The values returned from the Matlab simulation:\")\n",
    "    print(m12.qoi_list)"
   ]
  },
  {
   "cell_type": "code",
   "execution_count": null,
   "metadata": {},
   "outputs": [],
   "source": [
    "if pick_model in {'vector', 'all'}:\n",
    "    x_mcs_tri = x_mcs.samples.reshape(5, 1, 3)\n",
    "    x_mcs_tri_list = list(x_mcs_tri)\n",
    "\n",
    "    print(\"Monte Carlo samples of three random variables from a standard normal distribution.\")\n",
    "    print('Samples stored as an array:')\n",
    "    print('Data type:', type(x_mcs_tri))\n",
    "    print('Number of samples:', len(x_mcs_tri))\n",
    "    print('Dimensions of samples:', np.shape(x_mcs_tri))\n",
    "    print('Samples')\n",
    "    print(x_mcs_tri)\n",
    "    print()\n",
    "    print('Samples stored as a list:')\n",
    "    print('Data type:', type(x_mcs_tri_list))\n",
    "    print('Number of samples:', len(x_mcs_tri_list))\n",
    "    print('Dimensions of samples:', np.shape(x_mcs_tri_list))\n",
    "    print('Samples:')\n",
    "    print(x_mcs_tri_list)"
   ]
  },
  {
   "cell_type": "code",
   "execution_count": null,
   "metadata": {},
   "outputs": [],
   "source": [
    "if pick_model in {'vector', 'all'}:\n",
    "    # Call to RunModel - Here we run the model while instantiating the RunModel object.\n",
    "    t = time.time()\n",
    "    m=PythonModel(model_script='python_model.py', model_object_name='SumRVs')\n",
    "    m21 = RunModel(samples=x_mcs_tri, ntasks=2,  model=m)\n",
    "    t_ser_python = time.time() - t\n",
    "    print(\"\\nTime for serial execution:\")\n",
    "    print(t_ser_python)\n",
    "    print()\n",
    "    print(\"The values returned from the Matlab simulation:\")\n",
    "    print(m21.qoi_list)"
   ]
  },
  {
   "cell_type": "code",
   "execution_count": null,
   "metadata": {},
   "outputs": [],
   "source": []
  }
 ],
 "metadata": {
  "kernelspec": {
   "display_name": "base",
   "language": "python",
   "name": "python3"
  },
  "language_info": {
   "codemirror_mode": {
    "name": "ipython",
    "version": 3
   },
   "file_extension": ".py",
   "mimetype": "text/x-python",
   "name": "python",
   "nbconvert_exporter": "python",
   "pygments_lexer": "ipython3",
   "version": "3.10.12"
  },
  "orig_nbformat": 4
 },
 "nbformat": 4,
 "nbformat_minor": 2
}
