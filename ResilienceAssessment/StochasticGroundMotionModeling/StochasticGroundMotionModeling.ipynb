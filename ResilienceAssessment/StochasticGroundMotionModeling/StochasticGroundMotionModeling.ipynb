{
 "cells": [
  {
   "cell_type": "markdown",
   "metadata": {},
   "source": [
    "数据处理与存储部分"
   ]
  },
  {
   "cell_type": "code",
   "execution_count": 1,
   "metadata": {},
   "outputs": [],
   "source": [
    "import numpy as np\n",
    "import pandas as pd"
   ]
  },
  {
   "cell_type": "code",
   "execution_count": 2,
   "metadata": {},
   "outputs": [
    {
     "data": {
      "text/plain": [
       "array([[-1.844, -0.071,  2.944, -1.356, -0.265],\n",
       "       [-6.195, -0.703,  6.792,  0.219, -0.523],\n",
       "       [-5.011, -0.345,  4.638,  0.348, -0.185],\n",
       "       [ 2.253, -0.081, -1.81 , -0.211,  0.012],\n",
       "       [-2.489,  0.044,  2.408,  0.065, -0.081],\n",
       "       [-0.258, -0.477,  0.905, -0.289,  0.316]])"
      ]
     },
     "execution_count": 2,
     "metadata": {},
     "output_type": "execute_result"
    }
   ],
   "source": [
    "beta = pd.read_excel(r'C:\\Users\\12734\\OneDrive\\重要文件\\2_SensitivityAnalysis\\PythonCode\\StochasticGroundMotionModeling\\Param\\betsigcor.xlsx',\n",
    "                      sheet_name='beta', header=None)\n",
    "beta = beta.to_numpy()\n",
    "beta"
   ]
  },
  {
   "cell_type": "code",
   "execution_count": 3,
   "metadata": {},
   "outputs": [
    {
     "data": {
      "text/plain": [
       "array([[ 1.  , -0.36,  0.01, -0.15,  0.13, -0.01],\n",
       "       [-0.36,  1.  ,  0.67, -0.13, -0.16, -0.2 ],\n",
       "       [ 0.01,  0.67,  1.  , -0.28, -0.2 , -0.22],\n",
       "       [-0.15, -0.13, -0.28,  1.  , -0.2 ,  0.28],\n",
       "       [ 0.13, -0.16, -0.2 , -0.2 ,  1.  , -0.01],\n",
       "       [-0.01, -0.2 , -0.22,  0.28, -0.01,  1.  ]])"
      ]
     },
     "execution_count": 3,
     "metadata": {},
     "output_type": "execute_result"
    }
   ],
   "source": [
    "corr = pd.read_excel(r'C:\\Users\\12734\\OneDrive\\重要文件\\2_SensitivityAnalysis\\PythonCode\\StochasticGroundMotionModeling\\Param\\betsigcor.xlsx',\n",
    "                      sheet_name='corr', header=None)\n",
    "corr = corr.to_numpy()\n",
    "corr"
   ]
  },
  {
   "cell_type": "code",
   "execution_count": 4,
   "metadata": {},
   "outputs": [
    {
     "data": {
      "text/plain": [
       "array([[0.274, 0.594],\n",
       "       [0.457, 0.569],\n",
       "       [0.511, 0.414],\n",
       "       [0.692, 0.723],\n",
       "       [0.129, 0.953],\n",
       "       [0.682, 0.76 ]])"
      ]
     },
     "execution_count": 4,
     "metadata": {},
     "output_type": "execute_result"
    }
   ],
   "source": [
    "sigma = pd.read_excel(r'C:\\Users\\12734\\OneDrive\\重要文件\\2_SensitivityAnalysis\\PythonCode\\StochasticGroundMotionModeling\\Param\\betsigcor.xlsx',\n",
    "                      sheet_name='sigma', header=None)\n",
    "sigma = sigma.to_numpy()\n",
    "sigma"
   ]
  },
  {
   "cell_type": "code",
   "execution_count": 5,
   "metadata": {},
   "outputs": [],
   "source": [
    "import pickle\n",
    "with open('betsigcor.pkl', 'wb') as file:\n",
    "    pickle.dump(beta, file)\n",
    "    pickle.dump(sigma, file)\n",
    "    pickle.dump(corr, file)"
   ]
  },
  {
   "cell_type": "code",
   "execution_count": 6,
   "metadata": {},
   "outputs": [
    {
     "name": "stdout",
     "output_type": "stream",
     "text": [
      "[[-1.844 -0.071  2.944 -1.356 -0.265]\n",
      " [-6.195 -0.703  6.792  0.219 -0.523]\n",
      " [-5.011 -0.345  4.638  0.348 -0.185]\n",
      " [ 2.253 -0.081 -1.81  -0.211  0.012]\n",
      " [-2.489  0.044  2.408  0.065 -0.081]\n",
      " [-0.258 -0.477  0.905 -0.289  0.316]]\n",
      "----------\n",
      "[[0.274 0.594]\n",
      " [0.457 0.569]\n",
      " [0.511 0.414]\n",
      " [0.692 0.723]\n",
      " [0.129 0.953]\n",
      " [0.682 0.76 ]]\n",
      "----------\n",
      "[[ 1.   -0.36  0.01 -0.15  0.13 -0.01]\n",
      " [-0.36  1.    0.67 -0.13 -0.16 -0.2 ]\n",
      " [ 0.01  0.67  1.   -0.28 -0.2  -0.22]\n",
      " [-0.15 -0.13 -0.28  1.   -0.2   0.28]\n",
      " [ 0.13 -0.16 -0.2  -0.2   1.   -0.01]\n",
      " [-0.01 -0.2  -0.22  0.28 -0.01  1.  ]]\n",
      "----------\n"
     ]
    }
   ],
   "source": [
    "with open('betsigcor.pkl', 'rb') as file:\n",
    "    beta1 = pickle.load(file)\n",
    "    sigma1 = pickle.load(file)\n",
    "    corr1 = pickle.load(file)\n",
    "print(beta1)\n",
    "print('----------')\n",
    "print(sigma1)\n",
    "print('----------')\n",
    "print(corr1)\n",
    "print('----------')"
   ]
  },
  {
   "cell_type": "code",
   "execution_count": 7,
   "metadata": {},
   "outputs": [
    {
     "data": {
      "text/plain": [
       "array([[-1.844, -0.071,  2.944, -1.356, -0.265],\n",
       "       [-6.195, -0.703,  6.792,  0.219, -0.523],\n",
       "       [-5.011, -0.345,  4.638,  0.348, -0.185],\n",
       "       [ 2.253, -0.081, -1.81 , -0.211,  0.012],\n",
       "       [-2.489,  0.044,  2.408,  0.065, -0.081],\n",
       "       [-0.258, -0.477,  0.905, -0.289,  0.316]])"
      ]
     },
     "execution_count": 7,
     "metadata": {},
     "output_type": "execute_result"
    }
   ],
   "source": [
    "beta1"
   ]
  },
  {
   "cell_type": "code",
   "execution_count": 8,
   "metadata": {},
   "outputs": [],
   "source": [
    "import pandas as pd\n",
    "import numpy as np\n",
    "import pickle\n",
    "\n",
    "theta1_cdf = pd.read_excel(r'C:\\Users\\12734\\OneDrive\\重要文件\\2_SensitivityAnalysis\\PythonCode\\StochasticGroundMotionModeling\\Param\\thetacdf.xlsx',\n",
    "                      sheet_name='theta1_cdf', header=None)\n",
    "theta1_cdf = theta1_cdf.to_numpy()\n",
    "\n",
    "theta2_cdf = pd.read_excel(r'C:\\Users\\12734\\OneDrive\\重要文件\\2_SensitivityAnalysis\\PythonCode\\StochasticGroundMotionModeling\\Param\\thetacdf.xlsx',\n",
    "                      sheet_name='theta2_cdf', header=None)\n",
    "theta2_cdf = theta2_cdf.to_numpy()\n",
    "\n",
    "theta3_cdf = pd.read_excel(r'C:\\Users\\12734\\OneDrive\\重要文件\\2_SensitivityAnalysis\\PythonCode\\StochasticGroundMotionModeling\\Param\\thetacdf.xlsx',\n",
    "                      sheet_name='theta3_cdf', header=None)\n",
    "theta3_cdf = theta3_cdf.to_numpy()\n",
    "\n",
    "theta4_cdf = pd.read_excel(r'C:\\Users\\12734\\OneDrive\\重要文件\\2_SensitivityAnalysis\\PythonCode\\StochasticGroundMotionModeling\\Param\\thetacdf.xlsx',\n",
    "                      sheet_name='theta4_cdf', header=None)\n",
    "theta4_cdf = theta4_cdf.to_numpy()\n",
    "\n",
    "theta5_cdf = pd.read_excel(r'C:\\Users\\12734\\OneDrive\\重要文件\\2_SensitivityAnalysis\\PythonCode\\StochasticGroundMotionModeling\\Param\\thetacdf.xlsx',\n",
    "                      sheet_name='theta5_cdf', header=None)\n",
    "theta5_cdf = theta5_cdf.to_numpy()\n",
    "\n",
    "theta6_cdf = pd.read_excel(r'C:\\Users\\12734\\OneDrive\\重要文件\\2_SensitivityAnalysis\\PythonCode\\StochasticGroundMotionModeling\\Param\\thetacdf.xlsx',\n",
    "                      sheet_name='theta6_cdf', header=None)\n",
    "theta6_cdf = theta6_cdf.to_numpy()\n",
    "\n",
    "with open('thetacdf.pkl', 'wb') as file:\n",
    "    pickle.dump(theta1_cdf, file)\n",
    "    pickle.dump(theta2_cdf, file)\n",
    "    pickle.dump(theta3_cdf, file)\n",
    "    pickle.dump(theta4_cdf, file)\n",
    "    pickle.dump(theta5_cdf, file)\n",
    "    pickle.dump(theta6_cdf, file)"
   ]
  },
  {
   "cell_type": "code",
   "execution_count": 1,
   "metadata": {},
   "outputs": [],
   "source": [
    "import pickle\n",
    "with open('thetacdf.pkl', 'rb') as file:\n",
    "    theta1_cdf = pickle.load(file)\n",
    "    theta2_cdf = pickle.load(file)\n",
    "    theta3_cdf = pickle.load(file)\n",
    "    theta4_cdf = pickle.load(file)\n",
    "    theta5_cdf = pickle.load(file)\n",
    "    theta6_cdf = pickle.load(file)"
   ]
  },
  {
   "cell_type": "code",
   "execution_count": 11,
   "metadata": {},
   "outputs": [
    {
     "name": "stdout",
     "output_type": "stream",
     "text": [
      "[[0.02      0.       ]\n",
      " [0.0241557 0.0120464]\n",
      " [0.0305242 0.024068 ]\n",
      " [0.0394493 0.0481054]\n",
      " [0.0458216 0.06313  ]\n",
      " [0.0496469 0.0736462]\n",
      " [0.0585739 0.0991851]\n",
      " [0.0624031 0.112704 ]\n",
      " [0.0675028 0.126226 ]\n",
      " [0.0751592 0.151763 ]\n",
      " [0.0840881 0.178803 ]\n",
      " [0.0904718 0.202837 ]\n",
      " [0.0994026 0.231379 ]\n",
      " [0.108324  0.252413 ]\n",
      " [0.117257  0.282456 ]\n",
      " [0.12364   0.30649  ]\n",
      " [0.127489  0.335024 ]\n",
      " [0.135143  0.35906  ]\n",
      " [0.144074  0.387602 ]\n",
      " [0.154266  0.408638 ]\n",
      " [0.163197  0.43718  ]\n",
      " [0.170851  0.461216 ]\n",
      " [0.181052  0.489759 ]\n",
      " [0.188703  0.510792 ]\n",
      " [0.200175  0.539338 ]\n",
      " [0.209098  0.561874 ]\n",
      " [0.219298  0.588916 ]\n",
      " [0.228221  0.611452 ]\n",
      " [0.239691  0.638496 ]\n",
      " [0.251156  0.661036 ]\n",
      " [0.257545  0.689574 ]\n",
      " [0.270278  0.710614 ]\n",
      " [0.284286  0.734659 ]\n",
      " [0.293209  0.757195 ]\n",
      " [0.311027  0.779744 ]\n",
      " [0.323758  0.799283 ]\n",
      " [0.339037  0.82333  ]\n",
      " [0.35558   0.842874 ]\n",
      " [0.372125  0.86392  ]\n",
      " [0.386127  0.883461 ]\n",
      " [0.403939  0.901506 ]\n",
      " [0.424287  0.91505  ]\n",
      " [0.444636  0.930095 ]\n",
      " [0.462439  0.940632 ]\n",
      " [0.486596  0.952681 ]\n",
      " [0.504401  0.964719 ]\n",
      " [0.527286  0.975264 ]\n",
      " [0.547622  0.979799 ]\n",
      " [0.575584  0.985847 ]\n",
      " [0.59338   0.99188  ]\n",
      " [0.618797  0.994921 ]\n",
      " [0.63913   0.996453 ]\n",
      " [1.        1.       ]]\n",
      "(53, 2)\n"
     ]
    }
   ],
   "source": [
    "import numpy as np\n",
    "print(theta6_cdf)\n",
    "print(np.shape(theta6_cdf))"
   ]
  },
  {
   "cell_type": "markdown",
   "metadata": {},
   "source": [
    "# 计算部分"
   ]
  },
  {
   "cell_type": "code",
   "execution_count": 1,
   "metadata": {},
   "outputs": [],
   "source": [
    "import numpy as np\n",
    "import pandas as pd\n",
    "import pickle\n",
    "\n",
    "## information\n",
    "# Earthquake and site characteristic\n",
    "F = 1  # Reverse faulting\n",
    "M = 6.61  # Magnitude\n",
    "R = 19.3  # km distance\n",
    "Vs = 602  # m/s velocity\n",
    "\n",
    "# beta 系数， sigma标准差， corr相关系数\n",
    "with open('betsigcor.pkl', 'rb') as file:\n",
    "    beta = pickle.load(file)\n",
    "    sigma = pickle.load(file)\n",
    "    corr = pickle.load(file)\n",
    "\n",
    "## calculate\n",
    "import random\n",
    "import scipy.stats as st\n",
    "\n",
    "sigma2 = sigma[:, 0]**2 + sigma[:, 1]**2\n",
    "sigma2_sqrt = np.sqrt(sigma2)\n",
    "stv_m = np.diag(sigma2_sqrt)\n",
    "covar = stv_m @ corr @ stv_m  # 协方差矩阵 \n",
    "par = np.array([1, F, M/7, R/25, Vs/750])\n",
    "par = par.T\n",
    "v_miu = (beta @ par).T  # 平均值\n",
    "random.seed(1)  # 确保结果可以复现\n",
    "num = 1000\n",
    "v = np.random.multivariate_normal(v_miu, covar, num)\n",
    "p = st.norm.cdf(v)\n"
   ]
  },
  {
   "cell_type": "code",
   "execution_count": 28,
   "metadata": {},
   "outputs": [],
   "source": [
    "## 利用 v 得到 theta\n",
    "# theta\n",
    "with open('thetacdf.pkl', 'rb') as file:\n",
    "    theta1_cdf = pickle.load(file)  \n",
    "    theta2_cdf = pickle.load(file)\n",
    "    theta3_cdf = pickle.load(file)\n",
    "    theta4_cdf = pickle.load(file)\n",
    "    theta5_cdf = pickle.load(file)\n",
    "    theta6_cdf = pickle.load(file)\n",
    "theta_cdf = {'theta1_cdf': theta1_cdf,\n",
    "             'theta2_cdf': theta2_cdf,\n",
    "             'theta3_cdf': theta3_cdf,\n",
    "             'theta4_cdf': theta4_cdf,\n",
    "             'theta5_cdf': theta5_cdf,\n",
    "             'theta6_cdf': theta6_cdf}\n",
    "thetad = {}\n",
    "for i in range(6):\n",
    "    cdf = []\n",
    "    x = []\n",
    "    cdf = theta_cdf['theta%i_cdf' % (i+1)][:,1]\n",
    "    x = theta_cdf['theta%i_cdf' % (i+1)][:,0]\n",
    "    thetai = []\n",
    "    thetai = np.interp(p[:,i], cdf, x)\n",
    "    if i == 0:\n",
    "        thetai = np.exp(thetai)\n",
    "    elif i == 3 or i == 5:\n",
    "        thetai = 2 * np.pi * thetai\n",
    "    else:\n",
    "        pass \n",
    "    thetad['theta%i' % (i+1)] = thetai\n",
    "\n",
    "# theta1: Ia; theta2: D_5-95; theta3: t_mid; theta4: w_mid; theta5: w'; theta6: kesi_f\n",
    "\n",
    "theta = np.zeros((num,6))\n",
    "for i in range(6):\n",
    "    theta[:,i] = thetad['theta%i' % (i+1)]\n"
   ]
  },
  {
   "cell_type": "code",
   "execution_count": 73,
   "metadata": {},
   "outputs": [
    {
     "name": "stdout",
     "output_type": "stream",
     "text": [
      "[4.139643147606508, 3.2383528333227747]\n"
     ]
    }
   ],
   "source": [
    "## \n",
    "# 取出第i组参数\n",
    "i = 0\n",
    "theta_i = theta[i,:]\n",
    "\n",
    "# Known percentiles and values\n",
    "t_5_95 = theta_i[1]\n",
    "t_45 = theta_i[2]\n",
    "# t_5_95 = 12.1196\n",
    "# t_45 = 8.36\n",
    "\n",
    "from scipy.stats import gamma\n",
    "from scipy.optimize import minimize\n",
    "import numpy as np\n",
    "import math\n",
    "\n",
    "def objective(params):\n",
    "    return (abs((gamma.ppf(0.95, params[0], scale=params[1])-gamma.ppf(0.05, params[0], scale=params[1]))-t_5_95) \n",
    "            + abs(gamma.ppf(0.45,params[0],scale=params[1])-t_45))\n",
    "\n",
    "params0 = np.array([1,1])\n",
    "result = minimize(objective, params0, method = 'Nelder-Mead')\n",
    "params = result.x\n",
    "\n",
    "shape = params[0]\n",
    "scale = params[1]\n",
    "# print([shape, scale])\n",
    "\n",
    "# theta_i = 0.0118\n",
    "\n",
    "alpha2 = (shape+1)/2\n",
    "alpha3 = 1/(2*scale)\n",
    "alpha1 = np.sqrt(theta_i[0] * (2 * alpha3)**(2 * alpha2 - 1) / math.gamma(2 * alpha2 - 1))"
   ]
  },
  {
   "cell_type": "code",
   "execution_count": 116,
   "metadata": {},
   "outputs": [
    {
     "data": {
      "image/png": "[encoded data removed]",
      "text/plain": [
       "<Figure size 640x480 with 1 Axes>"
      ]
     },
     "metadata": {},
     "output_type": "display_data"
    }
   ],
   "source": [
    "theta_i = np.array([0.0118, 12.1196, 8.36, 49.9812, 0.0207, 0.1543])\n",
    "import numpy as np\n",
    "np.seterr(divide='ignore', invalid='ignore')\n",
    "from scipy.integrate import odeint\n",
    "import matplotlib.pyplot as plt\n",
    "alpha1 = 0.0024\n",
    "alpha2 = 3.5711\n",
    "alpha3 = 0.3299\n",
    "# 生成加速度时程\n",
    "tn = 40\n",
    "ti = np.arange(0.01, tn + 0.01, 0.01)\n",
    "kesi_f = theta_i[5]\n",
    "dt = 0.01\n",
    "acc = np.zeros(len(ti)+1)\n",
    "\n",
    "for t in np.arange(0, tn+0.01, 0.01):\n",
    "    q_t_alpha = alpha1 * t**(alpha2-1) * np.exp(-1 * alpha3 * t)\n",
    "    k = int(t/dt)\n",
    "    \n",
    "    # 计算su\n",
    "    if k != 0:\n",
    "        id = np.arange(1, k+1)\n",
    "        uid = np.random.randn(k)\n",
    "        wfid = theta_i[3] + theta_i[4] * (ti[id-1]-theta_i[2])  # 计算ti下的wf值\n",
    "        hid = wfid/np.sqrt(1-kesi_f**2) * np.exp(-kesi_f*wfid*(t-ti[id-1])) * np.sin(wfid*np.sqrt(1-kesi_f**2)*(t-ti[id-1]))\n",
    "        hjd2 = hid**2\n",
    "        fm = np.sqrt(np.sum(hjd2))\n",
    "        su = np.sum((hid/fm*uid))\n",
    "        acc[k] = q_t_alpha * su\n",
    "    else:\n",
    "        acc[k] = 0\n",
    "\n",
    "# high pass filter\n",
    "xt = np.arange(0, tn+0.01, 0.01)\n",
    "x = acc\n",
    "x[np.isnan(x)] = 0\n",
    "\n",
    "def myode(y, t, x, xt):\n",
    "    wc = 0.1 * 2 * np.pi\n",
    "    a = np.interp(t, xt, x)\n",
    "    dydt = [y[1], a-2 * wc * y[1] - wc**2 * y[0]]\n",
    "    return dydt\n",
    "\n",
    "y0 = [0,0]\n",
    "t = np.arange(0, tn + 0.01, 0.01)\n",
    "sol = odeint(myode, y0, t, args = (x, xt))\n",
    "\n",
    "wc = 0.1 * 2 * np.pi\n",
    "ACC = x - 2 * wc * sol[:,1] - wc**2 * sol[:, 0]\n",
    "\n",
    "plt.plot(t, ACC)\n",
    "plt.xlabel('time (s)')\n",
    "plt.ylabel('acc (m/s^2)')\n",
    "plt.title('acc history')\n",
    "plt.grid(True)\n",
    "plt.show()"
   ]
  },
  {
   "cell_type": "code",
   "execution_count": 113,
   "metadata": {},
   "outputs": [
    {
     "data": {
      "text/plain": [
       "array([ 0.00000000e+00,             nan,  5.35167334e-08, ...,\n",
       "        4.17672762e-05, -9.23946170e-06, -5.84395778e-06])"
      ]
     },
     "execution_count": 113,
     "metadata": {},
     "output_type": "execute_result"
    }
   ],
   "source": [
    "acc"
   ]
  }
 ],
 "metadata": {
  "kernelspec": {
   "display_name": "base",
   "language": "python",
   "name": "python3"
  },
  "language_info": {
   "codemirror_mode": {
    "name": "ipython",
    "version": 3
   },
   "file_extension": ".py",
   "mimetype": "text/x-python",
   "name": "python",
   "nbconvert_exporter": "python",
   "pygments_lexer": "ipython3",
   "version": "3.10.12"
  },
  "orig_nbformat": 4
 },
 "nbformat": 4,
 "nbformat_minor": 2
}
