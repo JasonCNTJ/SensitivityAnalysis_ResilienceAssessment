{
 "cells": [
  {
   "cell_type": "code",
   "execution_count": 1,
   "metadata": {},
   "outputs": [],
   "source": [
    "import numpy as np\n",
    "import pyDOE2 as DOE\n",
    "from scipy.stats.distributions import uniform, randint, truncnorm"
   ]
  },
  {
   "cell_type": "code",
   "execution_count": 2,
   "metadata": {},
   "outputs": [
    {
     "data": {
      "text/plain": [
       "array([[6.15208912e+00, 6.12321335e+01, 1.45097305e+03, 1.00000000e+00,\n",
       "        8.94033091e-01, 3.32848990e-02],\n",
       "       [7.26558874e+00, 3.81652560e+01, 7.72211096e+02, 1.00000000e+00,\n",
       "        1.07595445e+00, 4.31641030e-02],\n",
       "       [6.84549606e+00, 9.05416942e+01, 1.16041979e+03, 1.00000000e+00,\n",
       "        8.80783232e-01, 2.81798209e-02],\n",
       "       ...,\n",
       "       [7.63073953e+00, 8.43299394e+01, 1.11672517e+03, 0.00000000e+00,\n",
       "        1.00017981e+00, 4.33224509e-02],\n",
       "       [6.23686852e+00, 7.31161771e+01, 1.14420486e+03, 1.00000000e+00,\n",
       "        9.19008337e-01, 2.21564117e-02],\n",
       "       [7.41494353e+00, 2.40308733e+01, 7.27535535e+02, 0.00000000e+00,\n",
       "        1.00314299e+00, 4.71033466e-02]])"
      ]
     },
     "execution_count": 2,
     "metadata": {},
     "output_type": "execute_result"
    }
   ],
   "source": [
    "design = DOE.lhs(6, samples=1000, criterion='maximin')\n",
    "# \n",
    "design[:, 0] = uniform(6.0, 2.0).ppf(design[:, 0])  # M\n",
    "design[:, 1] = uniform(10.0, 90.0).ppf(design[:, 1])  # R\n",
    "design[:, 2] = uniform(600.0, 900.0).ppf(design[:, 2])  # V\n",
    "design[:, 3] = randint(0, 2).ppf(design[:, 3])  # F\n",
    "# 抽样mb和kesi\n",
    "mu = 1  # 均值\n",
    "cv = 0.1  # 变异系数\n",
    "lower_bound = 0.872  # 下限\n",
    "upper_bound = 1.128  # 上限\n",
    "sigma = mu * cv  # 计算标准差\n",
    "# 计算截断正态分布的参数\n",
    "a = (lower_bound - mu) / sigma\n",
    "b = (upper_bound - mu) / sigma\n",
    "design[:, 4] = truncnorm(a, b, loc=mu, scale=sigma).ppf(design[:, 4])  # mb\n",
    "design[:, 5] = uniform(0.02, 0.03).ppf(design[:, 5])\n",
    "design"
   ]
  },
  {
   "cell_type": "code",
   "execution_count": 4,
   "metadata": {},
   "outputs": [],
   "source": [
    "M, R, V, F, mb, kesi = design[0, :]"
   ]
  },
  {
   "cell_type": "markdown",
   "metadata": {},
   "source": [
    "M"
   ]
  },
  {
   "cell_type": "code",
   "execution_count": 6,
   "metadata": {},
   "outputs": [
    {
     "data": {
      "text/plain": [
       "0.8940330909375328"
      ]
     },
     "execution_count": 6,
     "metadata": {},
     "output_type": "execute_result"
    }
   ],
   "source": [
    "mb"
   ]
  }
 ],
 "metadata": {
  "kernelspec": {
   "display_name": "py310r",
   "language": "python",
   "name": "python3"
  },
  "language_info": {
   "codemirror_mode": {
    "name": "ipython",
    "version": 3
   },
   "file_extension": ".py",
   "mimetype": "text/x-python",
   "name": "python",
   "nbconvert_exporter": "python",
   "pygments_lexer": "ipython3",
   "version": "3.10.12"
  },
  "orig_nbformat": 4
 },
 "nbformat": 4,
 "nbformat_minor": 2
}
