{
 "cells": [
  {
   "cell_type": "code",
   "execution_count": 1,
   "metadata": {},
   "outputs": [],
   "source": [
    "import pandas as pd\n",
    "import pathlib\n",
    "from elastic_analysis import ElasticAnalysis\n",
    "from elastic_output import ElasticOutput\n",
    "from BuildingObject import Building_object\n",
    "# from help_functions import read_tworow_csv_file\n",
    "\n",
    "cwdFile = pathlib.Path.cwd()\n",
    "buildingDataFile = cwdFile / 'BuildingData'\n",
    "geometryFile = buildingDataFile / 'Geometry.csv'\n",
    "memberSizeFile = buildingDataFile / 'MemberSize.csv'\n",
    "loadsFile = buildingDataFile / 'Loads.csv'\n",
    "\n",
    "# geometry = read_tworow_csv_file(geometryFile)\n",
    "# for key in geometry.keys():\n",
    "#     geometry[key] = int(geometry[key])\n",
    "member_size = pd.read_csv(memberSizeFile)\n",
    "gravity_loads = pd.read_csv(loadsFile)\n",
    "directory = {}\n",
    "dir_ElasticModel = cwdFile / 'BuildingElasticModel'\n",
    "dir_BaselineElasticModel = cwdFile / 'BaselineTclFiles' / 'ElasticAnalysis'\n",
    "directory = {'building elastic model': dir_ElasticModel,\n",
    "             'baseline files elastic': dir_BaselineElasticModel,\n",
    "             'building data': buildingDataFile}\n",
    "\n",
    "# elf\n",
    "building = Building_object(directory, member_size, gravity_loads)"
   ]
  },
  {
   "cell_type": "code",
   "execution_count": 2,
   "metadata": {},
   "outputs": [],
   "source": [
    "_ = ElasticAnalysis(building, for_drift_only=False, for_period_only=False)"
   ]
  },
  {
   "cell_type": "code",
   "execution_count": 3,
   "metadata": {},
   "outputs": [],
   "source": [
    "elastic_demand = ElasticOutput(building)"
   ]
  },
  {
   "cell_type": "code",
   "execution_count": 5,
   "metadata": {},
   "outputs": [
    {
     "data": {
      "text/plain": [
       "array([[ 351.44675, -351.44675,  290.26055, -290.26055,  277.72424,\n",
       "        -277.72424,  290.26055, -290.26055,  351.44675, -351.44675],\n",
       "       [ 212.7202 , -212.7202 ,  194.32224, -194.32224,  184.892  ,\n",
       "        -184.892  ,  194.32224, -194.32224,  212.7202 , -212.7202 ],\n",
       "       [  76.9851 ,  -76.9851 ,   98.86988,  -98.86988,   91.65944,\n",
       "         -91.65944,   98.86988,  -98.86988,   76.9851 ,  -76.9851 ]])"
      ]
     },
     "execution_count": 5,
     "metadata": {},
     "output_type": "execute_result"
    }
   ],
   "source": [
    "elastic_demand.dominate_load['column axial']"
   ]
  }
 ],
 "metadata": {
  "kernelspec": {
   "display_name": "py310r",
   "language": "python",
   "name": "python3"
  },
  "language_info": {
   "codemirror_mode": {
    "name": "ipython",
    "version": 3
   },
   "file_extension": ".py",
   "mimetype": "text/x-python",
   "name": "python",
   "nbconvert_exporter": "python",
   "pygments_lexer": "ipython3",
   "version": "3.10.12"
  },
  "orig_nbformat": 4
 },
 "nbformat": 4,
 "nbformat_minor": 2
}
