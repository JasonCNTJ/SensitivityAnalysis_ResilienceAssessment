{
 "cells": [
  {
   "cell_type": "code",
   "execution_count": 1,
   "metadata": {},
   "outputs": [
    {
     "name": "stdout",
     "output_type": "stream",
     "text": [
      "c:\\Users\\12734\\OneDrive\\重要文件\\2_SensitivityAnalysis\\Sensitivity-PythonCode\\sensitivity-code\\ResilienceAssessment\\NonlinearAnalysisModeling\\ElasticAnalysisTcl\n"
     ]
    }
   ],
   "source": [
    "import pandas as pd\n",
    "import os\n",
    "import pathlib\n",
    "from elastic_analysis import ElasticAnalysis\n",
    "from elastic_output import ElasticOutput\n",
    "from BuildingObject import Building_object\n",
    "# from help_functions import read_tworow_csv_file\n",
    "cwdFile = pathlib.Path.cwd()\n",
    "buildingDataFile = cwdFile / 'BuildingData'\n",
    "geometryFile = buildingDataFile / 'Geometry.csv'\n",
    "memberSizeFile = buildingDataFile / 'MemberSize_omf.csv'\n",
    "loadsFile = buildingDataFile / 'Loads.csv'\n",
    "print(pathlib.Path.cwd())\n",
    "# geometry = read_tworow_csv_file(geometryFile)\n",
    "# for key in geometry.keys():\n",
    "#     geometry[key] = int(geometry[key])\n",
    "member_size = pd.read_csv(memberSizeFile)\n",
    "gravity_loads = pd.read_csv(loadsFile)\n",
    "directory = {}\n",
    "dir_ElasticModel = cwdFile / 'BuildingElasticModel'\n",
    "dir_BaselineElasticModel = cwdFile / 'BaselineTclFiles' / 'ElasticAnalysis'\n",
    "directory = {'building elastic model': dir_ElasticModel,\n",
    "             'baseline files elastic': dir_BaselineElasticModel,\n",
    "             'building data': buildingDataFile}\n",
    "\n",
    "# elf\n",
    "building = Building_object(directory, member_size, gravity_loads)"
   ]
  },
  {
   "cell_type": "code",
   "execution_count": 2,
   "metadata": {},
   "outputs": [
    {
     "data": {
      "text/plain": [
       "{'building elastic model': WindowsPath('c:/Users/12734/OneDrive/重要文件/2_SensitivityAnalysis/Sensitivity-PythonCode/sensitivity-code/ResilienceAssessment/NonlinearAnalysisModeling/ElasticAnalysisTcl/BuildingElasticModel'),\n",
       " 'baseline files elastic': WindowsPath('c:/Users/12734/OneDrive/重要文件/2_SensitivityAnalysis/Sensitivity-PythonCode/sensitivity-code/ResilienceAssessment/NonlinearAnalysisModeling/ElasticAnalysisTcl/BaselineTclFiles/ElasticAnalysis'),\n",
       " 'building data': WindowsPath('c:/Users/12734/OneDrive/重要文件/2_SensitivityAnalysis/Sensitivity-PythonCode/sensitivity-code/ResilienceAssessment/NonlinearAnalysisModeling/ElasticAnalysisTcl/BuildingData')}"
      ]
     },
     "execution_count": 2,
     "metadata": {},
     "output_type": "execute_result"
    }
   ],
   "source": [
    "building.directory"
   ]
  },
  {
   "cell_type": "code",
   "execution_count": 3,
   "metadata": {},
   "outputs": [],
   "source": [
    "_ = ElasticAnalysis(building, for_drift_only=False, for_period_only=False)"
   ]
  },
  {
   "cell_type": "code",
   "execution_count": 4,
   "metadata": {},
   "outputs": [],
   "source": [
    "elastic_demand = ElasticOutput(building)"
   ]
  },
  {
   "cell_type": "code",
   "execution_count": 5,
   "metadata": {},
   "outputs": [],
   "source": [
    "import pickle\n",
    "with open('elastic_demand_omf.pkl', 'wb') as f:\n",
    "    pickle.dump(elastic_demand, f)"
   ]
  },
  {
   "cell_type": "code",
   "execution_count": 6,
   "metadata": {},
   "outputs": [
    {
     "name": "stdout",
     "output_type": "stream",
     "text": [
      "c:\\Users\\12734\\OneDrive\\重要文件\\2_SensitivityAnalysis\\Sensitivity-PythonCode\\sensitivity-code\\ResilienceAssessment\\NonlinearAnalysisModeling\\ElasticAnalysisTcl\\BuildingElasticModel\\EarthquakeLoad\\GlobalBeamForces\n"
     ]
    }
   ],
   "source": [
    "print(pathlib.Path.cwd())"
   ]
  }
 ],
 "metadata": {
  "kernelspec": {
   "display_name": "py310r",
   "language": "python",
   "name": "python3"
  },
  "language_info": {
   "codemirror_mode": {
    "name": "ipython",
    "version": 3
   },
   "file_extension": ".py",
   "mimetype": "text/x-python",
   "name": "python",
   "nbconvert_exporter": "python",
   "pygments_lexer": "ipython3",
   "version": "3.10.12"
  },
  "orig_nbformat": 4
 },
 "nbformat": 4,
 "nbformat_minor": 2
}
