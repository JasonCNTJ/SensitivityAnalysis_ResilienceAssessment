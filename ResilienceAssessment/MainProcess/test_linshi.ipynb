{
 "cells": [
  {
   "cell_type": "code",
   "execution_count": 4,
   "metadata": {},
   "outputs": [],
   "source": [
    "import numpy as np\n",
    "from response_spectra import solve_nigam_jennings, integrate_acceleration\n",
    "\n",
    "ACC_SET = np.loadtxt(r'C:\\Users\\12734\\OneDrive\\重要文件\\2_SensitivityAnalysis\\Sensitivity-PythonCode\\sensitivity-code\\ResilienceAssessment\\MainProcess\\地震动\\2475year71\\ACC.txt')\n",
    "Sa_SET = np.loadtxt(r'C:\\Users\\12734\\OneDrive\\重要文件\\2_SensitivityAnalysis\\Sensitivity-PythonCode\\sensitivity-code\\ResilienceAssessment\\MainProcess\\地震动\\2475year71\\Sa.txt')\n",
    "\n",
    "param_set = np.zeros((30, 6))\n",
    "for flag in range(30):\n",
    "    ACC = ACC_SET[flag, :] * 9.8 / Sa_SET[flag] * 0.71\n",
    "    ag = ACC * 9.8\n",
    "    # 求解 PGA, PGV, PGD\n",
    "    PGA = ag.max()\n",
    "    v, d = integrate_acceleration(ag)\n",
    "    PGV = v.max()\n",
    "    PGD = d.max()\n",
    "    # 获取生成地震动的相关参数\n",
    "    dnt = 0.01\n",
    "    omg = 2.0 * np.pi / 1.0\n",
    "    zeta = 0.05\n",
    "    Sd, Sv, Sa = solve_nigam_jennings(omg, zeta, ag, dnt)\n",
    "    param = np.array([PGA, PGV, PGD, Sd, Sv, Sa]) \n",
    "    param_set[flag, :] = param\n"
   ]
  },
  {
   "cell_type": "code",
   "execution_count": 6,
   "metadata": {},
   "outputs": [],
   "source": [
    "np.savetxt('2475year_input.txt', param_set)"
   ]
  },
  {
   "cell_type": "code",
   "execution_count": 18,
   "metadata": {},
   "outputs": [
    {
     "name": "stdout",
     "output_type": "stream",
     "text": [
      "14\n",
      "随机选择的行：\n",
      "[43 44 45]\n",
      "3\n",
      "随机选择的行：\n",
      "[10 11 12]\n",
      "12\n",
      "随机选择的行：\n",
      "[37 38 39]\n",
      "7\n",
      "随机选择的行：\n",
      "[22 23 24]\n",
      "21\n",
      "随机选择的行：\n",
      "[64 65 66]\n",
      "4\n",
      "随机选择的行：\n",
      "[13 14 15]\n",
      "13\n",
      "随机选择的行：\n",
      "[40 41 42]\n",
      "13\n",
      "随机选择的行：\n",
      "[40 41 42]\n",
      "7\n",
      "随机选择的行：\n",
      "[22 23 24]\n",
      "26\n",
      "随机选择的行：\n",
      "[79 80 81]\n"
     ]
    }
   ],
   "source": [
    "import numpy as np\n",
    "\n",
    "# 创建一个示例的三十行数组\n",
    "array = np.arange(1, 91).reshape(30, 3)  # 生成一个30行3列的示例数组\n",
    "\n",
    "# 随机选择一个行\n",
    "for i in range(10):\n",
    "    random_row = np.random.choice(array.shape[0])\n",
    "    print(random_row)\n",
    "    # 获取选定的行\n",
    "    selected_row = array[random_row]\n",
    "\n",
    "    print(\"随机选择的行：\")\n",
    "    print(selected_row)\n",
    "    # print(array)"
   ]
  },
  {
   "cell_type": "code",
   "execution_count": 1,
   "metadata": {},
   "outputs": [
    {
     "name": "stdout",
     "output_type": "stream",
     "text": [
      "1.0911734246916454\n",
      "1.2150593323942331\n",
      "3.750553301205849\n",
      "0.8815767115473917\n",
      "2.4839050222958905\n",
      "1.4543248009333845\n",
      "1.8270626252881919\n",
      "1.2359511634734717\n",
      "0.9255269439313273\n",
      "1.8822410938560026\n",
      "2.3054193240565093\n",
      "1.1531825452002111\n",
      "1.5648014988161008\n",
      "2.177992670252553\n",
      "0.917861904144598\n",
      "1.527025817710526\n",
      "0.46680264727990517\n",
      "0.40942119009089784\n",
      "0.9284562728591808\n",
      "0.9672204478968023\n",
      "1.0025723408838159\n",
      "0.8552821588468233\n",
      "0.37649997977083716\n",
      "0.793563791931572\n",
      "0.8414251589160361\n",
      "1.2664150483299013\n",
      "1.959025514460635\n",
      "1.1979071474316867\n",
      "1.7498652603898373\n",
      "2.573890265697558\n",
      "1.0116361253267885\n",
      "1.1099065130469894\n",
      "1.169701620612972\n",
      "1.5815195743161425\n",
      "0.7547308980709854\n",
      "0.5361022199243703\n",
      "1.3037339394719747\n",
      "0.8922458529311733\n",
      "0.8803428827599987\n",
      "1.0946825817601964\n",
      "2.41635839479257\n",
      "1.3073188571734993\n",
      "0.5963677664439101\n",
      "0.4733529730097865\n",
      "1.2785520670120591\n",
      "1.2025217186571329\n",
      "2.2204999655584334\n",
      "1.3202446679692152\n",
      "1.1356472630008676\n",
      "1.1324805306251182\n",
      "1.4757814846812713\n",
      "0.6780157629815418\n",
      "1.0198669103941262\n",
      "2.7560032171192934\n",
      "0.6438245064115931\n",
      "1.5030754872109573\n",
      "1.7019493196833912\n",
      "1.9015085092955437\n",
      "2.391154938670711\n",
      "0.6020647250604155\n",
      "1.2114019993411789\n",
      "0.6538224342411785\n",
      "0.879269694494451\n",
      "1.5821685661233083\n",
      "0.5558723125685361\n",
      "0.3994606883719741\n",
      "2.382269220172268\n",
      "0.32665260236426147\n",
      "1.8283174379552898\n",
      "2.2864538991334475\n",
      "0.5954346248771647\n",
      "1.7979653379092542\n",
      "0.7741135266405851\n",
      "1.2301634762404565\n",
      "1.1881703234327525\n",
      "1.2957922677470752\n",
      "1.2825426320692956\n",
      "1.2200294296865173\n",
      "0.4259935671656778\n",
      "1.052381045165043\n",
      "0.5143515186398697\n",
      "1.1942441364229186\n",
      "0.6228331334848134\n",
      "0.618435430177586\n",
      "1.5154282456932235\n",
      "2.198454072686307\n",
      "1.3903436626105172\n",
      "0.6113502410322534\n",
      "0.9016315171542412\n",
      "1.9088006710501362\n",
      "1.1569074704030515\n",
      "0.41847498367612973\n",
      "2.5013676865513568\n",
      "1.3915477644253444\n",
      "1.2629002175388189\n",
      "2.030777119642103\n",
      "1.3960972174758666\n",
      "2.281919453063363\n",
      "1.5470021854858498\n",
      "0.4586186624318463\n",
      "2.0759881162885825\n",
      "0.37561032943366623\n",
      "0.7951517357695376\n",
      "0.5801235092105804\n",
      "0.7406222808155152\n",
      "0.5749608908157181\n",
      "1.149836900624773\n",
      "1.2474274069244715\n",
      "1.8154635782545\n",
      "2.3781325119842\n"
     ]
    },
    {
     "name": "stderr",
     "output_type": "stream",
     "text": [
      "c:\\ProgramData\\miniconda3\\envs\\py310r\\lib\\site-packages\\numpy\\core\\fromnumeric.py:86: RuntimeWarning: overflow encountered in reduce\n",
      "  return ufunc.reduce(obj, axis, dtype, out, **passkwargs)\n",
      "c:\\Users\\12734\\OneDrive\\重要文件\\2_SensitivityAnalysis\\Sensitivity-PythonCode\\sensitivity-code\\ResilienceAssessment\\MainProcess\\StochasticGroundMotionModeling.py:140: RuntimeWarning: overflow encountered in square\n",
      "  hjd2 = hid**2\n"
     ]
    },
    {
     "name": "stdout",
     "output_type": "stream",
     "text": [
      "1.1442101152904252\n",
      "1.9604592854275384\n",
      "0.7831540537972178\n",
      "1.402923602798237\n",
      "1.518791830372379\n",
      "2.03406902384251\n",
      "1.1919811204815425\n",
      "0.9776347886375686\n",
      "0.5853711501711\n",
      "0.5090460033593803\n",
      "1.85057628347266\n",
      "1.1189522756985446\n",
      "0.7223759829236842\n",
      "0.8636156198234913\n",
      "1.5114599023462008\n",
      "0.47456923479216073\n",
      "0.46490477975796285\n",
      "1.0070011596212483\n",
      "0.5729691329342155\n",
      "0.6405089385335198\n",
      "0.7790915634359226\n",
      "0.5722416969193765\n",
      "0.7415782795603849\n",
      "0.21816655985485145\n",
      "2.2587552410798764\n",
      "2.7112176232459997\n",
      "1.6315485998231112\n",
      "1.4841676718050192\n",
      "1.5667035426781342\n",
      "0.7862817679289833\n",
      "0.8562207679933321\n",
      "1.2862234707705078\n",
      "0.3449780150770598\n",
      "2.156544049198006\n",
      "1.4818523711488276\n",
      "2.9146339304586055\n",
      "1.0594874463017583\n",
      "0.8336928717019714\n",
      "2.1493599364916087\n",
      "2.1935342528081136\n",
      "2.2982715652697765\n",
      "3.140139854836976\n",
      "0.5643188671558591\n",
      "1.2361538066287874\n",
      "0.9125691283308995\n",
      "1.7268461109281545\n",
      "1.0862147359166485\n",
      "1.8644674092145608\n",
      "0.9878944042608676\n",
      "0.5939970641794646\n",
      "1.8763744748658413\n",
      "2.5091542523349704\n",
      "2.118957891502638\n",
      "0.47835132548575254\n",
      "0.7834737169616776\n",
      "0.6233385180844934\n",
      "0.6513165973357631\n",
      "1.1794414596088956\n",
      "1.1928999156206737\n",
      "0.718299173037526\n",
      "1.6697134799209532\n",
      "0.7855946058510795\n",
      "1.0236459492664793\n",
      "1.6602820036109147\n",
      "1.6207732550678033\n",
      "1.2462890377013203\n",
      "0.8321110623502889\n",
      "0.9415520085925031\n",
      "1.0954341121386064\n",
      "1.3690163524665044\n",
      "1.0740248054784785\n",
      "0.7946073078018465\n",
      "1.4412369891957397\n",
      "1.1739054674839637\n",
      "1.206590034412507\n",
      "0.9894332706463553\n",
      "0.885255131719106\n",
      "2.460752246393429\n",
      "1.1258158344337148\n",
      "2.6274093024631346\n",
      "1.5793185756092711\n",
      "0.8989291838288754\n",
      "1.4438337022369534\n",
      "1.1683126972731448\n",
      "2.433365013126215\n",
      "0.7980751398771917\n",
      "1.1403635685429205\n",
      "3.1734179293218503\n",
      "7.37810804286738\n",
      "7.37810804286738\n"
     ]
    }
   ],
   "source": [
    "# 创建合适的 0.71g\n",
    "from StochasticGroundMotionModeling import StochasticGroundMotionModeling\n",
    "from response_spectra import solve_nigam_jennings\n",
    "import numpy as np\n",
    "\n",
    "flag = 1\n",
    "while flag:\n",
    "    ACC, _, _ = StochasticGroundMotionModeling(M=8, R=20, Vs=1223, F=1)\n",
    "    ag = ACC * 9.8\n",
    "    zeta = 0.05\n",
    "    dnt = 0.01\n",
    "    omg = 2.0 * np.pi / 1.0\n",
    "    _, _, Sa = solve_nigam_jennings(omg, zeta, ag, dnt)\n",
    "    print(Sa)\n",
    "    if Sa > 7.0:\n",
    "        print(Sa)\n",
    "        flag = 0\n",
    "    else:\n",
    "        pass"
   ]
  },
  {
   "cell_type": "code",
   "execution_count": null,
   "metadata": {},
   "outputs": [],
   "source": []
  },
  {
   "cell_type": "code",
   "execution_count": 1,
   "metadata": {},
   "outputs": [],
   "source": [
    "import numpy as np"
   ]
  },
  {
   "cell_type": "code",
   "execution_count": 11,
   "metadata": {},
   "outputs": [
    {
     "data": {
      "text/plain": [
       "array([ 3,  9, 19])"
      ]
     },
     "execution_count": 11,
     "metadata": {},
     "output_type": "execute_result"
    }
   ],
   "source": [
    "a = np.array([[1,2,3],[8,3,9],[3,5,19]])  # 2 x 3\n",
    "amax = np.max(a, axis = 1)\n",
    "amax"
   ]
  },
  {
   "cell_type": "code",
   "execution_count": 19,
   "metadata": {},
   "outputs": [
    {
     "data": {
      "text/plain": [
       "array([ 3,  9, 19])"
      ]
     },
     "execution_count": 19,
     "metadata": {},
     "output_type": "execute_result"
    }
   ],
   "source": [
    "c = a[:,2]\n",
    "c"
   ]
  },
  {
   "cell_type": "code",
   "execution_count": 27,
   "metadata": {},
   "outputs": [
    {
     "data": {
      "text/plain": [
       "array([50., 92., 50.])"
      ]
     },
     "execution_count": 27,
     "metadata": {},
     "output_type": "execute_result"
    }
   ],
   "source": [
    "from scipy.stats import lognorm\n",
    "mean = 0.01\n",
    "stddev = 0.5\n",
    "dist = lognorm(s=stddev, scale=mean)\n",
    "a = np.array([0.01,0.02,0.01])\n",
    "# x = np.linspace(0, 0.01 * 2, 200)\n",
    "# y = dist.cdf(x)\n",
    "# objPercent = np.interp(0.02, x, y)\n",
    "# objPercent = round(objPercent * 100)\n",
    "objPercent = dist.cdf(a)\n",
    "objPercent = np.round(objPercent * 100)\n",
    "objPercent"
   ]
  },
  {
   "cell_type": "code",
   "execution_count": 33,
   "metadata": {},
   "outputs": [
    {
     "data": {
      "text/plain": [
       "array([500, 920, 500])"
      ]
     },
     "execution_count": 33,
     "metadata": {},
     "output_type": "execute_result"
    }
   ],
   "source": [
    "nSample = 1000\n",
    "objPercent = np.array([50, 92, 50])\n",
    "probNoRepair = objPercent / 100\n",
    "nNoRepair = (nSample * probNoRepair).astype(int)\n",
    "Outputlist = np.zeros((3, 1000))\n",
    "for i in nNoRepair:\n",
    "    Outputlist[:, :i] = 1  \n",
    "Outputlist[1,:][Outputlist[1,:]==1].shape"
   ]
  },
  {
   "cell_type": "code",
   "execution_count": 38,
   "metadata": {},
   "outputs": [
    {
     "data": {
      "text/plain": [
       "(920,)"
      ]
     },
     "execution_count": 38,
     "metadata": {},
     "output_type": "execute_result"
    }
   ],
   "source": [
    "Outputlist = np.zeros((3, 1000))\n",
    "for i in nNoRepair:\n",
    "    Outputlist[:, :i] = 1  \n",
    "Outputlist[1,:][Outputlist[1,:]==1].shape"
   ]
  },
  {
   "cell_type": "code",
   "execution_count": 40,
   "metadata": {},
   "outputs": [
    {
     "name": "stdout",
     "output_type": "stream",
     "text": [
      "920\n"
     ]
    }
   ],
   "source": [
    "import numpy as np\n",
    "\n",
    "nSample = 1000\n",
    "objPercent = np.array([50, 92, 50])\n",
    "probNoRepair = objPercent / 100\n",
    "nNoRepair = (nSample * probNoRepair).astype(int)\n",
    "Outputlist = np.zeros((3, 1000))\n",
    "\n",
    "# 使用广播和掩码来填充Outputlist\n",
    "mask = np.arange(1000) < nNoRepair[:, np.newaxis]\n",
    "Outputlist[mask] = 1\n",
    "\n",
    "# # 检查Outputlist中第二行的非零元素数量\n",
    "# non_zero_count = np.count_nonzero(Outputlist[1, :])\n",
    "# print(non_zero_count)\n"
   ]
  },
  {
   "cell_type": "code",
   "execution_count": 1,
   "metadata": {},
   "outputs": [
    {
     "ename": "TypeError",
     "evalue": "only integer scalar arrays can be converted to a scalar index",
     "output_type": "error",
     "traceback": [
      "\u001b[1;31m---------------------------------------------------------------------------\u001b[0m",
      "\u001b[1;31mTypeError\u001b[0m                                 Traceback (most recent call last)",
      "Cell \u001b[1;32mIn[1], line 3\u001b[0m\n\u001b[0;32m      1\u001b[0m \u001b[39mimport\u001b[39;00m \u001b[39mnumpy\u001b[39;00m \u001b[39mas\u001b[39;00m \u001b[39mnp\u001b[39;00m\n\u001b[0;32m      2\u001b[0m a \u001b[39m=\u001b[39m np\u001b[39m.\u001b[39marray([\u001b[39m10\u001b[39m,\u001b[39m100\u001b[39m,\u001b[39m50\u001b[39m])\n\u001b[1;32m----> 3\u001b[0m b \u001b[39m=\u001b[39m np\u001b[39m.\u001b[39;49mzeros((\u001b[39m3\u001b[39;49m, a))\n\u001b[0;32m      4\u001b[0m b\n",
      "\u001b[1;31mTypeError\u001b[0m: only integer scalar arrays can be converted to a scalar index"
     ]
    }
   ],
   "source": [
    "import numpy as np\n",
    "a = np.array([10,100,50])\n",
    "b = np.zeros((100, 3, a))\n",
    "b"
   ]
  },
  {
   "cell_type": "code",
   "execution_count": 29,
   "metadata": {},
   "outputs": [
    {
     "data": {
      "text/plain": [
       "array([20., 10., 10.])"
      ]
     },
     "execution_count": 29,
     "metadata": {},
     "output_type": "execute_result"
    }
   ],
   "source": [
    "import numpy as np\n",
    "a = np.array([0.3, 0.4, 0.5])\n",
    "b = np.array([0.1, 0.3, 0.4])\n",
    "c = np.stack([(1 - a), (a-b), b], axis=1)\n",
    "pds1 = np.round(c[:, 1] * 100)\n",
    "pds2 = pds1 + np.round(c[:, 2] * 100)\n",
    "pds = np.stack([pds1, pds2], axis=1)\n",
    "pds1"
   ]
  },
  {
   "cell_type": "code",
   "execution_count": 30,
   "metadata": {},
   "outputs": [],
   "source": [
    "pds1 = pds1[:, np.newaxis]"
   ]
  },
  {
   "cell_type": "code",
   "execution_count": 33,
   "metadata": {},
   "outputs": [
    {
     "data": {
      "text/plain": [
       "array([20., 10., 10.])"
      ]
     },
     "execution_count": 33,
     "metadata": {},
     "output_type": "execute_result"
    }
   ],
   "source": [
    "pds1[:,0]"
   ]
  },
  {
   "cell_type": "code",
   "execution_count": 17,
   "metadata": {},
   "outputs": [
    {
     "data": {
      "text/plain": [
       "(2, 4)"
      ]
     },
     "execution_count": 17,
     "metadata": {},
     "output_type": "execute_result"
    }
   ],
   "source": [
    "a = np.array([[1,2,3,5],\n",
    "             [2,4,7,8]])\n",
    "a.shape"
   ]
  },
  {
   "cell_type": "code",
   "execution_count": 73,
   "metadata": {},
   "outputs": [
    {
     "data": {
      "text/plain": [
       "array([[0.5603889 , 0.        , 0.        , 0.        , 0.        ,\n",
       "        0.        , 0.        , 0.        , 0.        , 0.        ],\n",
       "       [0.42979385, 0.39402603, 0.        , 0.        , 0.        ,\n",
       "        0.        , 0.        , 0.        , 0.        , 0.        ],\n",
       "       [0.37658714, 0.17419386, 0.73934598, 0.        , 0.        ,\n",
       "        0.        , 0.        , 0.        , 0.        , 0.        ],\n",
       "       [0.05364311, 0.89459477, 0.46135142, 0.24629656, 0.        ,\n",
       "        0.        , 0.        , 0.        , 0.        , 0.        ],\n",
       "       [0.77771014, 0.98940701, 0.50228901, 0.79857415, 0.58114785,\n",
       "        0.        , 0.        , 0.        , 0.        , 0.        ],\n",
       "       [0.89784339, 0.59793307, 0.36127116, 0.40181839, 0.7941363 ,\n",
       "        0.34998872, 0.        , 0.        , 0.        , 0.        ],\n",
       "       [0.29557865, 0.00809744, 0.49890532, 0.17744623, 0.55749315,\n",
       "        0.04452211, 0.78174907, 0.        , 0.        , 0.        ],\n",
       "       [0.42849521, 0.47662994, 0.05546734, 0.21834766, 0.05765502,\n",
       "        0.66775853, 0.78506004, 0.33748847, 0.        , 0.        ],\n",
       "       [0.31701407, 0.80100377, 0.40876313, 0.69917519, 0.0833499 ,\n",
       "        0.11493302, 0.86506122, 0.0729156 , 0.76325125, 0.        ],\n",
       "       [0.47956697, 0.54877811, 0.84081197, 0.59588577, 0.96753163,\n",
       "        0.86195168, 0.02615624, 0.10921537, 0.31208748, 0.26216749]])"
      ]
     },
     "execution_count": 73,
     "metadata": {},
     "output_type": "execute_result"
    }
   ],
   "source": [
    "a = np.zeros((10,10))\n",
    "b = np.array([1,2,3,4,5,6,7,8,9,10])\n",
    "c = np.array([0,1,1,1,1,1,1,1,1,0])\n",
    "random_matrix = np.random.rand(10,10)\n",
    "mask = np.arange(10) < b[:, np.newaxis]\n",
    "a[mask] = random_matrix[mask]\n",
    "a"
   ]
  },
  {
   "cell_type": "code",
   "execution_count": 74,
   "metadata": {},
   "outputs": [
    {
     "name": "stdout",
     "output_type": "stream",
     "text": [
      "(10, 10)\n"
     ]
    }
   ],
   "source": [
    "random_matrix = np.random.rand(10,10)\n",
    "mask = np.arange(10) < c[:, np.newaxis]\n",
    "print(mask.shape)"
   ]
  },
  {
   "cell_type": "code",
   "execution_count": 42,
   "metadata": {},
   "outputs": [
    {
     "name": "stdout",
     "output_type": "stream",
     "text": [
      "[[3.  1.1 2. ]\n",
      " [8.  3.  0. ]]\n"
     ]
    }
   ],
   "source": [
    "import numpy as np\n",
    "\n",
    "# 创建一个示例矩阵\n",
    "matrix = np.array([[1.1, 2, 3],\n",
    "                   [3, 8, 0]])\n",
    "\n",
    "# 打乱每行的元素\n",
    "np.apply_along_axis(np.random.shuffle, axis=1, arr=matrix)\n",
    "\n",
    "print(matrix)"
   ]
  },
  {
   "cell_type": "code",
   "execution_count": 43,
   "metadata": {},
   "outputs": [
    {
     "data": {
      "text/plain": [
       "array([[1., 1., 1., ..., 1., 1., 1.],\n",
       "       [1., 1., 1., ..., 1., 1., 1.],\n",
       "       [1., 1., 1., ..., 1., 1., 1.],\n",
       "       ...,\n",
       "       [1., 1., 1., ..., 1., 1., 1.],\n",
       "       [1., 1., 1., ..., 1., 1., 1.],\n",
       "       [1., 1., 1., ..., 1., 1., 1.]])"
      ]
     },
     "execution_count": 43,
     "metadata": {},
     "output_type": "execute_result"
    }
   ],
   "source": [
    "a = np.ones((100,100))\n",
    "a"
   ]
  },
  {
   "cell_type": "code",
   "execution_count": 51,
   "metadata": {},
   "outputs": [
    {
     "data": {
      "text/plain": [
       "array([[[1., 1., 1., ..., 1., 1., 1.],\n",
       "        [1., 1., 1., ..., 1., 1., 1.],\n",
       "        [1., 1., 1., ..., 1., 1., 1.],\n",
       "        ...,\n",
       "        [1., 1., 1., ..., 1., 1., 1.],\n",
       "        [1., 1., 1., ..., 1., 1., 1.],\n",
       "        [1., 1., 1., ..., 1., 1., 1.]],\n",
       "\n",
       "       [[0., 0., 0., ..., 0., 0., 0.],\n",
       "        [1., 1., 1., ..., 1., 1., 1.],\n",
       "        [0., 0., 0., ..., 0., 0., 0.],\n",
       "        ...,\n",
       "        [0., 0., 0., ..., 0., 0., 0.],\n",
       "        [0., 0., 0., ..., 0., 0., 0.],\n",
       "        [0., 0., 0., ..., 0., 0., 0.]]])"
      ]
     },
     "execution_count": 51,
     "metadata": {},
     "output_type": "execute_result"
    }
   ],
   "source": [
    "b = np.zeros((2,100,100))\n",
    "b[0] = a\n",
    "b[1,1] = 1\n",
    "b"
   ]
  },
  {
   "cell_type": "code",
   "execution_count": 68,
   "metadata": {},
   "outputs": [
    {
     "data": {
      "text/plain": [
       "3"
      ]
     },
     "execution_count": 68,
     "metadata": {},
     "output_type": "execute_result"
    }
   ],
   "source": [
    "a = np.array([1,2,3,4])\n",
    "b,_=a[a>1][:,np.newaxis].shape\n",
    "b"
   ]
  },
  {
   "cell_type": "code",
   "execution_count": 70,
   "metadata": {},
   "outputs": [
    {
     "name": "stdout",
     "output_type": "stream",
     "text": [
      "[[1 2 3 4 5]\n",
      " [1 2 3 4 5]\n",
      " [1 2 3 4 5]\n",
      " [1 2 3 4 5]\n",
      " [1 2 3 4 5]\n",
      " [1 2 3 4 5]\n",
      " [1 2 3 4 5]\n",
      " [1 2 3 4 5]\n",
      " [1 2 3 4 5]\n",
      " [1 2 3 4 5]\n",
      " [1 2 3 4 5]\n",
      " [1 2 3 4 5]\n",
      " [1 2 3 4 5]\n",
      " [1 2 3 4 5]\n",
      " [1 2 3 4 5]\n",
      " [1 2 3 4 5]\n",
      " [1 2 3 4 5]\n",
      " [1 2 3 4 5]\n",
      " [1 2 3 4 5]\n",
      " [1 2 3 4 5]\n",
      " [1 2 3 4 5]\n",
      " [1 2 3 4 5]\n",
      " [1 2 3 4 5]\n",
      " [1 2 3 4 5]\n",
      " [1 2 3 4 5]\n",
      " [1 2 3 4 5]\n",
      " [1 2 3 4 5]\n",
      " [1 2 3 4 5]\n",
      " [1 2 3 4 5]\n",
      " [1 2 3 4 5]\n",
      " [1 2 3 4 5]\n",
      " [1 2 3 4 5]\n",
      " [1 2 3 4 5]\n",
      " [1 2 3 4 5]\n",
      " [1 2 3 4 5]\n",
      " [1 2 3 4 5]\n",
      " [1 2 3 4 5]\n",
      " [1 2 3 4 5]\n",
      " [1 2 3 4 5]\n",
      " [1 2 3 4 5]\n",
      " [1 2 3 4 5]\n",
      " [1 2 3 4 5]\n",
      " [1 2 3 4 5]\n",
      " [1 2 3 4 5]\n",
      " [1 2 3 4 5]\n",
      " [1 2 3 4 5]\n",
      " [1 2 3 4 5]\n",
      " [1 2 3 4 5]\n",
      " [1 2 3 4 5]\n",
      " [1 2 3 4 5]\n",
      " [1 2 3 4 5]\n",
      " [1 2 3 4 5]\n",
      " [1 2 3 4 5]\n",
      " [1 2 3 4 5]\n",
      " [1 2 3 4 5]\n",
      " [1 2 3 4 5]\n",
      " [1 2 3 4 5]\n",
      " [1 2 3 4 5]\n",
      " [1 2 3 4 5]\n",
      " [1 2 3 4 5]\n",
      " [1 2 3 4 5]\n",
      " [1 2 3 4 5]\n",
      " [1 2 3 4 5]\n",
      " [1 2 3 4 5]\n",
      " [1 2 3 4 5]\n",
      " [1 2 3 4 5]\n",
      " [1 2 3 4 5]\n",
      " [1 2 3 4 5]\n",
      " [1 2 3 4 5]\n",
      " [1 2 3 4 5]\n",
      " [1 2 3 4 5]\n",
      " [1 2 3 4 5]\n",
      " [1 2 3 4 5]\n",
      " [1 2 3 4 5]\n",
      " [1 2 3 4 5]\n",
      " [1 2 3 4 5]\n",
      " [1 2 3 4 5]\n",
      " [1 2 3 4 5]\n",
      " [1 2 3 4 5]\n",
      " [1 2 3 4 5]\n",
      " [1 2 3 4 5]\n",
      " [1 2 3 4 5]\n",
      " [1 2 3 4 5]\n",
      " [1 2 3 4 5]\n",
      " [1 2 3 4 5]\n",
      " [1 2 3 4 5]\n",
      " [1 2 3 4 5]\n",
      " [1 2 3 4 5]\n",
      " [1 2 3 4 5]\n",
      " [1 2 3 4 5]\n",
      " [1 2 3 4 5]\n",
      " [1 2 3 4 5]\n",
      " [1 2 3 4 5]\n",
      " [1 2 3 4 5]\n",
      " [1 2 3 4 5]\n",
      " [1 2 3 4 5]\n",
      " [1 2 3 4 5]\n",
      " [1 2 3 4 5]\n",
      " [1 2 3 4 5]\n",
      " [1 2 3 4 5]]\n"
     ]
    }
   ],
   "source": [
    "import numpy as np\n",
    "\n",
    "# 创建一个示例的一维数组\n",
    "original_array = np.array([1, 2, 3, 4, 5])\n",
    "\n",
    "# 指定要创建的二维数组的行数\n",
    "num_rows = 100\n",
    "\n",
    "# 使用广播创建包含重复一维数组的二维数组\n",
    "two_dimensional_array = np.tile(original_array, (num_rows, 1))\n",
    "\n",
    "print(two_dimensional_array)\n"
   ]
  },
  {
   "cell_type": "code",
   "execution_count": 72,
   "metadata": {},
   "outputs": [
    {
     "data": {
      "text/plain": [
       "array([10])"
      ]
     },
     "execution_count": 72,
     "metadata": {},
     "output_type": "execute_result"
    }
   ],
   "source": [
    "IDR_m = np.array([10, 10, 10])\n",
    "IDR_m = IDR_m[np.newaxis,:]\n",
    "IDR_m[:,1]"
   ]
  }
 ],
 "metadata": {
  "kernelspec": {
   "display_name": "py310r",
   "language": "python",
   "name": "python3"
  },
  "language_info": {
   "codemirror_mode": {
    "name": "ipython",
    "version": 3
   },
   "file_extension": ".py",
   "mimetype": "text/x-python",
   "name": "python",
   "nbconvert_exporter": "python",
   "pygments_lexer": "ipython3",
   "version": "3.10.12"
  },
  "orig_nbformat": 4
 },
 "nbformat": 4,
 "nbformat_minor": 2
}
