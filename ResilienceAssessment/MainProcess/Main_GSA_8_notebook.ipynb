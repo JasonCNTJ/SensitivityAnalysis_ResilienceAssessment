{
 "cells": [
  {
   "cell_type": "code",
   "execution_count": 1,
   "metadata": {},
   "outputs": [],
   "source": [
    "from SALib.sample import sobol\n",
    "\n",
    "problem = {\n",
    "    'num_vars': 17,\n",
    "    'names': ['M', 'R', 'V_s30', 'F', 'm_b',\n",
    "              'kesi', 'P_nsq', 'Q_con', 'M_bcj',\n",
    "              'M_gcw', 'M_wp', 'M_sc', 'M_ele',\n",
    "              'M_hvac', 'M_rf', 'S_rf', 'C_rep'],\n",
    "    'bounds': [\n",
    "            [6.0, 8.0], [10, 100], [600, 1500], [0, 1], [0.872, 1.128, 1, 0.1],\n",
    "            [0.02, 0.05], [0, 1], [0.616, 1.384, 1, 0.3], [0.616, 1.384, 1, 0.3],\n",
    "            [0.616, 1.384, 1, 0.3], [0.616, 1.384, 1, 0.3], [0.616, 1.384, 1, 0.3], [0.616, 1.384, 1, 0.3],\n",
    "            [0.616, 1.384, 1, 0.3], [0.005, 0.015], [0.1, 0.8], [1, 1.0/0.3]\n",
    "    ],\n",
    "    'dists': ['unif', 'unif', 'unif', 'unif', 'truncnorm',\n",
    "              'unif', 'unif', 'truncnorm','truncnorm',\n",
    "              'truncnorm', 'truncnorm', 'truncnorm', 'truncnorm',\n",
    "              'truncnorm', 'unif', 'unif', 'unif']\n",
    "}\n",
    "param_values = sobol.sample(problem, 2**6)"
   ]
  },
  {
   "cell_type": "code",
   "execution_count": 2,
   "metadata": {},
   "outputs": [
    {
     "data": {
      "text/plain": [
       "(2304, 17)"
      ]
     },
     "execution_count": 2,
     "metadata": {},
     "output_type": "execute_result"
    }
   ],
   "source": [
    "param_values.shape"
   ]
  },
  {
   "cell_type": "code",
   "execution_count": 3,
   "metadata": {},
   "outputs": [
    {
     "name": "stdout",
     "output_type": "stream",
     "text": [
      "0.06608953610485074\n"
     ]
    }
   ],
   "source": [
    "import numpy as np\n",
    "print(np.std(param_values[:,4]))"
   ]
  },
  {
   "cell_type": "code",
   "execution_count": 6,
   "metadata": {},
   "outputs": [
    {
     "name": "stdout",
     "output_type": "stream",
     "text": [
      "拟合得到的参数：\n",
      "mu = -7.985067842871238\n",
      "sigma = 0.5627670771602907\n"
     ]
    }
   ],
   "source": [
    "import numpy as np\n",
    "from scipy.optimize import curve_fit\n",
    "from scipy.stats import lognorm\n",
    "\n",
    "\n",
    "def pro(p, s, loc):\n",
    "    x = lognorm.ppf(p, s=s, loc=loc)\n",
    "    return x\n",
    "# 定义最小二乘法拟合函数\n",
    "def fit_lognormal(x, y):\n",
    "    x_sorted = np.sort(x)\n",
    "    y_sorted = np.sort(y)\n",
    "    # p0 = [np.mean(x_sorted), np.std(x_sorted)]  # 初始猜测的参数值使用均值和标准差\n",
    "    # p0 = [np.std(x_sorted), np.mean(x_sorted)]  # 初始猜测的参数值使用均值和标准差\n",
    "    p0 = [1, 0.7]  # 初始猜测的参数值使用均值和标准差\n",
    "    \n",
    "    \n",
    "    params, pcov = curve_fit(lognorm.ppf, y_sorted, x_sorted, p0)\n",
    "    sigma, mu = params\n",
    "    return mu, sigma\n",
    "\n",
    "# 输入分位值和对应的数据\n",
    "x = np.array([0.0005, 0.00105, 0.0026])\n",
    "# x = np.array([0.02, 0.042, 0.104])\n",
    "x = np.log(x)\n",
    "y = np.array([0.1, 0.5, 0.9])  # 分位值对应的百分比为0.1, 0.5, 0.9\n",
    "\n",
    "# 最小二乘法拟合\n",
    "mu, sigma = fit_lognormal(x, y)\n",
    "\n",
    "# 输出拟合结果\n",
    "print(\"拟合得到的参数：\")\n",
    "print(\"mu =\", mu)\n",
    "print(\"sigma =\", sigma)\n"
   ]
  },
  {
   "cell_type": "code",
   "execution_count": 9,
   "metadata": {},
   "outputs": [
    {
     "name": "stdout",
     "output_type": "stream",
     "text": [
      "0.00039788149379279484 0.00024037761621984884\n",
      "-7.986860351988825 0.5623562974619873\n"
     ]
    }
   ],
   "source": [
    "import numpy as np\n",
    "\n",
    "mean = -7.985067842871238  # 对数正态分布的均值\n",
    "sigma = 0.5627670771602907  # 对数正态分布的标准差\n",
    "size = 10000  # 生成的随机数的个数\n",
    "\n",
    "random_numbers = np.random.lognormal(mean, sigma, size)\n",
    "print(np.mean(random_numbers), np.std(random_numbers))\n",
    "print(np.mean(np.log(random_numbers)), np.std(np.log(random_numbers)))"
   ]
  },
  {
   "cell_type": "code",
   "execution_count": 30,
   "metadata": {},
   "outputs": [
    {
     "name": "stdout",
     "output_type": "stream",
     "text": [
      "-5.961879018931485\n",
      "0.00257506882020214\n"
     ]
    }
   ],
   "source": [
    "from scipy.stats import norm\n",
    "a = np.log(0.00105) + 0.7 * norm.ppf(0.9)\n",
    "print(a)\n",
    "print(np.exp(a))"
   ]
  },
  {
   "cell_type": "code",
   "execution_count": 1,
   "metadata": {},
   "outputs": [
    {
     "data": {
      "text/plain": [
       "{'c': 0.12}"
      ]
     },
     "execution_count": 1,
     "metadata": {},
     "output_type": "execute_result"
    }
   ],
   "source": [
    "b = 3\n",
    "a = {'c': 0.04 * b}\n",
    "\n",
    "a"
   ]
  },
  {
   "cell_type": "code",
   "execution_count": 46,
   "metadata": {},
   "outputs": [
    {
     "name": "stdout",
     "output_type": "stream",
     "text": [
      "32829.47967726992\n",
      "12330.796951109389\n",
      "4924.421951590488\n",
      "10481.177408442982\n",
      "15405.599360033468\n",
      "15325.21739792794\n"
     ]
    }
   ],
   "source": [
    "import numpy as np\n",
    "a = np.random.lognormal(np.log(32100), 0.17, 1000)\n",
    "b = np.random.lognormal(np.log(12100), 0.19, 1000)\n",
    "print(np.mean(a))\n",
    "print(np.mean(b))\n",
    "print(np.mean(a*0.15))\n",
    "print(np.mean(b*0.85))\n",
    "print(np.mean(a*0.15+b*0.85))\n",
    "c = np.random.lognormal(np.log(32100*0.15+12100*0.85), 0.18, 1000)\n",
    "print(np.mean(c))"
   ]
  }
 ],
 "metadata": {
  "kernelspec": {
   "display_name": "py310r",
   "language": "python",
   "name": "python3"
  },
  "language_info": {
   "codemirror_mode": {
    "name": "ipython",
    "version": 3
   },
   "file_extension": ".py",
   "mimetype": "text/x-python",
   "name": "python",
   "nbconvert_exporter": "python",
   "pygments_lexer": "ipython3",
   "version": "3.10.12"
  },
  "orig_nbformat": 4
 },
 "nbformat": 4,
 "nbformat_minor": 2
}
