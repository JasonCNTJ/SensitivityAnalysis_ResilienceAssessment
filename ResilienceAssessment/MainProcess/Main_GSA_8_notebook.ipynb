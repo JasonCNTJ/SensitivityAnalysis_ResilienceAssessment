{
 "cells": [
  {
   "cell_type": "code",
   "execution_count": 1,
   "metadata": {},
   "outputs": [],
   "source": [
    "from SALib.sample import sobol\n",
    "\n",
    "problem = {\n",
    "    'num_vars': 17,\n",
    "    'names': ['M', 'R', 'V_s30', 'F', 'm_b',\n",
    "              'kesi', 'P_nsq', 'Q_con', 'M_bcj',\n",
    "              'M_gcw', 'M_wp', 'M_sc', 'M_ele',\n",
    "              'M_hvac', 'M_rf', 'S_rf', 'C_rep'],\n",
    "    'bounds': [\n",
    "            [6.0, 8.0], [10, 100], [600, 1500], [0, 1], [0.872, 1.128, 1, 0.1],\n",
    "            [0.02, 0.05], [0, 1], [0.616, 1.384, 1, 0.3], [0.616, 1.384, 1, 0.3],\n",
    "            [0.616, 1.384, 1, 0.3], [0.616, 1.384, 1, 0.3], [0.616, 1.384, 1, 0.3], [0.616, 1.384, 1, 0.3],\n",
    "            [0.616, 1.384, 1, 0.3], [0.005, 0.015], [0.1, 0.8], [1, 1.0/0.3]\n",
    "    ],\n",
    "    'dists': ['unif', 'unif', 'unif', 'unif', 'truncnorm',\n",
    "              'unif', 'unif', 'truncnorm','truncnorm',\n",
    "              'truncnorm', 'truncnorm', 'truncnorm', 'truncnorm',\n",
    "              'truncnorm', 'unif', 'unif', 'unif']\n",
    "}\n",
    "param_values = sobol.sample(problem, 2**6)"
   ]
  },
  {
   "cell_type": "code",
   "execution_count": 2,
   "metadata": {},
   "outputs": [
    {
     "data": {
      "text/plain": [
       "(2304, 17)"
      ]
     },
     "execution_count": 2,
     "metadata": {},
     "output_type": "execute_result"
    }
   ],
   "source": [
    "param_values.shape"
   ]
  },
  {
   "cell_type": "code",
   "execution_count": 8,
   "metadata": {},
   "outputs": [
    {
     "name": "stdout",
     "output_type": "stream",
     "text": [
      "0.06618003785577975\n"
     ]
    }
   ],
   "source": [
    "import numpy as np\n",
    "print(np.std(param_values[:,4]))"
   ]
  }
 ],
 "metadata": {
  "kernelspec": {
   "display_name": "py310r",
   "language": "python",
   "name": "python3"
  },
  "language_info": {
   "codemirror_mode": {
    "name": "ipython",
    "version": 3
   },
   "file_extension": ".py",
   "mimetype": "text/x-python",
   "name": "python",
   "nbconvert_exporter": "python",
   "pygments_lexer": "ipython3",
   "version": "3.10.12"
  },
  "orig_nbformat": 4
 },
 "nbformat": 4,
 "nbformat_minor": 2
}
