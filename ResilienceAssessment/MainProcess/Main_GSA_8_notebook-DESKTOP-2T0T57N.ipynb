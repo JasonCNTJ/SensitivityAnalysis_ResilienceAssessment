{
 "cells": [
  {
   "cell_type": "code",
   "execution_count": 1,
   "metadata": {},
   "outputs": [
    {
     "name": "stderr",
     "output_type": "stream",
     "text": [
      "C:\\Users\\12734\\AppData\\Roaming\\Python\\Python310\\site-packages\\SALib\\util\\problem.py:210: UserWarning: Parallel evaluation is an experimental feature and may not work.\n",
      "  warnings.warn(\n"
     ]
    },
    {
     "name": "stdout",
     "output_type": "stream",
     "text": [
      "计算时间为 95993.85832118988 s\n",
      "Samples:\n",
      "\t16 parameters: ['M', 'R', 'V_s30', 'F', 'm_b', 'kesi', 'P_nsq', 'M_bcj', 'M_gcw', 'M_wp', 'M_sc', 'M_ele', 'M_hvac', 'M_rf', 'S_rf', 'C_rep']\n",
      "\t9216 evaluations \n",
      "\n",
      "Outputs:\n",
      "\t1 outputs: ['Y']\n",
      "\t9216 evaluations \n",
      "\n",
      "Analysis:\n",
      "              ST   ST_conf\n",
      "M       0.486315  0.143098\n",
      "R       0.879783  0.145091\n",
      "V_s30   0.570534  0.167141\n",
      "F       0.491528  0.124767\n",
      "m_b     0.547727  0.173759\n",
      "kesi    0.505379  0.122577\n",
      "P_nsq   0.677803  0.199612\n",
      "M_bcj   0.519717  0.150023\n",
      "M_gcw   0.623631  0.202756\n",
      "M_wp    0.569552  0.137913\n",
      "M_sc    0.675908  0.193172\n",
      "M_ele   0.540863  0.144915\n",
      "M_hvac  0.527131  0.151895\n",
      "M_rf    0.519806  0.188903\n",
      "S_rf    0.477406  0.149835\n",
      "C_rep   0.394569  0.115229 \n",
      "\n",
      "              S1   S1_conf\n",
      "M      -0.025369  0.087836\n",
      "R       0.448326  0.169896\n",
      "V_s30  -0.026110  0.061355\n",
      "F      -0.034459  0.059742\n",
      "m_b    -0.054147  0.066238\n",
      "kesi   -0.027965  0.060067\n",
      "P_nsq  -0.053778  0.065717\n",
      "M_bcj  -0.038578  0.071078\n",
      "M_gcw  -0.048830  0.069262\n",
      "M_wp   -0.013388  0.066871\n",
      "M_sc   -0.023883  0.069097\n",
      "M_ele  -0.059452  0.057033\n",
      "M_hvac -0.039725  0.063854\n",
      "M_rf   -0.035223  0.053154\n",
      "S_rf   -0.025668  0.063977\n",
      "C_rep  -0.016938  0.063348 \n",
      "\n",
      "\n"
     ]
    }
   ],
   "source": [
    "# from model_definitions import wrapped_linear\n",
    "from SALib import ProblemSpec\n",
    "import time\n",
    "import ra_func_gsa as ra\n",
    "import numpy as np\n",
    "\n",
    "\n",
    "if __name__ == \"__main__\":\n",
    "    start_time = time.time()  # 记录开始时间\n",
    "    sp = ProblemSpec({\n",
    "        'names': ['M', 'R', 'V_s30', 'F', 'm_b',\n",
    "                  'kesi', 'P_nsq', 'M_bcj',\n",
    "                  'M_gcw', 'M_wp', 'M_sc', 'M_ele',\n",
    "                  'M_hvac', 'M_rf', 'S_rf', 'C_rep'],\n",
    "        'bounds': [\n",
    "            [6.0, 8.0], [10, 100], [600, 1500], [0, 1], [0.872, 1.128, 1, 0.1],\n",
    "            [0.02, 0.05], [0, 1], [0.616, 1.384, 1, 0.3],\n",
    "            [0.616, 1.384, 1, 0.3], [0.616, 1.384, 1, 0.3], [0.616, 1.384, 1, 0.3], [0.616, 1.384, 1, 0.3],\n",
    "            [0.616, 1.384, 1, 0.3], [0.005, 0.015], [0.1, 0.8], [1, 1.0/0.3]\n",
    "        ],\n",
    "        'dists': ['unif', 'unif', 'unif', 'unif', 'truncnorm',\n",
    "                  'unif', 'unif', 'truncnorm',\n",
    "                  'truncnorm', 'truncnorm', 'truncnorm', 'truncnorm',\n",
    "                  'truncnorm', 'unif', 'unif', 'unif']\n",
    "    })\n",
    "\n",
    "    (\n",
    "        sp.sample_sobol(2**9, calc_second_order=False)\n",
    "        .evaluate(ra.ResilienceAssessment, nprocs=16)\n",
    "        .analyze_sobol(calc_second_order=False)\n",
    "    )\n",
    "    # 采样和运行结果存储\n",
    "    np.savetxt(\"samples0820.txt\", sp.samples)\n",
    "    np.savetxt(\"results0820.txt\", sp.results)\n",
    "    # 存储计算结果\n",
    "    sp_data = sp.to_df()\n",
    "    # 打开文件\n",
    "    with open('sp_output0820.txt', 'w') as file:\n",
    "        # 将列表中的元素逐行写入文件\n",
    "        for item in sp_data:\n",
    "            file.write(str(item) + '\\n')\n",
    "    # 关闭文件\n",
    "    file.close()\n",
    "    end_time = time.time()  # 记录结束时间\n",
    "    elapsed_time = end_time - start_time  # 计算时间差\n",
    "    print('计算时间为', elapsed_time, 's')\n",
    "    print(sp)"
   ]
  },
  {
   "cell_type": "code",
   "execution_count": 4,
   "metadata": {},
   "outputs": [
    {
     "data": {
      "text/plain": [
       "array([<Axes: >, <Axes: >], dtype=object)"
      ]
     },
     "execution_count": 4,
     "metadata": {},
     "output_type": "execute_result"
    },
    {
     "data": {
      "image/png": "[encoded data removed]",
      "text/plain": [
       "<Figure size 640x480 with 2 Axes>"
      ]
     },
     "metadata": {},
     "output_type": "display_data"
    }
   ],
   "source": [
    "sp.plot()"
   ]
  },
  {
   "cell_type": "code",
   "execution_count": 8,
   "metadata": {},
   "outputs": [
    {
     "data": {
      "text/plain": [
       "array([[7.95569927e+00, 7.99846675e+01, 1.44345425e+03, ...,\n",
       "        6.46486880e-03, 6.22094405e-01, 1.93015453e+00],\n",
       "       [7.58257743e+00, 7.99846675e+01, 1.44345425e+03, ...,\n",
       "        6.46486880e-03, 6.22094405e-01, 1.93015453e+00],\n",
       "       [7.95569927e+00, 7.83620761e+01, 1.44345425e+03, ...,\n",
       "        6.46486880e-03, 6.22094405e-01, 1.93015453e+00],\n",
       "       ...,\n",
       "       [7.95791486e+00, 2.34434115e+01, 1.20576985e+03, ...,\n",
       "        1.48579318e-02, 2.85920592e-01, 2.86329011e+00],\n",
       "       [7.95791486e+00, 2.34434115e+01, 1.20576985e+03, ...,\n",
       "        1.48579318e-02, 5.45503251e-01, 2.48485732e+00],\n",
       "       [6.62170055e+00, 7.58614058e+01, 7.15872714e+02, ...,\n",
       "        1.04442536e-02, 2.85920592e-01, 2.48485732e+00]])"
      ]
     },
     "execution_count": 8,
     "metadata": {},
     "output_type": "execute_result"
    }
   ],
   "source": [
    "sp.samples"
   ]
  },
  {
   "cell_type": "code",
   "execution_count": 11,
   "metadata": {},
   "outputs": [
    {
     "data": {
      "text/plain": [
       "{'minimum': array([0.01561647, 0.12295506, 0.01396974, 0.02050143, 0.0125099 ,\n",
       "        0.0152548 , 0.02023123, 0.02295454, 0.01263681, 0.01631778,\n",
       "        0.01711857, 0.01529099, 0.03524361, 0.0158335 , 0.01569177,\n",
       "        0.01712617]),\n",
       " 'mean': array([0.04489235, 0.30926558, 0.0255261 , 0.02967017, 0.02875293,\n",
       "        0.04904823, 0.03297111, 0.02834691, 0.03517981, 0.03358513,\n",
       "        0.02978784, 0.02400012, 0.07356404, 0.02206615, 0.02445587,\n",
       "        0.02662206]),\n",
       " 'median': array([0.04048525, 0.30038233, 0.0248768 , 0.02786075, 0.02909354,\n",
       "        0.04330172, 0.03259038, 0.02750545, 0.03718703, 0.03019621,\n",
       "        0.02443784, 0.02332966, 0.06808385, 0.01937097, 0.02370446,\n",
       "        0.02515301]),\n",
       " 'maximum': array([0.08382754, 0.61045156, 0.03725674, 0.04116243, 0.04144491,\n",
       "        0.10347914, 0.05018644, 0.04311185, 0.05454346, 0.06013412,\n",
       "        0.05231827, 0.03351261, 0.16677305, 0.0387095 , 0.03369673,\n",
       "        0.04467982]),\n",
       " 'CV': array([0.53799648, 0.46964854, 0.28035626, 0.23329723, 0.3008368 ,\n",
       "        0.52212027, 0.28196582, 0.19023495, 0.38497278, 0.43333542,\n",
       "        0.40139968, 0.21864429, 0.49645573, 0.29485945, 0.22219286,\n",
       "        0.27467327]),\n",
       " 'names': ['M',\n",
       "  'R',\n",
       "  'V_s30',\n",
       "  'F',\n",
       "  'm_b',\n",
       "  'kesi',\n",
       "  'P_nsq',\n",
       "  'M_bcj',\n",
       "  'M_gcw',\n",
       "  'M_wp',\n",
       "  'M_sc',\n",
       "  'M_ele',\n",
       "  'M_hvac',\n",
       "  'M_rf',\n",
       "  'S_rf',\n",
       "  'C_rep']}"
      ]
     },
     "execution_count": 11,
     "metadata": {},
     "output_type": "execute_result"
    }
   ],
   "source": [
    "import SALib.analyze.pawn as pawn\n",
    "problem = ({\n",
    "    'num_vars': 16,\n",
    "    'names': ['M', 'R', 'V_s30', 'F', 'm_b',\n",
    "                'kesi', 'P_nsq', 'M_bcj',\n",
    "                'M_gcw', 'M_wp', 'M_sc', 'M_ele',\n",
    "                'M_hvac', 'M_rf', 'S_rf', 'C_rep'],\n",
    "    'bounds': [\n",
    "        [6.0, 8.0], [10, 100], [600, 1500], [0, 1], [0.872, 1.128, 1, 0.1],\n",
    "        [0.02, 0.05], [0, 1], [0.616, 1.384, 1, 0.3],\n",
    "        [0.616, 1.384, 1, 0.3], [0.616, 1.384, 1, 0.3], [0.616, 1.384, 1, 0.3], [0.616, 1.384, 1, 0.3],\n",
    "        [0.616, 1.384, 1, 0.3], [0.005, 0.015], [0.1, 0.8], [1, 1.0/0.3]\n",
    "    ],\n",
    "    'dists': ['unif', 'unif', 'unif', 'unif', 'truncnorm',\n",
    "                'unif', 'unif', 'truncnorm',\n",
    "                'truncnorm', 'truncnorm', 'truncnorm', 'truncnorm',\n",
    "                'truncnorm', 'unif', 'unif', 'unif']\n",
    "})\n",
    "X = sp.samples\n",
    "Y = sp.results\n",
    "Si = pawn.analyze(problem, X, Y)\n",
    "Si"
   ]
  },
  {
   "cell_type": "code",
   "execution_count": 13,
   "metadata": {},
   "outputs": [
    {
     "data": {
      "text/plain": [
       "<Axes: >"
      ]
     },
     "execution_count": 13,
     "metadata": {},
     "output_type": "execute_result"
    },
    {
     "data": {
      "image/png": "[encoded data removed]",
      "text/plain": [
       "<Figure size 640x480 with 1 Axes>"
      ]
     },
     "metadata": {},
     "output_type": "display_data"
    }
   ],
   "source": [
    "Si.plot()"
   ]
  },
  {
   "cell_type": "code",
   "execution_count": 16,
   "metadata": {},
   "outputs": [
    {
     "data": {
      "text/plain": [
       "(array([6.257e+03, 4.800e+02, 2.920e+02, 2.120e+02, 1.770e+02, 1.310e+02,\n",
       "        1.090e+02, 8.700e+01, 8.000e+01, 7.300e+01, 6.300e+01, 6.800e+01,\n",
       "        6.300e+01, 7.400e+01, 5.400e+01, 5.500e+01, 3.300e+01, 5.300e+01,\n",
       "        6.100e+01, 4.400e+01, 4.800e+01, 5.800e+01, 4.800e+01, 3.400e+01,\n",
       "        4.400e+01, 4.300e+01, 2.900e+01, 3.900e+01, 2.100e+01, 2.800e+01,\n",
       "        2.700e+01, 3.100e+01, 2.100e+01, 2.100e+01, 3.400e+01, 1.800e+01,\n",
       "        2.200e+01, 1.400e+01, 1.700e+01, 8.000e+00, 1.400e+01, 1.600e+01,\n",
       "        9.000e+00, 7.000e+00, 7.000e+00, 1.400e+01, 9.000e+00, 1.300e+01,\n",
       "        3.000e+00, 5.000e+00, 3.000e+00, 7.000e+00, 3.000e+00, 4.000e+00,\n",
       "        2.000e+00, 0.000e+00, 1.000e+00, 0.000e+00, 3.000e+00, 3.000e+00,\n",
       "        3.000e+00, 4.000e+00, 3.000e+00, 0.000e+00, 4.000e+00, 1.000e+00,\n",
       "        2.000e+00, 0.000e+00, 1.000e+00, 1.000e+00, 1.000e+00, 0.000e+00,\n",
       "        0.000e+00, 0.000e+00, 0.000e+00, 0.000e+00, 0.000e+00, 0.000e+00,\n",
       "        0.000e+00, 0.000e+00, 0.000e+00, 0.000e+00, 1.000e+00, 0.000e+00,\n",
       "        0.000e+00, 0.000e+00, 0.000e+00, 0.000e+00, 0.000e+00, 0.000e+00,\n",
       "        0.000e+00, 0.000e+00, 0.000e+00, 0.000e+00, 0.000e+00, 0.000e+00,\n",
       "        0.000e+00, 0.000e+00, 0.000e+00, 1.000e+00]),\n",
       " array([      0.        ,   17435.75287373,   34871.50574746,\n",
       "          52307.25862118,   69743.01149491,   87178.76436864,\n",
       "         104614.51724237,  122050.2701161 ,  139486.02298982,\n",
       "         156921.77586355,  174357.52873728,  191793.28161101,\n",
       "         209229.03448474,  226664.78735846,  244100.54023219,\n",
       "         261536.29310592,  278972.04597965,  296407.79885338,\n",
       "         313843.5517271 ,  331279.30460083,  348715.05747456,\n",
       "         366150.81034829,  383586.56322202,  401022.31609574,\n",
       "         418458.06896947,  435893.8218432 ,  453329.57471693,\n",
       "         470765.32759066,  488201.08046438,  505636.83333811,\n",
       "         523072.58621184,  540508.33908557,  557944.0919593 ,\n",
       "         575379.84483302,  592815.59770675,  610251.35058048,\n",
       "         627687.10345421,  645122.85632794,  662558.60920166,\n",
       "         679994.36207539,  697430.11494912,  714865.86782285,\n",
       "         732301.62069658,  749737.3735703 ,  767173.12644403,\n",
       "         784608.87931776,  802044.63219149,  819480.38506522,\n",
       "         836916.13793894,  854351.89081267,  871787.6436864 ,\n",
       "         889223.39656013,  906659.14943386,  924094.90230758,\n",
       "         941530.65518131,  958966.40805504,  976402.16092877,\n",
       "         993837.9138025 , 1011273.66667622, 1028709.41954995,\n",
       "        1046145.17242368, 1063580.92529741, 1081016.67817114,\n",
       "        1098452.43104486, 1115888.18391859, 1133323.93679232,\n",
       "        1150759.68966605, 1168195.44253978, 1185631.1954135 ,\n",
       "        1203066.94828723, 1220502.70116096, 1237938.45403469,\n",
       "        1255374.20690842, 1272809.95978214, 1290245.71265587,\n",
       "        1307681.4655296 , 1325117.21840333, 1342552.97127706,\n",
       "        1359988.72415078, 1377424.47702451, 1394860.22989824,\n",
       "        1412295.98277197, 1429731.7356457 , 1447167.48851942,\n",
       "        1464603.24139315, 1482038.99426688, 1499474.74714061,\n",
       "        1516910.50001434, 1534346.25288806, 1551782.00576179,\n",
       "        1569217.75863552, 1586653.51150925, 1604089.26438298,\n",
       "        1621525.0172567 , 1638960.77013043, 1656396.52300416,\n",
       "        1673832.27587789, 1691268.02875162, 1708703.78162534,\n",
       "        1726139.53449907, 1743575.2873728 ]),\n",
       " <BarContainer object of 100 artists>)"
      ]
     },
     "execution_count": 16,
     "metadata": {},
     "output_type": "execute_result"
    },
    {
     "data": {
      "image/png": "[encoded data removed]",
      "text/plain": [
       "<Figure size 640x480 with 1 Axes>"
      ]
     },
     "metadata": {},
     "output_type": "display_data"
    }
   ],
   "source": [
    "import matplotlib.pyplot as plt\n",
    "plt.hist(sp.results,bins=100)"
   ]
  },
  {
   "cell_type": "code",
   "execution_count": 1,
   "metadata": {},
   "outputs": [],
   "source": [
    "from SALib.sample import sobol\n",
    "\n",
    "problem = {\n",
    "    'num_vars': 17,\n",
    "    'names': ['M', 'R', 'V_s30', 'F', 'm_b',\n",
    "              'kesi', 'P_nsq', 'Q_con', 'M_bcj',\n",
    "              'M_gcw', 'M_wp', 'M_sc', 'M_ele',\n",
    "              'M_hvac', 'M_rf', 'S_rf', 'C_rep'],\n",
    "    'bounds': [\n",
    "            [6.0, 8.0], [10, 100], [600, 1500], [0, 1], [0.872, 1.128, 1, 0.1],\n",
    "            [0.02, 0.05], [0, 1], [0.616, 1.384, 1, 0.3], [0.616, 1.384, 1, 0.3],\n",
    "            [0.616, 1.384, 1, 0.3], [0.616, 1.384, 1, 0.3], [0.616, 1.384, 1, 0.3], [0.616, 1.384, 1, 0.3],\n",
    "            [0.616, 1.384, 1, 0.3], [0.005, 0.015], [0.1, 0.8], [1, 1.0/0.3]\n",
    "    ],\n",
    "    'dists': ['unif', 'unif', 'unif', 'unif', 'truncnorm',\n",
    "              'unif', 'unif', 'truncnorm','truncnorm',\n",
    "              'truncnorm', 'truncnorm', 'truncnorm', 'truncnorm',\n",
    "              'truncnorm', 'unif', 'unif', 'unif']\n",
    "}\n",
    "param_values = sobol.sample(problem, 2**6)"
   ]
  },
  {
   "cell_type": "code",
   "execution_count": 2,
   "metadata": {},
   "outputs": [
    {
     "name": "stdout",
     "output_type": "stream",
     "text": [
      "c:\\Users\\12734\\OneDrive\\重要文件\\2_SensitivityAnalysis\\Sensitivity-PythonCode\\sensitivity-code\\ResilienceAssessment\\MainProcess\n"
     ]
    }
   ],
   "source": [
    "import os\n",
    "print(os.getcwd())"
   ]
  },
  {
   "cell_type": "code",
   "execution_count": 9,
   "metadata": {},
   "outputs": [],
   "source": [
    "import numpy as np\n",
    "a1 = 10\n",
    "a2 = 40\n",
    "a3 = 60\n",
    "b = np.zeros(100)\n",
    "b[a1+a2:100] = np.zeros(100-a1-a2)"
   ]
  },
  {
   "cell_type": "code",
   "execution_count": 1,
   "metadata": {},
   "outputs": [
    {
     "name": "stdout",
     "output_type": "stream",
     "text": [
      "c:\\Users\\12734\\OneDrive\\重要文件\\2_SensitivityAnalysis\\Sensitivity-PythonCode\\sensitivity-code\\ResilienceAssessment\\MainProcess\n",
      "0\n"
     ]
    },
    {
     "name": "stderr",
     "output_type": "stream",
     "text": [
      "Modified Ibarra-Medina-Krawinkler Model with Bilinear Hysteretic Response\n"
     ]
    },
    {
     "name": "stdout",
     "output_type": "stream",
     "text": [
      "Analysis Completed!\n",
      "[9.87566784e-04 1.02621841e-03 6.47299144e-04 7.23327684e-02\n",
      " 4.91731789e-02 5.35190084e-02 5.82767915e-02 6.62515780e-05]\n"
     ]
    },
    {
     "data": {
      "text/plain": [
       "array([0.])"
      ]
     },
     "execution_count": 1,
     "metadata": {},
     "output_type": "execute_result"
    }
   ],
   "source": [
    "import ra_func_gsa as ra\n",
    "import numpy as np\n",
    "import os\n",
    "from StochasticGroundMotionModeling import StochasticGroundMotionModeling\n",
    "import matplotlib.pyplot as plt\n",
    "os.chdir(r\"c:\\Users\\12734\\OneDrive\\重要文件\\2_SensitivityAnalysis\\Sensitivity-PythonCode\\sensitivity-code\")\n",
    "input = np.array([[7.965637523680925369e+00, 7.807295236736536026e+01, 1.329014329332858324e+03, 2.762317843735218048e-01,\n",
    "                  9.220246216817944429e-01, 4.623287566006183819e-02, 4.675927665084600449e-02, 1.003561423259697438e+00,\n",
    "                  1.024348543391025101e+00, 6.409580939327335081e-01, 8.932387341653413859e-01, 8.091168696387407433e-01,\n",
    "                  1.011655647660180790e+00, 1.058744054287671932e-02, 3.267620566301048246e-01, 1.024904189320902104e+00]])\n",
    "Output = ra.ResilienceAssessment(input)\n"
   ]
  },
  {
   "cell_type": "code",
   "execution_count": 3,
   "metadata": {},
   "outputs": [
    {
     "data": {
      "image/png": "[encoded data removed]",
      "text/plain": [
       "<Figure size 640x480 with 1 Axes>"
      ]
     },
     "metadata": {},
     "output_type": "display_data"
    }
   ],
   "source": [
    "import ra_func_gsa as ra\n",
    "import numpy as np\n",
    "import os\n",
    "from StochasticGroundMotionModeling import StochasticGroundMotionModeling\n",
    "import matplotlib.pyplot as plt\n",
    "os.chdir(r\"c:\\Users\\12734\\OneDrive\\重要文件\\2_SensitivityAnalysis\\Sensitivity-PythonCode\\sensitivity-code\")\n",
    "input = np.array([[7.965637523680925369e+00, 7.807295236736536026e+01, 1.329014329332858324e+03, 2.762317843735218048e-01,\n",
    "                  9.220246216817944429e-01, 4.623287566006183819e-02, 4.675927665084600449e-02, 1.003561423259697438e+00,\n",
    "                  1.024348543391025101e+00, 6.409580939327335081e-01, 8.932387341653413859e-01, 8.091168696387407433e-01,\n",
    "                  1.011655647660180790e+00, 1.058744054287671932e-02, 3.267620566301048246e-01, 1.024904189320902104e+00]])\n",
    "M, R, V_s30, F, m_b, kesi, P_nsq, M_bcj, M_gcw, M_wp, M_sc, M_ele, M_hvac, M_rf, S_rf, C_rep = input[0, :]\n",
    "ACC, tn = StochasticGroundMotionModeling(M, R, V_s30, F)\n",
    "t = np.arange(0, tn + 0.01, 0.01)\n",
    "plt.plot(t, ACC)\n",
    "plt.xlabel('time (s)')\n",
    "plt.ylabel('acc (g)')\n",
    "plt.title('acc history')\n",
    "plt.grid(True)\n",
    "plt.show()\n",
    "# Output = ra.ResilienceAssessment(input)"
   ]
  },
  {
   "cell_type": "code",
   "execution_count": 4,
   "metadata": {},
   "outputs": [
    {
     "data": {
      "text/plain": [
       "(0.001, 10)"
      ]
     },
     "execution_count": 4,
     "metadata": {},
     "output_type": "execute_result"
    },
    {
     "data": {
      "image/png": "[encoded data removed]",
      "text/plain": [
       "<Figure size 640x480 with 1 Axes>"
      ]
     },
     "metadata": {},
     "output_type": "display_data"
    }
   ],
   "source": [
    "# 精确积分法求解\n",
    "# 引入所需要的库\n",
    "# 作者：Jiajun Du\n",
    "import math\n",
    "import numpy as np\n",
    "import matplotlib.pyplot as plt\n",
    "# import time\n",
    "# from tqdm import tqdm,trange\n",
    "#plt.style.use(\"ggplot\")\n",
    "plt.rcParams['font.sans-serif'] = ['Microsoft Yahei']\n",
    "plt.rcParams['axes.unicode_minus'] = False\n",
    "# title：绘图标题；ta：地震动时序，a：地震动加速度幅值，t:周期时序，u:位移最大值序列，v，amax分别为速度和加速度最大值序列\n",
    "from numba import jit\n",
    "\n",
    "# 用Newmark方法求解地震动下结构的反应，omg：结构自振圆频率，zeta：结构阻尼比\n",
    "# ag：地震加速度值，dt：地震步长\n",
    "@jit(nopython=True)\n",
    "def solve_sdof_eqwave_nmk(omg,zeta,ag,dt):\n",
    "    omg2 = omg * omg\n",
    "    #Newmark方法参数，gama和beta，本取值代表了采用的是线加速度法,如果把beta换成0.25就是平均加速度法\n",
    "    gama = 0.5\n",
    "    beta = 1 / 6\n",
    "    \n",
    "    c = 2*zeta*omg # 阻尼，除以质量m\n",
    "    keq = omg2 + gama/(beta*dt)*c + 1/(beta*dt*dt)  #等效刚度\n",
    "    \n",
    "    n = len(ag)\n",
    "    u = np.zeros(n)\n",
    "    v = np.zeros(n)\n",
    "    a = np.zeros(n)\n",
    "    u[0] = 0.0 #初始位移设为0\n",
    "    v[0] = 0.0 #初始速度设为0\n",
    "    a[0] = -ag[0]-c*v[0]-omg2*u[0] # 利用运动方程给出时间间隔下的初始加速度\n",
    "    \n",
    "    for i in range(n-1):\n",
    "        peq = (-ag[i+1] + (1/beta/dt/dt+gama/beta/dt*c)*u[i] + (1/beta/dt+(gama/beta-1)*c)*v[i]\n",
    "               +((1/2/beta-1)+dt*(gama/2/beta-1)*c)*a[i])\n",
    "        u[i+1] = peq/keq\n",
    "        v[i+1] = gama/beta/dt*(u[i+1]-u[i])+(1-gama/beta)*v[i]+dt*(1-gama/2/beta)*a[i]\n",
    "        a[i+1] = -ag[i+1]-c*v[i+1]-omg2*u[i+1]\n",
    "        \n",
    "    umax = max(np.abs(u))\n",
    "    vmax = max(np.abs(v))\n",
    "    amax = omg2*umax\n",
    "    return umax,vmax,amax\n",
    "\n",
    "\n",
    "@jit(nopython=True)\n",
    "def solve_nigam_jennings(omg, zeta, ag, dnt):\n",
    "    w = omg\n",
    "    h = zeta\n",
    "    dt = dnt\n",
    "    c = 2*h*w # 阻尼，除以质量m\n",
    "    wd = math.sqrt(1-h*h) * w\n",
    "    w2 = w*w\n",
    "    w3 = w*w*w\n",
    "    wddt = wd*dt\n",
    "    swddt = math.sin(wddt)\n",
    "    cwddt = math.cos(wddt)\n",
    "    ehwt = math.exp(-h*w*dt)\n",
    "    hc = h/(math.sqrt(1-h*h))\n",
    "    a11 = ehwt*(hc*swddt+cwddt)\n",
    "    a12 = ehwt/wd*swddt\n",
    "    a21 = -w/(math.sqrt(1-h*h))*ehwt*swddt\n",
    "    a22 = ehwt*(cwddt-hc*swddt)\n",
    "    \n",
    "    hc2 = (2*h*h-1)/(w*w*dt)\n",
    "    hw3dt = 2*h/w/w/w/dt\n",
    "    b11 = ehwt*((hc2+h/w)*swddt/wd+(hw3dt+1/w/w)*cwddt)-hw3dt\n",
    "    b12 = -ehwt*(hc2*swddt/wd+hw3dt*cwddt)-1/w/w+hw3dt\n",
    "    b21 = ehwt*((hc2+h/w)*(cwddt-hc*swddt)-(hw3dt+1/w/w)*(wd*swddt+h*w*cwddt))+1/w/w/dt\n",
    "    b22 = -ehwt*(hc2*(cwddt-hc*swddt)-hw3dt*(wd*swddt+h*w*cwddt))-1/w/w/dt\n",
    "    n = len(ag)\n",
    "    u = np.zeros(n)\n",
    "    v = np.zeros(n)\n",
    "    a = np.zeros(n)\n",
    "    u[0] = 0.0 #初始位移设为0\n",
    "    v[0] = 0.0 #初始速度设为0\n",
    "    a[0] = -ag[0]-c*v[0]-w2*u[0] # 利用运动方程给出时间间隔下的初始加速度\n",
    "    for i in range(n-1):\n",
    "        u[i+1] = a11*u[i] + a12*v[i] + b11*ag[i] + b12*ag[i+1]\n",
    "        v[i+1] = a21*u[i] + a22*v[i] + b21*ag[i] + b22*ag[i+1]\n",
    "        \n",
    "    umax = max(np.abs(u))\n",
    "    vmax = max(np.abs(v))\n",
    "    amax = w2*umax\n",
    "    return umax,vmax,amax\n",
    "\n",
    "# Sa 伪加速度\n",
    "# import pandas as pd\n",
    "# from StochasticGroundMotionModeling import StochasticGroundMotionModeling\n",
    "# if __name__ == '__main__':\n",
    "    \n",
    "# Stochastic Model\n",
    "plt.figure()\n",
    "\n",
    "# acc0, dt = StochasticGroundMotionModeling(6.69, 20.3, 1223, i)\n",
    "acc0 = ACC\n",
    "dt = 0.01\n",
    "# acc0 = np.array(acc_0)\n",
    "# acc0 = acc0/100\n",
    "acc0 = acc0\n",
    "# dt = 0.02\n",
    "# dt = 0.01\n",
    "n = len(acc0)\n",
    "t0 = np.linspace(0.0,dt*(n-1),n)\n",
    "ag = acc0\n",
    "dnt=0.01\n",
    "# zetas = [0.01,0.02,0.03,0.04,0.05,0.1]\n",
    "zetas = [0.05]\n",
    "\n",
    "num = 5000\n",
    "row = len(zetas)\n",
    "umax = np.zeros((row,num))\n",
    "vmax = np.zeros((row,num))\n",
    "amax = np.zeros((row,num))\n",
    "T = np.linspace(0.01,6.00,num)  #支持更高精度\n",
    "j=0\n",
    "for zeta in zetas: \n",
    "    i = 0\n",
    "    for T1 in T:\n",
    "        omg = 2.0*np.pi/T1\n",
    "        umax[j][i], vmax[j][i], amax[j][i] = solve_nigam_jennings(omg, zeta, ag, dnt) #此处的dnt应该是迭代步长\n",
    "        i = i+1\n",
    "    j += 1 \n",
    "for js in range(j):\n",
    "    plt.loglog(T,amax[js,:],label = r\"damp=%s\" % zetas[js], color = 'gray')\n",
    "    \n",
    "plt.xlabel(r\"周期（s）\",fontsize=10)\n",
    "plt.ylabel(r\"Sa（g）\",fontsize=10)\n",
    "plt.grid(True)\n",
    "plt.xlim(0.1,5)\n",
    "plt.ylim(1e-3, 10)"
   ]
  },
  {
   "cell_type": "code",
   "execution_count": 2,
   "metadata": {},
   "outputs": [
    {
     "name": "stdout",
     "output_type": "stream",
     "text": [
      "c:\\Users\\12734\\OneDrive\\重要文件\\2_SensitivityAnalysis\\Sensitivity-PythonCode\\sensitivity-code\\ResilienceAssessment\\MainProcess\n"
     ]
    },
    {
     "name": "stderr",
     "output_type": "stream",
     "text": [
      "Modified Ibarra-Medina-Krawinkler Model with Bilinear Hysteretic Response\n"
     ]
    },
    {
     "name": "stdout",
     "output_type": "stream",
     "text": [
      "Analysis Completed!\n"
     ]
    },
    {
     "data": {
      "text/plain": [
       "array([0.00109884, 0.00115541, 0.0006338 , 0.07528581, 0.04749543,\n",
       "       0.04166373, 0.05573309, 0.00055466])"
      ]
     },
     "execution_count": 2,
     "metadata": {},
     "output_type": "execute_result"
    }
   ],
   "source": [
    "# import modules\n",
    "import numpy as np\n",
    "import pandas as pd\n",
    "import pathlib\n",
    "import pickle\n",
    "# module for SGMM\n",
    "from StochasticGroundMotionModeling import StochasticGroundMotionModeling\n",
    "# module for NTHA\n",
    "from BuildingObject import Building_object\n",
    "from beam_component import Beam\n",
    "from column_component import Column\n",
    "from steel_material import SteelMaterial\n",
    "from nonlinear_analysis import NonlinearAnalysis\n",
    "# module for seismic consequence evaluation\n",
    "from loss_calculation import Data\n",
    "\n",
    "# BASE INFORMATION\n",
    "os.chdir(r\"c:\\Users\\12734\\OneDrive\\重要文件\\2_SensitivityAnalysis\\Sensitivity-PythonCode\\sensitivity-code\")\n",
    "cwdFile = pathlib.Path.cwd()\n",
    "cwdFile = cwdFile / 'ResilienceAssessment' / 'MainProcess'\n",
    "print(cwdFile)\n",
    "buildingDataFile = cwdFile / 'BuildingData'\n",
    "# geometryFile = buildingDataFile / 'Geometry.csv'\n",
    "memberSizeFile = buildingDataFile / 'MemberSize.csv'\n",
    "loadsFile = buildingDataFile / 'Loads.csv'\n",
    "\n",
    "member_size = pd.read_csv(memberSizeFile)\n",
    "gravity_loads = pd.read_csv(loadsFile)\n",
    "directory = {}\n",
    "directory = {'building data': buildingDataFile}\n",
    "building = Building_object(directory, member_size, gravity_loads)\n",
    "\n",
    "# beams\n",
    "beamSizeFile = buildingDataFile / 'beamsectionsize.csv'\n",
    "SectionDatabaseFile = cwdFile / 'AllSectionDatabase.csv'\n",
    "SectionDatabase = pd.read_csv(SectionDatabaseFile)\n",
    "\n",
    "steel = SteelMaterial(yield_stress=50, ultimate_stress=65, elastic_modulus=29000,\n",
    "                        Ry_value=1.1)  # Unit: ksi\n",
    "# 创建包含梁信息的嵌套字典\n",
    "beam_section_size = pd.read_csv(beamSizeFile)\n",
    "beams = {}\n",
    "length = int(building.geometry['X bay width'])\n",
    "for _, row in beam_section_size.iterrows():\n",
    "    level, bay = map(int, row[:2])\n",
    "    bsection_size = {'size': row[2]}\n",
    "    beams.setdefault(level, {})\n",
    "    beams[level].setdefault(bay, {})\n",
    "    beams[level][bay] = Beam(bsection_size['size'], length, steel, SectionDatabase)\n",
    "\n",
    "# elastic demand\n",
    "elasticDemandFile = cwdFile / 'elastic_demand.pkl'\n",
    "with open(elasticDemandFile, 'rb') as f:\n",
    "    elastic_demand = pickle.load(f)\n",
    "\n",
    "# column\n",
    "columnSizeFile = buildingDataFile / 'columnsectionsize.csv'\n",
    "SectionDatabaseFile = cwdFile / 'AllSectionDatabase.csv'\n",
    "SectionDatabase = pd.read_csv(SectionDatabaseFile)\n",
    "\n",
    "steel = SteelMaterial(yield_stress=50, ultimate_stress=65, elastic_modulus=29000,\n",
    "                        Ry_value=1.1)  # Unit: ksi\n",
    "\n",
    "# 构建包含柱信息的嵌套字典\n",
    "column_section_size = pd.read_csv(columnSizeFile)\n",
    "columns = {}\n",
    "for _, row in column_section_size.iterrows():\n",
    "    story, pier = map(int, row[:2])\n",
    "    csection_size = {'size': row[2]}\n",
    "    columns.setdefault(story, {})\n",
    "    columns[story].setdefault(bay, {})\n",
    "    axial_demand = abs(elastic_demand.dominate_load['column axial'][story, 2 * pier])\n",
    "    Lx = (building.geometry['floor height'][story+1] - building.geometry['floor height'][story]).item()\n",
    "    Ly = Lx\n",
    "    columns[story][pier] = Column(csection_size['size'], axial_demand, Lx, Ly, steel, SectionDatabase)\n",
    "baseFile = cwdFile\n",
    "nSample = 1\n",
    "edpOutput = np.empty((nSample, 8))\n",
    "costOutput = np.empty(nSample)  # results\n",
    "dt = 0.01\n",
    "ACC = ACC.tolist()\n",
    "edpResult = NonlinearAnalysis(building, columns, beams, baseFile, ACC, dt, m_b, kesi)\n",
    "edpResult"
   ]
  },
  {
   "cell_type": "markdown",
   "metadata": {},
   "source": [
    "# 实验loss calculation multioutput代码的有效性"
   ]
  },
  {
   "cell_type": "code",
   "execution_count": 1,
   "metadata": {},
   "outputs": [],
   "source": [
    "import numpy as np\n",
    "from loss_calculation_multioutput import Data\n",
    "import os\n",
    "\n",
    "\n",
    "os.chdir(r\"c:\\Users\\12734\\OneDrive\\重要文件\\2_SensitivityAnalysis\\Sensitivity-PythonCode\\sensitivity-code\")\n",
    "input = np.array([[7.965637523680925369e+00, 7.807295236736536026e+01, 1.329014329332858324e+03, 2.762317843735218048e-01,\n",
    "                  9.220246216817944429e-01, 4.623287566006183819e-02, 4.675927665084600449e-02, 1.003561423259697438e+00,\n",
    "                  1.024348543391025101e+00, 6.409580939327335081e-01, 8.932387341653413859e-01, 8.091168696387407433e-01,\n",
    "                  1.011655647660180790e+00, 1.058744054287671932e-02, 3.267620566301048246e-01, 1.024904189320902104e+00]])\n",
    "M, R, V_s30, F, m_b, kesi, P_nsq, M_bcj, M_gcw, M_wp, M_sc, M_ele, M_hvac, M_rf, S_rf, C_rep = input[0, :]\n",
    "data = Data(P_nsq, M_bcj, M_gcw, M_wp, M_sc, M_ele, M_hvac)\n",
    "# edpResult = np.array([4.95981904e-04, 5.27656221e-04, 3.07870110e-04, 4.59117351e-02,\n",
    "#                       1.89238564e-02, 2.25001922e-02, 2.78918384e-02, 4.02149940e-05])\n",
    "# edpResult = np.array([0.05, 0.05, 0.05, 1, 1, 1, 1, 0.0001])\n",
    "edpResult = np.array([9.87566784e-04, 1.02621841e-03, 6.47299144e-04, 7.23327684e-02,\n",
    "                      4.91731789e-02, 5.35190084e-02, 5.82767915e-02, 6.62515780e-05])\n",
    "IDR = edpResult[:3]\n",
    "PFA = edpResult[3:7]\n",
    "RIDR = edpResult[7]\n",
    "IDR = np.tile(IDR, (1000, 1))\n",
    "PFA = np.tile(PFA, (1000, 1))\n",
    "RIDR = np.tile(RIDR, (1000, 1))\n",
    "costOut_mean = data.costOut(IDR, PFA, RIDR, M_rf, S_rf, C_rep)"
   ]
  },
  {
   "cell_type": "code",
   "execution_count": 2,
   "metadata": {},
   "outputs": [
    {
     "data": {
      "text/plain": [
       "0.0"
      ]
     },
     "execution_count": 2,
     "metadata": {},
     "output_type": "execute_result"
    }
   ],
   "source": [
    "np.mean(costOut_mean)"
   ]
  },
  {
   "cell_type": "code",
   "execution_count": 9,
   "metadata": {},
   "outputs": [
    {
     "name": "stdout",
     "output_type": "stream",
     "text": [
      "8303241.6214715475\n",
      "9752349.928829642\n"
     ]
    }
   ],
   "source": [
    "maxRepairCost, _, _, _ = data.cal_repair(IDR, PFA, 1000, worstCase=1)\n",
    "print(np.mean(maxRepairCost))\n",
    "print(np.max(maxRepairCost))"
   ]
  },
  {
   "cell_type": "code",
   "execution_count": 6,
   "metadata": {},
   "outputs": [
    {
     "name": "stdout",
     "output_type": "stream",
     "text": [
      "拟合得到的参数：\n",
      "mu = -7.985067842871238\n",
      "sigma = 0.5627670771602907\n"
     ]
    }
   ],
   "source": [
    "import numpy as np\n",
    "from scipy.optimize import curve_fit\n",
    "from scipy.stats import lognorm\n",
    "\n",
    "\n",
    "def pro(p, s, loc):\n",
    "    x = lognorm.ppf(p, s=s, loc=loc)\n",
    "    return x\n",
    "# 定义最小二乘法拟合函数\n",
    "def fit_lognormal(x, y):\n",
    "    x_sorted = np.sort(x)\n",
    "    y_sorted = np.sort(y)\n",
    "    # p0 = [np.mean(x_sorted), np.std(x_sorted)]  # 初始猜测的参数值使用均值和标准差\n",
    "    # p0 = [np.std(x_sorted), np.mean(x_sorted)]  # 初始猜测的参数值使用均值和标准差\n",
    "    p0 = [1, 0.7]  # 初始猜测的参数值使用均值和标准差\n",
    "    \n",
    "    \n",
    "    params, pcov = curve_fit(lognorm.ppf, y_sorted, x_sorted, p0)\n",
    "    sigma, mu = params\n",
    "    return mu, sigma\n",
    "\n",
    "# 输入分位值和对应的数据\n",
    "x = np.array([0.0005, 0.00105, 0.0026])\n",
    "# x = np.array([0.02, 0.042, 0.104])\n",
    "x = np.log(x)\n",
    "y = np.array([0.1, 0.5, 0.9])  # 分位值对应的百分比为0.1, 0.5, 0.9\n",
    "\n",
    "# 最小二乘法拟合\n",
    "mu, sigma = fit_lognormal(x, y)\n",
    "\n",
    "# 输出拟合结果\n",
    "print(\"拟合得到的参数：\")\n",
    "print(\"mu =\", mu)\n",
    "print(\"sigma =\", sigma)\n"
   ]
  },
  {
   "cell_type": "code",
   "execution_count": 46,
   "metadata": {},
   "outputs": [
    {
     "name": "stdout",
     "output_type": "stream",
     "text": [
      "32829.47967726992\n",
      "12330.796951109389\n",
      "4924.421951590488\n",
      "10481.177408442982\n",
      "15405.599360033468\n",
      "15325.21739792794\n"
     ]
    }
   ],
   "source": []
  }
 ],
 "metadata": {
  "kernelspec": {
   "display_name": "py310r",
   "language": "python",
   "name": "python3"
  },
  "language_info": {
   "codemirror_mode": {
    "name": "ipython",
    "version": 3
   },
   "file_extension": ".py",
   "mimetype": "text/x-python",
   "name": "python",
   "nbconvert_exporter": "python",
   "pygments_lexer": "ipython3",
   "version": "3.10.12"
  },
  "orig_nbformat": 4
 },
 "nbformat": 4,
 "nbformat_minor": 2
}
