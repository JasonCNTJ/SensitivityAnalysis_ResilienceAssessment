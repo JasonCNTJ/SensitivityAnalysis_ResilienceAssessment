{
 "cells": [
  {
   "cell_type": "markdown",
   "metadata": {},
   "source": [
    "# Main Process\n",
    "Stochastic Model + Nonlinear Model + Resilience Assessment"
   ]
  },
  {
   "cell_type": "code",
   "execution_count": 1,
   "metadata": {},
   "outputs": [],
   "source": [
    "# import modules\n",
    "import numpy as np\n",
    "import pandas as pd\n",
    "import openseespy as ops\n",
    "import pathlib\n",
    "import pickle\n",
    "import random\n",
    "# module for SGMM\n",
    "\n",
    "# module for NTHA\n",
    "from BuildingObject import Building_object\n",
    "from beam_component import Beam\n",
    "from column_component import Column\n",
    "from steel_material import SteelMaterial\n",
    "from nonlinear_analysis import NonlinearAnalysis\n",
    "from StochasticGroundMotionModeling import StochasticGroundMotionModeling\n",
    "from loss_calculation import Data"
   ]
  },
  {
   "cell_type": "code",
   "execution_count": 2,
   "metadata": {},
   "outputs": [],
   "source": [
    "# BASE INFORMATION\n",
    "cwdFile = pathlib.Path.cwd()\n",
    "buildingDataFile = cwdFile /'BuildingData'\n",
    "geometryFile = buildingDataFile / 'Geometry.csv'\n",
    "memberSizeFile = buildingDataFile / 'MemberSize.csv'\n",
    "loadsFile = buildingDataFile / 'Loads.csv'\n",
    "\n",
    "member_size = pd.read_csv(memberSizeFile)\n",
    "gravity_loads = pd.read_csv(loadsFile)\n",
    "directory = {}\n",
    "directory = {'building data': buildingDataFile}\n",
    "building = Building_object(directory, member_size, gravity_loads)\n",
    "\n",
    "# beams\n",
    "beamSizeFile = buildingDataFile / 'beamsectionsize.csv'\n",
    "SectionDatabaseFile = cwdFile / 'AllSectionDatabase.csv'\n",
    "SectionDatabase = pd.read_csv(SectionDatabaseFile)\n",
    "\n",
    "steel = SteelMaterial(yield_stress=50, ultimate_stress=65, elastic_modulus=29000, \n",
    "                      Ry_value=1.1)  # Unit: ksi\n",
    "# 创建包含梁信息的嵌套字典\n",
    "beam_section_size = pd.read_csv(beamSizeFile)\n",
    "beams = {}\n",
    "length = int(building.geometry['X bay width'])\n",
    "for _, row in beam_section_size.iterrows():\n",
    "    level, bay = map(int, row[:2])\n",
    "    bsection_size = {'size': row[2]}\n",
    "    beams.setdefault(level, {})\n",
    "    beams[level].setdefault(bay, {})\n",
    "    beams[level][bay] = Beam(bsection_size['size'], length, steel,SectionDatabase)\n",
    "    \n",
    "# elastic demand\n",
    "elasticDemandFile = cwdFile / 'elastic_demand.pkl'\n",
    "with open(elasticDemandFile, 'rb') as f:\n",
    "    elastic_demand = pickle.load(f)\n",
    "\n",
    "# column\n",
    "columnSizeFile = buildingDataFile / 'columnsectionsize.csv'\n",
    "SectionDatabaseFile = cwdFile / 'AllSectionDatabase.csv'\n",
    "SectionDatabase = pd.read_csv(SectionDatabaseFile)\n",
    "\n",
    "steel = SteelMaterial(yield_stress=50, ultimate_stress=65, elastic_modulus=29000, \n",
    "                      Ry_value=1.1)  # Unit: ksi\n",
    "\n",
    "# 构建包含柱信息的嵌套字典\n",
    "column_section_size = pd.read_csv(columnSizeFile)\n",
    "columns = {}\n",
    "for _, row in column_section_size.iterrows():\n",
    "    story, pier = map(int, row[:2])\n",
    "    csection_size = {'size': row[2]}\n",
    "    columns.setdefault(story, {})\n",
    "    columns[story].setdefault(bay, {})\n",
    "    axial_demand = abs(elastic_demand.dominate_load['column axial'][story, 2 * pier])\n",
    "    Lx = (building.geometry['floor height'][story+1] - building.geometry['floor height'][story]).item()\n",
    "    Ly = Lx\n",
    "    columns[story][pier] = Column(csection_size['size'], axial_demand, Lx, Ly, steel, SectionDatabase)\n",
    "\n",
    "baseFile = cwdFile"
   ]
  },
  {
   "cell_type": "code",
   "execution_count": null,
   "metadata": {},
   "outputs": [],
   "source": []
  },
  {
   "cell_type": "code",
   "execution_count": 3,
   "metadata": {},
   "outputs": [
    {
     "name": "stdout",
     "output_type": "stream",
     "text": [
      "0\n"
     ]
    },
    {
     "name": "stderr",
     "output_type": "stream",
     "text": [
      "Modified Ibarra-Medina-Krawinkler Model with Bilinear Hysteretic Response\n"
     ]
    },
    {
     "name": "stdout",
     "output_type": "stream",
     "text": [
      "Analysis Completed!\n",
      "[0.00487869 0.00476931 0.00265371 0.28023853 0.19000926 0.19075288\n",
      " 0.22818147 0.0010101 ]\n",
      "72814.20669990484\n"
     ]
    }
   ],
   "source": [
    "nSample = 1\n",
    "edpOutput = np.zeros((nSample, 8))\n",
    "costOutput = np.zeros(nSample)\n",
    "np.random.seed(2)  # 确保结果可以复现\n",
    "for i in range(nSample):\n",
    "    print(i)\n",
    "    # whichone = random.randint(0, 999)\n",
    "    ACC, tn = StochasticGroundMotionModeling(7.62, 19.3, 602, 0)\n",
    "    # NTHA\n",
    "    dt = 0.01\n",
    "    ACC = ACC.tolist()\n",
    "    edpResult = NonlinearAnalysis(building, columns, beams, baseFile, ACC, dt)\n",
    "    edpOutput[i, :] = edpResult\n",
    "    print(edpResult)\n",
    "    data = Data()\n",
    "    IDR = edpResult[:3]\n",
    "    PFA = edpResult[3:7]\n",
    "    frameCost, sframeCost, nframeCost, cframeCost = data.cal_repair(IDR, PFA)\n",
    "    print(frameCost)\n",
    "    costOutput[i] = frameCost"
   ]
  },
  {
   "cell_type": "code",
   "execution_count": 4,
   "metadata": {},
   "outputs": [],
   "source": [
    "# import pickle\n",
    "# import os\n",
    "# os.chdir(cwdFile)\n",
    "# file = open('edpOutput.pickle', 'wb')\n",
    "# pickle.dump(edpOutput, file)\n",
    "# file.close()\n",
    "\n",
    "# file = open('costOutput.pickle', 'wb')\n",
    "# pickle.dump(costOutput, file)\n",
    "# file.close()"
   ]
  },
  {
   "cell_type": "code",
   "execution_count": 5,
   "metadata": {},
   "outputs": [],
   "source": [
    "# with open('edpOutput.pickle', 'rb') as file:\n",
    "#     dict_get = pickle.load(file)\n",
    "# print(dict_get)"
   ]
  },
  {
   "cell_type": "code",
   "execution_count": 6,
   "metadata": {},
   "outputs": [],
   "source": [
    "# import matplotlib.pyplot as plt\n",
    "# plt.hist(costOutput, bins=50)"
   ]
  },
  {
   "cell_type": "code",
   "execution_count": 7,
   "metadata": {},
   "outputs": [],
   "source": [
    "# IDR = np.array([4.89864183e-03, 4.80458308e-03, 2.76950154e-03])\n",
    "# PFA = np.array([3.77184274e-01, 1.96116983e-01, 1.82918742e-01, 2.32016048e-01])\n",
    "# data = Data()\n",
    "# np.random.seed(1)  # 确保结果可以复现\n",
    "# frameCost, sframeCost, nframeCost, cframeCost = data.cal_repair(IDR, PFA)\n",
    "# frameCost"
   ]
  },
  {
   "cell_type": "code",
   "execution_count": 8,
   "metadata": {},
   "outputs": [],
   "source": [
    "# # SGMM\n",
    "# from StochasticGroundMotionModeling import StochasticGroundMotionModeling\n",
    "# import matplotlib.pyplot as plt\n",
    "# # StochasticGroundMotionModeling(M, R, Vs, whichone, num=100, tn=40, F=1)\n",
    "# ACC, tn = StochasticGroundMotionModeling(6.61, 19.3, 602, 0)\n",
    "# t = np.arange(0, tn + 0.01, 0.01)\n",
    "# plt.plot(t, ACC, linewidth=0.5)\n",
    "# plt.xlabel('time (s)')\n",
    "# plt.ylabel('acc (g)')\n",
    "# plt.title('acc history')\n",
    "# plt.grid(True)\n",
    "# plt.show()"
   ]
  },
  {
   "cell_type": "code",
   "execution_count": 9,
   "metadata": {},
   "outputs": [],
   "source": [
    "# # NTHA\n",
    "# dt = 0.01\n",
    "# ACC = ACC.tolist()\n",
    "# edpResult = NonlinearAnalysis(building, columns, beams, baseFile, ACC, dt)"
   ]
  },
  {
   "cell_type": "code",
   "execution_count": 10,
   "metadata": {},
   "outputs": [],
   "source": [
    "# print(edpResult)"
   ]
  },
  {
   "cell_type": "code",
   "execution_count": 11,
   "metadata": {},
   "outputs": [],
   "source": [
    "# edpResult[3:7]"
   ]
  },
  {
   "cell_type": "code",
   "execution_count": 12,
   "metadata": {},
   "outputs": [],
   "source": [
    "# from loss_calculation import Data\n",
    "# data = Data()\n",
    "# IDR = edpResult[:3]\n",
    "# PFA = edpResult[3:7]\n",
    "# frameCost, sframeCost, nframeCost, cframeCost = data.cal_repair(IDR, PFA)"
   ]
  },
  {
   "cell_type": "code",
   "execution_count": 13,
   "metadata": {},
   "outputs": [],
   "source": [
    "# frameCost"
   ]
  },
  {
   "cell_type": "code",
   "execution_count": 14,
   "metadata": {},
   "outputs": [],
   "source": [
    "# import matplotlib.pyplot as plt\n",
    "# import numpy as np\n",
    "# t = np.arange(0, 4001*0.01+0.002, 0.001)\n",
    "\n",
    "# print(t.shape)\n",
    "# print(U.shape)\n",
    "# plt.figure(figsize = (12,4))\n",
    "# plt.plot(t, U, linewidth = 1)"
   ]
  }
 ],
 "metadata": {
  "kernelspec": {
   "display_name": "py310r",
   "language": "python",
   "name": "python3"
  },
  "language_info": {
   "codemirror_mode": {
    "name": "ipython",
    "version": 3
   },
   "file_extension": ".py",
   "mimetype": "text/x-python",
   "name": "python",
   "nbconvert_exporter": "python",
   "pygments_lexer": "ipython3",
   "version": "3.10.12"
  },
  "orig_nbformat": 4
 },
 "nbformat": 4,
 "nbformat_minor": 2
}
