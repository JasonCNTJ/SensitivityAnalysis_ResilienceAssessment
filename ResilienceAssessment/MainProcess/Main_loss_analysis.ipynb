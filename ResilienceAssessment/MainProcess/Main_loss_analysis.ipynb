{
 "cells": [
  {
   "cell_type": "markdown",
   "metadata": {},
   "source": [
    "### Main for Loss analysis\n",
    "Author: Jiajun Du, 2022"
   ]
  },
  {
   "cell_type": "code",
   "execution_count": 1,
   "metadata": {},
   "outputs": [],
   "source": [
    "# import library\n",
    "import numpy as np\n",
    "import pandas as pd\n",
    "import os\n",
    "import matplotlib.pyplot as plt\n",
    "import time\n",
    "from FragilityData import Data"
   ]
  },
  {
   "cell_type": "code",
   "execution_count": 2,
   "metadata": {},
   "outputs": [],
   "source": [
    "# IMs: 0.175 0.425 0.675 0.925 1.175 1.425 1.675 1.925\n",
    "# POC: 0       0     0    1     3     16     40    67\n",
    "# IMs = np.arange(0.175,2.175,0.25)\n",
    "# Poc = np.array([0, 0, 0, 1, 3, 16, 40, 67])\n",
    "# 只需更改：\n",
    "IM = 1.925\n",
    "Poc = 67\n",
    "\n",
    "edp_data = pd.read_excel('edp_matrix_%s.xlsx' % (str(IM)), index_col=0)\n",
    "EDP = edp_data.to_numpy()\n",
    "# EDP\n",
    "# idr1 idr2 idr3 a0 a1 a2 a3 ridr\n",
    "\n",
    "# collapse or not\n",
    "\n",
    "# generate 10000 random numbers\n",
    "Initial_realizations = np.random.randint(1,101,10000)\n",
    "Collpase_index = Initial_realizations <= Poc\n",
    "Nocollapse_index = Initial_realizations > Poc\n",
    "EDP_NC = EDP[Nocollapse_index]   # 找出没有倒塌的Realizations\n",
    "\n",
    "rows, cols = np.shape(EDP_NC)\n",
    "\n",
    "# 计算被判定为倒塌的Realization的耗费\n",
    "ReplacementCost = 9954000\n",
    "# 被判定为倒塌的Realizaitons 的数量\n",
    "num_collapse = 10000 - rows\n",
    "# 初始化费用矩阵\n",
    "Cost_matrix = np.zeros(10000)\n",
    "Cost_matrix[:num_collapse] = ReplacementCost #将重置成本填入Cost_matrix\n",
    "\n",
    "# Instantiate data class\n",
    "data = Data()"
   ]
  },
  {
   "cell_type": "code",
   "execution_count": 3,
   "metadata": {},
   "outputs": [
    {
     "data": {
      "text/plain": [
       "(array([ 789., 1062.,   51.,    0.,    0.,    0.,    0.,    0.,    0.,\n",
       "        8098.]),\n",
       " array([ 117177.95472125, 1100860.15924913, 2084542.363777  ,\n",
       "        3068224.56830488, 4051906.77283275, 5035588.97736063,\n",
       "        6019271.1818885 , 7002953.38641638, 7986635.59094425,\n",
       "        8970317.79547212, 9954000.        ]),\n",
       " <BarContainer object of 10 artists>)"
      ]
     },
     "execution_count": 3,
     "metadata": {},
     "output_type": "execute_result"
    },
    {
     "data": {
      "image/png": "[encoded data removed]",
      "text/plain": [
       "<Figure size 432x288 with 1 Axes>"
      ]
     },
     "metadata": {
      "needs_background": "light"
     },
     "output_type": "display_data"
    }
   ],
   "source": [
    "# 遍历每一次 Realization\n",
    "for i in range(rows):\n",
    "    # max_ridr\n",
    "    max_ridr = EDP_NC[i,-1]\n",
    "    objPercent = data.get_prob_resi(max_ridr)\n",
    "    RIDR_realizations = np.random.randint(1,101,1)\n",
    "    # NR_index = RIDR_realizations <= objPercent\n",
    "    # R_index = RIDR_realizations > objPercent\n",
    "    if RIDR_realizations <= objPercent:\n",
    "        # 不可以修复，按照倒塌计算\n",
    "        Cost_matrix[num_collapse+i] = ReplacementCost\n",
    "    elif RIDR_realizations > objPercent:\n",
    "        # 可以修复\n",
    "        IDR = EDP_NC[i,:3]\n",
    "        PFA = EDP_NC[i,3:7]\n",
    "        frameCost, sframeCost, nframeCost, cframeCost = data.cal_repair(IDR, PFA)\n",
    "        Cost_matrix[num_collapse+i] = frameCost\n",
    "\n",
    "# 结果\n",
    "plt.hist(Cost_matrix)"
   ]
  },
  {
   "cell_type": "code",
   "execution_count": 4,
   "metadata": {},
   "outputs": [],
   "source": [
    "a = Cost_matrix[Cost_matrix<9954000]"
   ]
  },
  {
   "cell_type": "code",
   "execution_count": 5,
   "metadata": {},
   "outputs": [
    {
     "data": {
      "text/plain": [
       "(array([ 3.,  2.,  2.,  2.,  4.,  5.,  7.,  7.,  8.,  9., 13., 17., 17.,\n",
       "        16., 16., 27., 19., 28., 29., 24., 16., 25., 26., 30., 27., 22.,\n",
       "        32., 28., 24., 33., 28., 35., 28., 32., 36., 33., 45., 39., 33.,\n",
       "        31., 36., 38., 38., 33., 38., 35., 38., 45., 32., 33., 42., 33.,\n",
       "        34., 35., 38., 31., 35., 36., 26., 41., 35., 17., 21., 27., 25.,\n",
       "        12., 25., 24., 23., 17., 11.,  7., 11., 10.,  9.,  4.,  3.,  7.,\n",
       "         5.,  3.,  3.,  9.,  5.,  3.,  3.,  1.,  1.,  1.,  0.,  1.,  1.,\n",
       "         0.,  1.,  0.,  0.,  0.,  1.,  0.,  0.,  1.]),\n",
       " array([ 117177.95472125,  143178.76033389,  169179.56594653,\n",
       "         195180.37155916,  221181.1771718 ,  247181.98278443,\n",
       "         273182.78839707,  299183.59400971,  325184.39962234,\n",
       "         351185.20523498,  377186.01084762,  403186.81646025,\n",
       "         429187.62207289,  455188.42768553,  481189.23329816,\n",
       "         507190.0389108 ,  533190.84452344,  559191.65013607,\n",
       "         585192.45574871,  611193.26136135,  637194.06697398,\n",
       "         663194.87258662,  689195.67819926,  715196.48381189,\n",
       "         741197.28942453,  767198.09503717,  793198.9006498 ,\n",
       "         819199.70626244,  845200.51187508,  871201.31748771,\n",
       "         897202.12310035,  923202.92871299,  949203.73432562,\n",
       "         975204.53993826, 1001205.3455509 , 1027206.15116353,\n",
       "        1053206.95677617, 1079207.76238881, 1105208.56800144,\n",
       "        1131209.37361408, 1157210.17922672, 1183210.98483935,\n",
       "        1209211.79045199, 1235212.59606463, 1261213.40167726,\n",
       "        1287214.2072899 , 1313215.01290254, 1339215.81851517,\n",
       "        1365216.62412781, 1391217.42974045, 1417218.23535308,\n",
       "        1443219.04096572, 1469219.84657836, 1495220.65219099,\n",
       "        1521221.45780363, 1547222.26341627, 1573223.0690289 ,\n",
       "        1599223.87464154, 1625224.68025417, 1651225.48586681,\n",
       "        1677226.29147945, 1703227.09709208, 1729227.90270472,\n",
       "        1755228.70831736, 1781229.51392999, 1807230.31954263,\n",
       "        1833231.12515527, 1859231.9307679 , 1885232.73638054,\n",
       "        1911233.54199318, 1937234.34760581, 1963235.15321845,\n",
       "        1989235.95883109, 2015236.76444372, 2041237.57005636,\n",
       "        2067238.375669  , 2093239.18128163, 2119239.98689427,\n",
       "        2145240.79250691, 2171241.59811954, 2197242.40373218,\n",
       "        2223243.20934482, 2249244.01495745, 2275244.82057009,\n",
       "        2301245.62618273, 2327246.43179536, 2353247.237408  ,\n",
       "        2379248.04302064, 2405248.84863327, 2431249.65424591,\n",
       "        2457250.45985855, 2483251.26547118, 2509252.07108382,\n",
       "        2535252.87669646, 2561253.68230909, 2587254.48792173,\n",
       "        2613255.29353437, 2639256.099147  , 2665256.90475964,\n",
       "        2691257.71037228, 2717258.51598491]),\n",
       " <BarContainer object of 100 artists>)"
      ]
     },
     "execution_count": 5,
     "metadata": {},
     "output_type": "execute_result"
    },
    {
     "data": {
      "image/png": "[encoded data removed]",
      "text/plain": [
       "<Figure size 432x288 with 1 Axes>"
      ]
     },
     "metadata": {
      "needs_background": "light"
     },
     "output_type": "display_data"
    }
   ],
   "source": [
    "plt.hist(a,bins=100)"
   ]
  },
  {
   "cell_type": "code",
   "execution_count": 6,
   "metadata": {},
   "outputs": [],
   "source": [
    "# 计算给定列表中值的超越概率\n",
    "#  data => 计算出来的损失矩阵； obj_list => 目标值，横坐标\n",
    "def cal_prob_ec_list(data, obj_list):\n",
    "    probList = []\n",
    "    for i in range(len(obj_list)):\n",
    "        if len(data) == 0:\n",
    "            probList.append(0)\n",
    "        else:\n",
    "            probList.append(cal_prob_ec(data, obj_list[i]))\n",
    "    return probList\n",
    "\n",
    "# 计算列表中给定值的超越概率\n",
    "def cal_prob_ec(data, obj):\n",
    "    data = np.sort(data)  # 从小到大排序\n",
    "    if obj >= data[-1]:\n",
    "        per = 0\n",
    "    else:\n",
    "        data = np.append(data, obj)\n",
    "        data = np.sort(data)\n",
    "        per = search_obj(data, obj)\n",
    "    return per * len(data) / 10000\n",
    "\n",
    "# 搜索目标值区域\n",
    "def search_obj(data, obj):\n",
    "    left = 0\n",
    "    right = len(data) - 1\n",
    "    while right >= left:\n",
    "        mid = (left+right)//2\n",
    "        if obj > data[mid]:\n",
    "            left = mid + 1\n",
    "        elif obj < data[mid]:\n",
    "            right = mid - 1\n",
    "        else:\n",
    "            return (len(data)-1-mid)/(len(data)-1)\n",
    "    else:\n",
    "        return -1\n",
    "\n"
   ]
  },
  {
   "cell_type": "code",
   "execution_count": 7,
   "metadata": {},
   "outputs": [
    {
     "data": {
      "text/plain": [
       "[<matplotlib.lines.Line2D at 0x1d63318aa90>]"
      ]
     },
     "execution_count": 7,
     "metadata": {},
     "output_type": "execute_result"
    },
    {
     "data": {
      "image/png": "[encoded data removed]",
      "text/plain": [
       "<Figure size 432x288 with 1 Axes>"
      ]
     },
     "metadata": {
      "needs_background": "light"
     },
     "output_type": "display_data"
    }
   ],
   "source": [
    "objList = [0.05*i for i in range(1,60)]\n",
    "y = cal_prob_ec_list(Cost_matrix/1e6,objList)\n",
    "plt.plot(objList, y)\n"
   ]
  },
  {
   "cell_type": "code",
   "execution_count": 8,
   "metadata": {},
   "outputs": [],
   "source": [
    "# IMs = np.arange(0.175,2.175,0.25)\n"
   ]
  },
  {
   "cell_type": "code",
   "execution_count": 9,
   "metadata": {},
   "outputs": [],
   "source": [
    "# from tkinter import PROJECTING\n",
    "# import numpy as np\n",
    "# import matplotlib.pyplot as plt\n",
    "# from mpl_toolkits.mplot3d import Axes3D\n",
    "\n",
    "# IMs = np.arange(0.175,2.175,0.25)\n",
    "\n",
    "# # 构造需要显示的值\n",
    "# # IMs = np.arange(0.175,2.175,0.25)\n",
    "# X = IMs\n",
    "# Y = objList\n",
    "# Z = np.zeros(shape = (len(X),len(Y)))\n",
    "# # 设置每一个（X，Y）对应的Z轴坐标\n",
    "# Z[0,:] = y\n",
    "\n",
    "# xx, yy = np.meshgrid(X,Y)  # 网格化坐标\n",
    "# X, Y = xx.ravel(), yy.ravel() # 矩阵扁平化\n",
    "# bottom = np.zeros_like(X)\n",
    "# Z = Z.ravel() # \n",
    "\n",
    "# width = height = 0.1\n",
    "\n",
    "# #绘图设置\n",
    "# fig = plt.figure()\n",
    "# ax = fig.gca(projection = '3d')\n",
    "# ax.bar3d(X, Y, bottom, width, height, Z, shade = True)\n",
    "\n",
    "# # 坐标轴设置\n",
    "# ax.set_xlabel('Sa')\n",
    "# ax.set_ylabel('Repair Cost')\n",
    "# ax.set_zlabel('AoE')"
   ]
  },
  {
   "cell_type": "code",
   "execution_count": 10,
   "metadata": {},
   "outputs": [],
   "source": [
    "# from mpl_toolkits.mplot3d import Axes3D\n",
    "# import matplotlib.pyplot as plt\n",
    "# from matplotlib import cm\n",
    "# from matplotlib.ticker import LinearLocator, FormatStrFormatter\n",
    "# import numpy as np\n",
    "\n",
    "\n",
    "\n",
    "# fig = plt.figure()\n",
    "# ax = fig.gca(projection='3d')\n",
    " \n",
    "# # Make data.\n",
    "# X = IMs\n",
    "# Y = objList\n",
    "# Z = np.zeros(shape = (len(Y),len(X)))\n",
    "# for i in range(len(X)):\n",
    "#     Z[:,i] = y\n",
    "\n",
    "# X, Y = np.meshgrid(X, Y)\n",
    "\n",
    "# # 设置每一个（X，Y）对应的Z轴坐标\n",
    "\n",
    "# # Z = X**2 + Y**2\n",
    "# # Z = Z.tolist()\n",
    "\n",
    "\n",
    "# # Plot the surface.\n",
    "# surf = ax.plot_surface(X, Y, Z, cmap=cm.coolwarm,\n",
    "#                        linewidth=0, antialiased=False)\n",
    "\n",
    "# # Customize the z axis.\n",
    "# # ax.set_zlim(-1.01, 1.01)\n",
    "# # ax = fig.add_axes(MyAxes3D(ax, 'l'))\n",
    "# ax.zaxis.set_major_locator(LinearLocator(10))\n",
    "# ax.zaxis.set_major_formatter(FormatStrFormatter('%.02f'))\n",
    " \n",
    "# # Add a color bar which maps values to colors.\n",
    "# # fig.colorbar(surf, shrink=0.5, aspect=5)\n",
    "\n",
    "# # 坐标轴设置\n",
    "# ax.set_xlabel('Sa')\n",
    "# ax.set_ylabel('Repair Cost')\n",
    "# ax.set_zlabel('AoE')\n",
    "# ax.set_zticks([0,0.25,0.5,0.75,1])\n",
    "\n",
    "# plt.show()"
   ]
  },
  {
   "cell_type": "code",
   "execution_count": 11,
   "metadata": {},
   "outputs": [
    {
     "name": "stderr",
     "output_type": "stream",
     "text": [
      "c:\\ProgramData\\Anaconda3\\lib\\site-packages\\xlsxwriter\\workbook.py:339: UserWarning: Calling close() on already closed file.\n",
      "  warn(\"Calling close() on already closed file.\")\n"
     ]
    }
   ],
   "source": [
    "re = np.asarray(y).reshape(59,1)\n",
    "data = pd.DataFrame(re)\n",
    "writer = pd.ExcelWriter('re.xlsx')\n",
    "data.to_excel(writer,'MRF_LA')\n",
    "writer.save()\n",
    "writer.close()"
   ]
  }
 ],
 "metadata": {
  "kernelspec": {
   "display_name": "Python 3.9.12 ('base')",
   "language": "python",
   "name": "python3"
  },
  "language_info": {
   "codemirror_mode": {
    "name": "ipython",
    "version": 3
   },
   "file_extension": ".py",
   "mimetype": "text/x-python",
   "name": "python",
   "nbconvert_exporter": "python",
   "pygments_lexer": "ipython3",
   "version": "3.9.12"
  },
  "orig_nbformat": 4,
  "vscode": {
   "interpreter": {
    "hash": "ad2bdc8ecc057115af97d19610ffacc2b4e99fae6737bb82f5d7fb13d2f2c186"
   }
  }
 },
 "nbformat": 4,
 "nbformat_minor": 2
}
